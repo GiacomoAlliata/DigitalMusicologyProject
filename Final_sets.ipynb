{
 "cells": [
  {
   "cell_type": "markdown",
   "metadata": {},
   "source": [
    "<div style=\"border:1px solid black; padding:10px 10px; background-color: #FBE7C6;\"> \n",
    "    <div style = \"font-size:25px; text-align:center;\"><strong>Chord group analysis</strong></div>\n",
    "</div>"
   ]
  },
  {
   "cell_type": "markdown",
   "metadata": {},
   "source": [
    "On the hypothesis that the chorus is a subset of the verse we have investigated the difference in the sets represented by the chords found in the verse and in the chorus.\n",
    "\n",
    "Our analysis have shown that the hypothesis is not confirmed, it is even slighty the opposite. The verse and chorus sharing on average 80% of their chords. The chorus being richer in 40% of the songs, the same can be said for the verses in 30 % of the songs, the rest have a chorus and verse of equal diversity. We have looked into each of these groups to see if we could find any relevant differences.\n",
    "\n",
    "#### Method\n",
    "Each song was analysed in a set representation of their chords, the chords were assigned to the group chorus, verse, or both in regards to where they appeared. For instance a chord 7min found in only the chorus would go in the set \"chorus_only\". The result was three vector with no matching chords. The vector chorus and verse holding the most element gives their name to the majority, in case of equality it is tagged \"equal\".\n",
    "For the sake of clarity we chose to simplify the data with the relative chords and three shorthands (maj, min, other).\n",
    "\n"
   ]
  },
  {
   "cell_type": "code",
   "execution_count": null,
   "metadata": {},
   "outputs": [],
   "source": [
    "#functions to prepare the dataset of subsets\n",
    "\n",
    "def chord_to_lists(chord_lists):\n",
    "    array=[]\n",
    "    for chord_list in chord_lists :\n",
    "        for chord in chord_list:\n",
    "            array.append(chord)\n",
    "    return (list(set(array)))\n",
    "\n",
    "\n",
    "def length_of_set(df,subset,majority=\"\"):\n",
    "    if(majority!=\"\"):\n",
    "        b=pd.DataFrame(df[df[\"majority\"]==majority][subset].map(lambda y: len(y)))\n",
    "    else:\n",
    "         b=pd.DataFrame(df[subset].map(lambda y: len(y)))\n",
    "    b=b[b[subset]!=0]\n",
    "    return b[subset]\n",
    "\n",
    "\n",
    "def compare(chorus_verse) :\n",
    "     '''Compare two lists to create a dictionnary with the lists of the chords found only in the chorus (chorus_only),\n",
    "     verse (verse_only), both (intersection), the longuest vector is also placed in the section majority, and the ratio\n",
    "     compares the overlap of the chorus and verse, chorus/verse in case that the verse is more diverse than the chorus and \n",
    "     vice versa. '''\n",
    "        \n",
    "    chorus=chorus_verse[0].copy()\n",
    "    verse=chorus_verse[1].copy()\n",
    "    length_chorus=len(chorus)\n",
    "    length_verse=len(verse)  \n",
    "    data={}\n",
    "    data[\"intersection\"]=[]\n",
    "    data[\"chorus_only\"]=chorus.copy()\n",
    "    data[\"verse_only\"]=verse.copy()\n",
    "    data[\"majority\"]=\"\"\n",
    "    data[\"ratio\"]=0\n",
    "    \n",
    "    if(length_chorus>length_verse) :\n",
    "        for element in verse :\n",
    "            if(element in chorus) :\n",
    "                data[\"intersection\"].append(element)\n",
    "                data[\"verse_only\"].remove(element)\n",
    "                data[\"chorus_only\"].remove(element)\n",
    "        data[\"ratio\"]= len(data[\"intersection\"])/length_verse   \n",
    "        data[\"majority\"]=\"chorus\"\n",
    "    else :\n",
    "        for element in chorus :\n",
    "            if(element in verse) :\n",
    "                data[\"intersection\"].append(element)\n",
    "                data[\"verse_only\"].remove(element)\n",
    "                data[\"chorus_only\"].remove(element)\n",
    "        data[\"ratio\"]=len(data[\"intersection\"])/length_chorus\n",
    "        if(length_chorus==length_verse) :\n",
    "            data[\"majority\"]=\"equal\"\n",
    "        else :\n",
    "            data[\"majority\"]=\"verse\" \n",
    "    return data"
   ]
  },
  {
   "cell_type": "code",
   "execution_count": null,
   "metadata": {},
   "outputs": [],
   "source": [
    "#functions to prepare the dataset of subsets\n",
    "\n",
    "def chord_to_lists(chord_lists):\n",
    "    array=[]\n",
    "    for chord_list in chord_lists :\n",
    "        for chord in chord_list:\n",
    "            array.append(chord)\n",
    "    return (list(set(array)))\n",
    "\n",
    "\n",
    "def length_of_set(df,subset,majority=\"\"):\n",
    "    if(majority!=\"\"):\n",
    "        b=pd.DataFrame(df[df[\"majority\"]==majority][subset].map(lambda y: len(y)))\n",
    "    else:\n",
    "         b=pd.DataFrame(df[subset].map(lambda y: len(y)))\n",
    "    b=b[b[subset]!=0]\n",
    "    return b[subset]\n",
    "\n",
    "\n",
    "def compare(chorus_verse) :\n",
    "     '''Compare two lists to create a dictionnary with the lists of the chords found only in the chorus (chorus_only),\n",
    "     verse (verse_only), both (intersection), the longuest vector is also placed in the section majority, and the ratio\n",
    "     compares the overlap of the chorus and verse, chorus/verse in case that the verse is more diverse than the chorus and \n",
    "     vice versa. '''\n",
    "        \n",
    "    chorus=chorus_verse[0].copy()\n",
    "    verse=chorus_verse[1].copy()\n",
    "    length_chorus=len(chorus)\n",
    "    length_verse=len(verse)  \n",
    "    data={}\n",
    "    data[\"intersection\"]=[]\n",
    "    data[\"chorus_only\"]=chorus.copy()\n",
    "    data[\"verse_only\"]=verse.copy()\n",
    "    data[\"majority\"]=\"\"\n",
    "    data[\"ratio\"]=0\n",
    "    \n",
    "    if(length_chorus>length_verse) :\n",
    "        for element in verse :\n",
    "            if(element in chorus) :\n",
    "                data[\"intersection\"].append(element)\n",
    "                data[\"verse_only\"].remove(element)\n",
    "                data[\"chorus_only\"].remove(element)\n",
    "        data[\"ratio\"]= len(data[\"intersection\"])/length_verse   \n",
    "        data[\"majority\"]=\"chorus\"\n",
    "    else :\n",
    "        for element in chorus :\n",
    "            if(element in verse) :\n",
    "                data[\"intersection\"].append(element)\n",
    "                data[\"verse_only\"].remove(element)\n",
    "                data[\"chorus_only\"].remove(element)\n",
    "        data[\"ratio\"]=len(data[\"intersection\"])/length_chorus\n",
    "        if(length_chorus==length_verse) :\n",
    "            data[\"majority\"]=\"equal\"\n",
    "        else :\n",
    "            data[\"majority\"]=\"verse\" \n",
    "    return data"
   ]
  },
  {
   "cell_type": "markdown",
   "metadata": {},
   "source": [
    "##### Dataset\n",
    "A dataset containing the intersection of the sets of unique chords is created for each song.\n",
    "\"Verse_only\" denotes the chords only found in the verse, \"Chorus_only\" in the chorus, and intersection in both. \n",
    "The \"majority\" column indicates which of the previously mentioned category is the most diverse (longest vector). "
   ]
  },
  {
   "cell_type": "code",
   "execution_count": null,
   "metadata": {},
   "outputs": [],
   "source": [
    "#creates the data frame intersection containing the sub_sets \n",
    "\n",
    "chord_lists=beats_collection_df[ (beats_collection_df[\"section_type\"] ==\"chorus\") | (beats_collection_df[\"section_type\"] ==\"verse\") ]\n",
    "chord_lists=squeeze_section(df)\n",
    "chord_lists=dfs.groupby([\"song_id\",\"section_type\"]).agg_chord_label.agg(chord_to_lists)\n",
    "chord_lists=pd.DataFrame(chord_lists)\n",
    "\n",
    "intersection=pd.DataFrame(chord_lists.groupby([\"song_id\"]).agg_chord_label.agg(compare))\n",
    "for key in [\"intersection\",\"majority\",\"ratio\",\"verse_only\",\"chorus_only\"]:\n",
    "    intersection[key]=intersection.agg_chord_label.map(lambda y: y[key])\n",
    "intersection.drop(columns=\"agg_chord_label\",inplace=True)"
   ]
  },
  {
   "cell_type": "code",
   "execution_count": null,
   "metadata": {},
   "outputs": [],
   "source": [
    "intersection.head(5)"
   ]
  },
  {
   "cell_type": "code",
   "execution_count": null,
   "metadata": {},
   "outputs": [],
   "source": [
    "print(intersection[\"majority\"].value_counts())"
   ]
  },
  {
   "cell_type": "markdown",
   "metadata": {},
   "source": [
    "40% of the songs find more diversity in the chorus than verse, 30% in the verse, and the rest of the songs are equally distributed between the two."
   ]
  },
  {
   "cell_type": "code",
   "execution_count": null,
   "metadata": {},
   "outputs": [],
   "source": [
    "data_length=[]\n",
    "for key in [\"intersection\",\"chorus_only\",\"verse_only\"] :\n",
    "    data_length.append(length_of_set(intersection,subset=key))\n",
    "    \n",
    "plt.figure(figsize = (14,7))\n",
    "plt.boxplot(data_length, notch = True, \n",
    "                  bootstrap = 5000, \n",
    "                  showfliers = True, \n",
    "                  showmeans = True)\n",
    "plt.title('Distribution of the number of unique chords found in each section', fontsize = 20)\n",
    "plt.xticks([1,2,3], ['both', 'Chorus', 'Verse'], fontsize = 14)\n",
    "plt.yticks(fontsize = 14)\n",
    "plt.xlabel('Section', fontsize = 18)\n",
    "plt.ylabel('Number of different chord', fontsize = 18)\n",
    "plt.show()\n"
   ]
  },
  {
   "cell_type": "markdown",
   "metadata": {},
   "source": [
    "We observe that the number of chords appearing only in the chorus and in the verse and extremely similar in terms of distribution.\n",
    "\n",
    "The ratio of the groups could inform us on the presence of subsets of one another. If more elements are found in the chorus than the verse then the length of the intersection is divided by the length of the chorus and vice versa if the verse is longer. This value is stored in the ratio column.  \n",
    "\n",
    "Ratio = length(intersection)/length(chorus)\n",
    "\n",
    "in the case that length(chorus)>length(verse)\n",
    "\n",
    "One can observe no significant difference between the verse and chorus in termes of belonging to one another. And they share on average 80% of their chords."
   ]
  },
  {
   "cell_type": "code",
   "execution_count": null,
   "metadata": {},
   "outputs": [],
   "source": [
    "#Three sub datasets based on each category of majority\n",
    "sub_chorus=intersection[intersection[\"majority\"]==\"chorus\"]\n",
    "sub_verse=intersection[intersection[\"majority\"]==\"verse\"]\n",
    "sub_equal=intersection[intersection[\"majority\"]==\"equal\"]"
   ]
  },
  {
   "cell_type": "code",
   "execution_count": null,
   "metadata": {},
   "outputs": [],
   "source": [
    "data_chords=[]\n",
    "intersection[\"ratio\"]=intersection.ratio.map(lambda y: y*100)\n",
    "data_chords.append(sub_chorus.ratio)\n",
    "data_chords.append(sub_verse.ratio)\n",
    "data_chords.append(sub_equal.ratio)\n",
    "\n",
    "\n",
    "\n",
    "plt.figure(figsize = (14,7))\n",
    "plt.boxplot(data_chords, notch = True, \n",
    "                  bootstrap = 5000, \n",
    "                  showfliers = True, \n",
    "                  showmeans = True)\n",
    "plt.title(' Comparison of number of unique chords shared by the two groups in each of the majority ', fontsize = 20)\n",
    "plt.xticks([1,2,3], [ 'Chorus', 'Verse','No majority'], fontsize = 14)\n",
    "plt.yticks(fontsize = 14)\n",
    "plt.xlabel('Majority', fontsize = 18)\n",
    "\n",
    "plt.ylabel('Similarity of chorus and verse in %', fontsize = 18)\n",
    "plt.show()"
   ]
  },
  {
   "cell_type": "code",
   "execution_count": null,
   "metadata": {},
   "outputs": [],
   "source": [
    "plot_group(intersection,[\"verse_only\",\"chorus_only\",\"intersection\"], title=\"Proportion of unique chords \\\n",
    "found in each section\" )"
   ]
  },
  {
   "cell_type": "code",
   "execution_count": null,
   "metadata": {},
   "outputs": [],
   "source": [
    "plot_group(intersection,[\"verse_only\",\"chorus_only\"],title=\"Proportion of unique chords \\\n",
    "found in each section - Intersection hidden\" )\n",
    "plot_group(intersection,[\"verse_only\",\"chorus_only\"],select_shorthand=\"maj\", title=\"Proportion of unique chords \\\n",
    "found in each section - Major chords\" )\n",
    "plot_group(intersection,[\"verse_only\",\"chorus_only\"],select_shorthand=\"min\",  title=\"Proportion of unique chords \\\n",
    "found in each section - Minor chords\" )"
   ]
  },
  {
   "cell_type": "code",
   "execution_count": null,
   "metadata": {},
   "outputs": [],
   "source": [
    "a=plot_group(sub_chorus,[\"chorus_only\"],plot=False)\n",
    "b=plot_group(sub_verse,[\"verse_only\"],plot=False)\n",
    "a=pd.concat([b,a],axis=1,sort=False)\n",
    "a.columns=[\"verse_majority\",\"chorus_majority\"]\n",
    "a.iplot(kind=\"bar\",barmode=\"group\",title=\"Comparison of chord distribution \\\n",
    "in Chorus and verse majority\",xTitle=\"Chord name\", yTitle=\"% of songs\") \n",
    "\n",
    "a=plot_group(sub_chorus,[\"chorus_only\"],select_shorthand=\"maj\",plot=False)\n",
    "b=plot_group(sub_verse,[\"verse_only\"], select_shorthand=\"maj\",plot=False)\n",
    "a=pd.concat([b,a],axis=1,sort=False)\n",
    "a.columns=[\"verse_majority\",\"chorus_majority\"]\n",
    "a.iplot(kind=\"bar\",barmode=\"group\",title=\"Comparison of chord distribution \\\n",
    "in Chorus and verse majority - Major chords\",xTitle=\"Chord name\", yTitle=\"% of songs\") \n",
    "\n",
    "\n",
    "a=plot_group(sub_chorus,[\"chorus_only\"],select_shorthand=\"min\",plot=False)\n",
    "b=plot_group(sub_verse,[\"verse_only\"], select_shorthand=\"min\",plot=False)\n",
    "a=pd.concat([b,a],axis=1,sort=False)\n",
    "a.columns=[\"verse_majority\",\"chorus_majority\"]\n",
    "a.iplot(kind=\"bar\",barmode=\"group\",title=\"Comparison of chord distribution \\\n",
    "in Chorus and verse majority - Minor chords\",xTitle=\"Chord name\", yTitle=\"% of songs\") \n"
   ]
  },
  {
   "cell_type": "markdown",
   "metadata": {},
   "source": [
    "In the last two graphs we can observe that the chords found in the chorus majority subset have a tendency to be more major and less minor than in the verse majority. "
   ]
  },
  {
   "cell_type": "markdown",
   "metadata": {},
   "source": [
    "##### Comments: \n",
    "The results that we have found are more due to the difference between two types of songs (chorus-oriented and verse-oriented) than it is a result of true difference between the chorus and verse in them-selves, they are highly linked together inside songs and outside as well. We cannot ignore the fact that by reducing the initial group in three sub-parts we raise the probability of finding false results by raising the variance. As can be seen in the following graph, plotting only the songs where the diversity of chords is the same in both the chorus and verse we find differences conflicting with the previous ones. And thus the intrinsic singularity of chorus and verse cannot be outlined. We would need more data to further investigate the results and be able to find meaningfull conclusions. As for now we cannot from our dataset of chords draw any conclusion on how a chorus is made in regard to its verse or how different they are in general. "
   ]
  },
  {
   "cell_type": "code",
   "execution_count": null,
   "metadata": {},
   "outputs": [],
   "source": [
    "plot_group(sub_equal,[\"verse_only\",\"chorus_only\"],select_shorthand=\"maj\", title=\"Proportion of unique chords \\\n",
    "found in verse and chorus with same diversity- Major chords \" )\n",
    "plot_group(sub_equal,[\"verse_only\",\"chorus_only\"],select_shorthand=\"min\" ,title=\"Proportion of unique chords \\\n",
    "found in verse and chorus with same diversity- Minor chords\")"
   ]
  },
  {
   "cell_type": "code",
   "execution_count": null,
   "metadata": {},
   "outputs": [],
   "source": []
  }
 ],
 "metadata": {
  "kernelspec": {
   "display_name": "Python 3",
   "language": "python",
   "name": "python3"
  },
  "language_info": {
   "codemirror_mode": {
    "name": "ipython",
    "version": 3
   },
   "file_extension": ".py",
   "mimetype": "text/x-python",
   "name": "python",
   "nbconvert_exporter": "python",
   "pygments_lexer": "ipython3",
   "version": "3.7.4"
  }
 },
 "nbformat": 4,
 "nbformat_minor": 4
}
