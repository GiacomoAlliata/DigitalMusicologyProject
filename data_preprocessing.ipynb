{
 "cells": [
  {
   "cell_type": "markdown",
   "metadata": {},
   "source": [
    "# Milestone 2 - Data gathering and preprocessing"
   ]
  },
  {
   "cell_type": "markdown",
   "metadata": {},
   "source": [
    "## 1. Narrowing down the research question"
   ]
  },
  {
   "cell_type": "markdown",
   "metadata": {},
   "source": [
    "### Research Questions"
   ]
  },
  {
   "cell_type": "markdown",
   "metadata": {},
   "source": [
    "In this research project we will try to analyse a corpus of popular songs to try to identify  chords differences between verses and choruses. We will try to  answer the following research questions :\n",
    "<ol>\n",
    "<li>Does the chord distribution of the choruses differ from the one in the verses?</li>\n",
    "<li>Is there a different chord sequence distribution in the choruses compared to the verses?</li>\n",
    "<li>How are these distributions evolving over time? </li>\n",
    "</ol>\n",
    "\n",
    "In the first question we want to know if a difference exists in terms of chords statistic. Are we more likely to find a specific chord in the choruses? Are less different chords used in the chorus compared to the other parts of a song? <br> \n",
    "For the second one we want to have a more melodic insight. Can we find specific patterns? Is the Markov model derived from the chorus different from its counterparts? <br>\n",
    "In the third one the focus is on the time dimension. We want to know if the results of the two previous answers change over time. Were chorus closer to verses in 1968 than in 1985? How does each chord evolve in relation to the others? Do we find a sequence that appeared while other disappeared? \n",
    "\n",
    "These are all the underlying questions we want to answer under our main research questions.  \n",
    "\n",
    "These questions relate to our original idea to fully characterize a chorus over the years, especially in comparison with verses. We now want to focus specifically on the chords to differentiate these different parts, while keeping the temporal dimension as a potential factor to observe changes."
   ]
  },
  {
   "cell_type": "markdown",
   "metadata": {},
   "source": [
    "### Dataset presentation"
   ]
  },
  {
   "cell_type": "markdown",
   "metadata": {},
   "source": [
    "To give us the means to answer our questions, we have selected a dataset containing approximately 900 Pop-Rock songs in the top Billboard charts from the 60s to the 90s. They are simple text files with the following informations : \n",
    "* release date\n",
    "* song title \n",
    "* artist name\n",
    "* labels for the different parts of the song (such as chorus or verse)\n",
    "* timestamp of each musical phrase beginning\n",
    "* chords"
   ]
  },
  {
   "cell_type": "markdown",
   "metadata": {},
   "source": [
    "### Procedure"
   ]
  },
  {
   "cell_type": "markdown",
   "metadata": {},
   "source": [
    "We will use the chorus/verse annotations to classify the chords in each group. This will allow us to divide the chords in two groups and compute statistics and distributions for each of them. As discussed in the research questions, we will start with a basic characterization, simply comparing which chords appear in which section. We will then move deeper and compare the distributions of chords as well as the Markov models. These will be computed at least with bigrams, perhaps with higher-n n-grams depending on the number of chords in each section (as it makes little sense to use n-grams with n close to the number of chords in a given section).\n",
    "\n",
    "The metadata, especially the release date, will be used to study the evolution over time of the previously discussed statistics. Depending on the distribution of songs over the years, time analysis will be discussed either over years or over decades."
   ]
  },
  {
   "cell_type": "markdown",
   "metadata": {},
   "source": [
    "### Possible outcomes and confidence measures"
   ]
  },
  {
   "cell_type": "markdown",
   "metadata": {},
   "source": [
    "The different outcomes we can reasonably expect are: \n",
    "<ul>\n",
    "    <li> <strong>Null results:</strong> There are no significant differences between choruses and verses and no evolution over time. This could be explained by a bias in the corpus toward a specific Pop-Rock genre using the same chords all the time or maybe there is indeed no difference in the chords used in a chorus and the ones used in verses, which would constitute an answer for our questions. </li>\n",
    "<li> <strong>Narrow chorus chord distribution:</strong> Since the chorus has to be immediately recognized as one, maybe the composers make more extensive use of a sub group of the chords to ensure it. The same reasoning could be applied to the chord sequences: perhaps some specific ones will be more dominant in the chorus.</li>\n",
    "<li> <strong>Temporal evolution:</strong> It will be interesting to see if the differences between verse and chorus change over the years. This evolution, if present, could be linear or oscillating. A linear narrowing would imply that choruses are becoming more and more similar or verse more and more diverse. An oscillating pattern would be interesting as musical phenomenon could appear and disappear.</li>\n",
    "</ul>\n",
    "\n",
    "Statistical tests will be used throughtout our analysis to check if our findings are statistically relevant. Error bars will also be included in all our graphics to avoid wrong conclusions. Of course the relative small size of our corpus will influence our results but only further analysis can reveal if significant results can still be found."
   ]
  },
  {
   "cell_type": "markdown",
   "metadata": {},
   "source": [
    "## 2. Gathering the data\n",
    "The dataset has been created by [1] and corresponds to a random sample of 890 Billboard chart slots presented at ISMIR 2011 and MIREX 2012. Due to the nature of the sampling algorithm, there are some duplicates and this results in only 740 distinct songs. According to the authors, training algorithms that assume independent, identically distributed data should retain the duplicates.<br> This dataset is publicly available at https://ddmal.music.mcgill.ca/research/The_McGill_Billboard_Project_(Chord_Analysis_Dataset)/ and can be downloaded in various formats. Different features are given by the authors. In this project we will use metadata and chords annotations. \n",
    "The first dataset used is the index to the dataset (csv format), containing the following fields:\n",
    "<ul>\n",
    "<li><b>id</b>, the index for the sample entry;</li>\n",
    "<li><b>chart_date</b>, the date of the chart for the entry;</li>\n",
    "<li><b>target_rank</b>, the desired rank on that chart;</li>\n",
    "<li><b>actual_rank</b>, the rank of the song actually annotated, which may be up to 2 ranks higher or lower than the target rank [1, 2];</li>\n",
    "<li><b>title</b>, the title of the song annotated;</li>\n",
    "<li><b>artist</b>, the name of the artist performing the song annotated;</li>\n",
    "<li><b>peak_rank</b>, the highest rank the song annotated ever achieved on the Billboard Hot 100; and</li>\n",
    "<li><b>weeks_on_chart</b>, the number of weeks the song annotated spent on the Billboard Hot 100 chart in total.</li>\n",
    "</ul>\n",
    "\n",
    "The main dataset comprehends chords, structure, instrumentation, and timing, given in a txt format. The annotation for each song begins with a header containing the title of the song, the name of the artist, the metre and the tonic pitch class of the opening key. In the main body, each line consists of a single phrase and begins with its timestamp, followed by the chords. This requires us to design a specific parser, as will be discussed in the next section.\n",
    "\n",
    "[1]: John Ashley Burgoyne, Jonathan Wild, and Ichiro Fujinaga, ‘An Expert Ground Truth Set for Audio Chord Recognition and Music Analysis’, in Proceedings of the 12th International Society for Music Information Retrieval Conference, ed. Anssi Klapuri and Colby Leider (Miami, FL, 2011), pp. 633–38"
   ]
  },
  {
   "cell_type": "markdown",
   "metadata": {},
   "source": [
    "## 3. Data format"
   ]
  },
  {
   "cell_type": "markdown",
   "metadata": {},
   "source": [
    "The goal of this question is to load the data and have a look at it. A specific parser is designed to do this automatically, in order to extract and store in a Pandas dataframe all the relevant informations and musical features."
   ]
  },
  {
   "cell_type": "code",
   "execution_count": 104,
   "metadata": {},
   "outputs": [
    {
     "data": {
      "text/html": [
       "        <script type=\"text/javascript\">\n",
       "        window.PlotlyConfig = {MathJaxConfig: 'local'};\n",
       "        if (window.MathJax) {MathJax.Hub.Config({SVG: {font: \"STIX-Web\"}});}\n",
       "        if (typeof require !== 'undefined') {\n",
       "        require.undef(\"plotly\");\n",
       "        requirejs.config({\n",
       "            paths: {\n",
       "                'plotly': ['https://cdn.plot.ly/plotly-latest.min']\n",
       "            }\n",
       "        });\n",
       "        require(['plotly'], function(Plotly) {\n",
       "            window._Plotly = Plotly;\n",
       "        });\n",
       "        }\n",
       "        </script>\n",
       "        "
      ]
     },
     "metadata": {},
     "output_type": "display_data"
    }
   ],
   "source": [
    "import pandas as pd\n",
    "import numpy as np\n",
    "import matplotlib.pyplot as plt\n",
    "plt.rcParams[\"figure.figsize\"] = (16,7)\n",
    "import os\n",
    "import re\n",
    "import cufflinks as cf\n",
    "cf.go_offline()\n",
    "cf.set_config_file(theme='white')"
   ]
  },
  {
   "cell_type": "markdown",
   "metadata": {},
   "source": [
    "### Metadata"
   ]
  },
  {
   "cell_type": "code",
   "execution_count": 105,
   "metadata": {},
   "outputs": [],
   "source": [
    "metadata_df = pd.read_csv(\"data/billboard-2.0-index.csv\")"
   ]
  },
  {
   "cell_type": "code",
   "execution_count": 106,
   "metadata": {},
   "outputs": [
    {
     "name": "stdout",
     "output_type": "stream",
     "text": [
      "There are 1300 entries in the index table.\n"
     ]
    }
   ],
   "source": [
    "print('There are %d entries in the index table.' %len(metadata_df))"
   ]
  },
  {
   "cell_type": "code",
   "execution_count": 107,
   "metadata": {},
   "outputs": [
    {
     "name": "stdout",
     "output_type": "stream",
     "text": [
      "There are 890 entries with a given title.\n"
     ]
    }
   ],
   "source": [
    "print('There are %d entries with a given title.' %metadata_df.title.isna().value_counts()[0])"
   ]
  },
  {
   "cell_type": "code",
   "execution_count": 108,
   "metadata": {},
   "outputs": [
    {
     "name": "stdout",
     "output_type": "stream",
     "text": [
      "There are 890 entries with a given artist.\n"
     ]
    }
   ],
   "source": [
    "print('There are %d entries with a given artist.' %metadata_df.artist.isna().value_counts()[0])"
   ]
  },
  {
   "cell_type": "code",
   "execution_count": 109,
   "metadata": {},
   "outputs": [
    {
     "name": "stdout",
     "output_type": "stream",
     "text": [
      "There are 1300 entries with a given chart date.\n"
     ]
    }
   ],
   "source": [
    "print('There are %d entries with a given chart date.' %metadata_df.chart_date.isna().value_counts()[0])"
   ]
  },
  {
   "cell_type": "code",
   "execution_count": 110,
   "metadata": {},
   "outputs": [
    {
     "data": {
      "text/plain": [
       "'August 4th, 1958'"
      ]
     },
     "execution_count": 110,
     "metadata": {},
     "output_type": "execute_result"
    }
   ],
   "source": [
    "months = {'01':'January', \n",
    "          '02':'February',\n",
    "          '03':'March',\n",
    "          '04':'April',\n",
    "          '05':'May',\n",
    "          '06':'June',\n",
    "          '07':'July',\n",
    "          '08':'August',\n",
    "          '09':'September',\n",
    "          '10':'October',\n",
    "          '11':'November',\n",
    "          '12':'December'}\n",
    "def format_date(date):\n",
    "    year = date[:4]\n",
    "    month = date[5:7]\n",
    "    day = date[-2:]\n",
    "    if day == '01':\n",
    "        suffix = 'st'\n",
    "    elif day == '02':\n",
    "        suffix = 'nd'\n",
    "    elif day == '03':\n",
    "        suffix = 'rd'\n",
    "    else:\n",
    "        suffix = 'th'\n",
    "        \n",
    "    if day[0] == '0':\n",
    "        day = day[1]\n",
    "    \n",
    "    date_string = months[month] + ' ' + day + suffix + ', ' + year\n",
    "    return(date_string)\n",
    "\n",
    "#Test\n",
    "format_date('1958-08-04')"
   ]
  },
  {
   "cell_type": "code",
   "execution_count": 111,
   "metadata": {},
   "outputs": [
    {
     "name": "stdout",
     "output_type": "stream",
     "text": [
      "The songs range from August 18th, 1958 to November 16th, 1991.\n"
     ]
    }
   ],
   "source": [
    "print('The songs range from %s to %s.' %(format_date(metadata_df.chart_date.min()), format_date(metadata_df.chart_date.max())))"
   ]
  },
  {
   "cell_type": "markdown",
   "metadata": {},
   "source": [
    "Let's analyse the song distribution over the year."
   ]
  },
  {
   "cell_type": "code",
   "execution_count": 112,
   "metadata": {},
   "outputs": [
    {
     "data": {
      "image/png": "[encoded data removed]",
      "text/plain": [
       "<Figure size 1152x504 with 1 Axes>"
      ]
     },
     "metadata": {
      "needs_background": "light"
     },
     "output_type": "display_data"
    }
   ],
   "source": [
    "metadata_df['year'] = metadata_df['chart_date'].map(lambda date: int(date[:4]))\n",
    "n_bins = metadata_df.year.max() - metadata_df.year.min() + 1\n",
    "metadata_df.year.hist(bins = n_bins)\n",
    "plt.title('Song distribution over the years', fontsize = 20)\n",
    "plt.xlabel('Year', fontsize = 18)\n",
    "plt.ylabel('Number of songs', fontsize = 18)\n",
    "plt.show()"
   ]
  },
  {
   "cell_type": "code",
   "execution_count": 10,
   "metadata": {},
   "outputs": [
    {
     "name": "stdout",
     "output_type": "stream",
     "text": [
      "Year with the minimum number of songs: 1958 (with 15 songs)\n",
      "Year with the maximum number of songs: 1963 (with 52 songs)\n",
      "The average number of songs per year is 38.24.\n"
     ]
    }
   ],
   "source": [
    "min_number_songs = metadata_df.groupby(['year']).count().id.min()\n",
    "min_number_songs_year = metadata_df.groupby(['year']).count().id.idxmin()\n",
    "max_number_songs = metadata_df.groupby(['year']).count().id.max()\n",
    "max_number_songs_year = metadata_df.groupby(['year']).count().id.idxmax()\n",
    "mean_number_songs = metadata_df.groupby(['year']).count().id.mean()\n",
    "\n",
    "print('Year with the minimum number of songs: %d (with %d songs)' %(min_number_songs_year, min_number_songs))\n",
    "print('Year with the maximum number of songs: %d (with %d songs)' %(max_number_songs_year, max_number_songs))\n",
    "print('The average number of songs per year is %0.2f.' %mean_number_songs)"
   ]
  },
  {
   "cell_type": "markdown",
   "metadata": {},
   "source": [
    "Let's now have a look at the artists."
   ]
  },
  {
   "cell_type": "code",
   "execution_count": 11,
   "metadata": {},
   "outputs": [
    {
     "name": "stdout",
     "output_type": "stream",
     "text": [
      "There are 420 different artists in the dataframe.\n"
     ]
    }
   ],
   "source": [
    "number_artist = len(metadata_df.artist.unique()) - 1 #The -1 is to take into account the missing values in the dataframe\n",
    "print('There are %d different artists in the dataframe.' %number_artist)"
   ]
  },
  {
   "cell_type": "code",
   "execution_count": 12,
   "metadata": {},
   "outputs": [
    {
     "name": "stdout",
     "output_type": "stream",
     "text": [
      "Artist with the lowest number of songs: A Taste Of Honey (with 1 songs)\n",
      "Artist with the highest number of songs: Elvis Presley (with 20 songs)\n",
      "The median number of songs per artist is 1.00.\n",
      "Only 38 artists have at least 5 songs in the corpus.\n"
     ]
    }
   ],
   "source": [
    "min_number_songs_per_artist = metadata_df.groupby(['artist']).count().id.min()\n",
    "artist_min_songs = metadata_df.groupby(['artist']).count().id.idxmin()\n",
    "max_number_songs_per_artist = metadata_df.groupby(['artist']).count().id.max()\n",
    "artist_max_songs = metadata_df.groupby(['artist']).count().id.idxmax()\n",
    "#Since the distribution is highly skewed, we use the median instead of the mean here\n",
    "median_songs_per_artist = metadata_df.groupby('artist').count().id.median() \n",
    "artist_with_5songs = metadata_df.groupby('artist').count().id.map(lambda x: x >= 5).value_counts()[1]\n",
    "\n",
    "print('Artist with the lowest number of songs: %s (with %d songs)' %(artist_min_songs, min_number_songs_per_artist))\n",
    "print('Artist with the highest number of songs: %s (with %d songs)' %(artist_max_songs, max_number_songs_per_artist))\n",
    "print('The median number of songs per artist is %0.2f.' %median_songs_per_artist)\n",
    "print('Only %d artists have at least 5 songs in the corpus.' %artist_with_5songs)"
   ]
  },
  {
   "cell_type": "markdown",
   "metadata": {},
   "source": [
    "As we can see with the distribution of the number of songs per artist, there are clearly some artist (such as Elvis Presley) with more than 10 songs in the corpus but the majority of them only has one or two songs. This results in a highly skewed distribution."
   ]
  },
  {
   "cell_type": "code",
   "execution_count": 13,
   "metadata": {},
   "outputs": [
    {
     "data": {
      "image/png": "[encoded data removed]",
      "text/plain": [
       "<Figure size 432x288 with 1 Axes>"
      ]
     },
     "metadata": {
      "needs_background": "light"
     },
     "output_type": "display_data"
    }
   ],
   "source": [
    "metadata_df.groupby('artist').count().id.hist(bins = max_number_songs_per_artist - min_number_songs_per_artist + 1)\n",
    "plt.title('Distribution of the number of songs per artist', fontsize = 20)\n",
    "plt.ylabel('Number of artists', fontsize = 18)\n",
    "plt.xlabel('Number of songs', fontsize = 18)\n",
    "plt.show()"
   ]
  },
  {
   "cell_type": "code",
   "execution_count": 14,
   "metadata": {},
   "outputs": [
    {
     "data": {
      "application/vnd.plotly.v1+json": {
       "config": {
        "linkText": "Export to plot.ly",
        "plotlyServerURL": "https://plot.ly",
        "showLink": true
       },
       "data": [
        {
         "marker": {
          "color": "rgba(255, 153, 51, 0.6)",
          "line": {
           "color": "rgba(255, 153, 51, 1.0)",
           "width": 1
          }
         },
         "name": "id",
         "orientation": "v",
         "text": "",
         "type": "bar",
         "x": [
          "A Taste Of Honey",
          "Aaron Neville",
          "Abba",
          "Aerosmith",
          "Al Green",
          "Alabama",
          "Alan O'Day",
          "Alice Cooper",
          "Andy Gibb",
          "Anita Baker",
          "Ann Peebles",
          "Anne Murray",
          "Aretha Franklin",
          "Arthur Conley",
          "B.B. King",
          "B.J. Thomas",
          "Bachman-Turner Overdrive",
          "Bad Company",
          "Badfinger",
          "Baltimora",
          "Bananarama",
          "Barbara Lewis",
          "Barbra Streisand",
          "Barry White",
          "Bay City Rollers",
          "Beastie Boys",
          "Ben E. King",
          "Bertha Tillman",
          "Bette Midler",
          "Bill Withers",
          "Billy Idol",
          "Billy Joel",
          "Billy Preston",
          "Billy Squier",
          "Billy Swan",
          "Bing Crosby",
          "Biz Markie",
          "Blondie",
          "Blue Cheer",
          "Bo Diddley",
          "Bob Dylan",
          "Bob Seger",
          "Bobbi Martin",
          "Bobbie Gentry",
          "Bobby Bare",
          "Bobby Darin",
          "Bobby Womack",
          "Bonnie Pointer",
          "Bonnie Raitt",
          "Boston",
          "Boyz II Men",
          "Bread",
          "Brenda Lee",
          "Brother Jack McDuff",
          "Brownsville Station",
          "Bruce Channel",
          "Bruce Springsteen",
          "Buck Owens",
          "Candi Staton",
          "Canned Heat",
          "Carl Carlton",
          "Charlie Rich",
          "Cheap Trick",
          "Cher",
          "Chicago",
          "Chico DeBarge",
          "Chris Kenner",
          "Chubby Checker",
          "Chuck Berry",
          "Clarence Carter",
          "Cliff Richard",
          "Color Me Badd",
          "Commodores",
          "Corey Hart",
          "Cornelius Brothers & Sister Rose",
          "Count Basie",
          "Cream",
          "Creedence Clearwater Revival",
          "Crosby, Stills & Nash",
          "Crosby, Stills, Nash",
          "Culture Club",
          "Cyndi Lauper",
          "Daryl Hall & John Oates",
          "Dave Dudley",
          "David Bowie",
          "David Crosby,Graham Nash",
          "David Ruffin,Jimmy Ruffin",
          "De La Soul",
          "Dean Martin",
          "Debarge",
          "Depeche Mode",
          "Diana Ross",
          "Digital Underground",
          "Dinah Washington",
          "Dion",
          "Dolly Parton",
          "Don Gibson",
          "Donna Fargo",
          "Donna Summer",
          "Donovan",
          "Dottie West",
          "Double Exposure",
          "Dr. Hook",
          "Dr. John",
          "Duran Duran",
          "Eagles",
          "Earth, Wind & Fire",
          "Eddie Holland",
          "Eddie Rabbitt",
          "Edgar Winter",
          "Edwin Starr",
          "Elton John",
          "Elvis Presley",
          "Emerson, Lake & Palmer",
          "Engelbert Humperdinck",
          "Eric Carmen",
          "Eric Clapton",
          "Etta James",
          "Evelyn \"Champagne\" King",
          "Everly Brothers",
          "Fats Domino",
          "Firehouse",
          "Five Man Electrical Band",
          "Flatt & Scruggs",
          "Floyd Cramer",
          "Focus",
          "Foghat",
          "Fontella Bass",
          "Four Tops",
          "Freddie Jackson",
          "Freddy Fender",
          "Gary U.S. Bonds",
          "Gene Pitney",
          "General Public",
          "Genesis",
          "George Benson",
          "George Harrison",
          "Gino Vannelli",
          "Gladys Knight & The Pips",
          "Glen Campbell",
          "Gloria Gaynor",
          "Golden Earring",
          "Gordon Lightfoot",
          "Graham Nash",
          "Grand Funk Railroad",
          "Grateful Dead",
          "Greg Kihn",
          "Greg Kihn Band",
          "Hank Snow",
          "Harry Chapin",
          "Heart",
          "Hi-Five",
          "Huey Lewis",
          "INXS",
          "Ike & Tina Turner",
          "Irma Thomas",
          "Iron Butterfly",
          "Isaac Hayes",
          "J. Frank Wilson & The Cavaliers",
          "Jackie Wilson",
          "Jackson Browne",
          "James Brown",
          "James Taylor",
          "Jan & Dean",
          "Janis Joplin",
          "Jeff Beck",
          "Jefferson Starship",
          "Jermaine Jackson",
          "Jerry Jeff Walker",
          "Jerry Reed",
          "Jesus Jones",
          "Jethro Tull",
          "Jimi Hendrix",
          "Jimmy Buffett",
          "Jimmy Clanton",
          "Jimmy Cliff",
          "Jimmy Jones",
          "Jimmy Reed",
          "Jimmy Ruffin",
          "Jimmy Smith",
          "Joan Baez",
          "Joe Cocker",
          "John Denver",
          "Johnny Cash",
          "Johnny Horton",
          "Johnny Lee",
          "Johnny Tillotson",
          "Joni Mitchell",
          "Judas Priest",
          "Juice Newton",
          "Kaoma",
          "Kate Bush",
          "Kenny Rogers",
          "Kiss",
          "Kool & The Gang",
          "Kris Kristofferson",
          "LaVern Baker",
          "Laura Branigan",
          "Led Zeppelin",
          "Leo Sayer",
          "Lesley Gore",
          "Level 42",
          "Linda Ronstadt",
          "Little Anthony & The Imperials",
          "Little Joey & The Flips",
          "Little River Band",
          "Looking Glass",
          "Los Lobos",
          "Louis Armstrong",
          "Louis Prima & Keely Smith",
          "Lynyrd Skynyrd",
          "Madonna",
          "Marc Cohn",
          "Marie Osmond",
          "Marky Mark",
          "Martha & The Vandellas",
          "Marty Robbins",
          "Marvin Gaye",
          "Marvin Gaye,Kim Weston",
          "Marvin Gaye,Tammi Terrell",
          "Mary MacGregor",
          "Max Frost & The Troopers",
          "Meat Loaf",
          "Mel Torme",
          "Melba Montgomery",
          "Metallica",
          "Michael Jackson",
          "Michael Jackson With Siedah Garrett",
          "Michael Johnson",
          "Michael Sembello",
          "Milli Vanilli",
          "Minnie Riperton",
          "Naked Eyes",
          "Nancy Sinatra",
          "Nat \"King\" Cole",
          "Natalie Cole",
          "Neil Sedaka",
          "Neneh Cherry",
          "Nick Gilder",
          "Nitty Gritty Dirt Band",
          "Oak Ridge Boys",
          "Ocean",
          "Oliver",
          "Otis Redding",
          "Paper Lace",
          "Pat Benatar",
          "Patrick Hernandez",
          "Paul Anka",
          "Paul McCartney",
          "Paul Revere & The Raiders",
          "Paul Simon",
          "Peaches & Herb",
          "Peggy Lee",
          "Pet Shop Boys",
          "Peter Gabriel",
          "Phil Collins",
          "Pink Floyd",
          "Player",
          "Pointer Sisters",
          "Poison",
          "Prince (With Sheena Easton)",
          "Psychedelic Furs",
          "Pure Prairie League",
          "Quarterflash",
          "Queen",
          "Queensryche",
          "R. Dean Taylor",
          "REO Speedwagon",
          "Randy Vanwarmer",
          "Rare Earth",
          "Ray Charles",
          "Ray Parker Jr.",
          "Ray Price",
          "Redbone",
          "Rick Derringer",
          "Rick James",
          "Rick Springfield",
          "Righteous Brothers",
          "Rita Coolidge",
          "Rob Base",
          "Robert John",
          "Robert Palmer",
          "Roberta Flack",
          "Roberta Flack,Donny Hathaway",
          "Rock And Hyde",
          "Rockwell",
          "Rod Bernard",
          "Rod Stewart",
          "Roger Miller",
          "Ronnie Milsap",
          "Roxette",
          "Roxy Music",
          "Roy Drusky",
          "Roy Head",
          "Roy Orbison",
          "Run-D.M.C.",
          "Rush",
          "Sagittarius",
          "Sammy Hagar",
          "Santana",
          "Santo & Johnny",
          "Shannon",
          "Shirley Brown",
          "Simon & Garfunkel",
          "Simple Minds",
          "Sly & The Family Stone",
          "Smokey Robinson",
          "Snap",
          "Soft Cell",
          "Solomon Burke",
          "Sonny & Cher",
          "Spandau Ballet",
          "Stephanie Mills",
          "Steppenwolf",
          "Steve Miller Band",
          "Steve Winwood",
          "Stevie B",
          "Stevie Wonder",
          "Sting",
          "Stray Cats",
          "Swingin' Medallions",
          "Switch",
          "Talking Heads",
          "Tanya Tucker",
          "Teddy Pendergrass",
          "Ten Years After",
          "Tevin Campbell",
          "The 5th Dimension",
          "The Alan Parsons Project",
          "The Allman Brothers Band",
          "The Amboy Dukes",
          "The Animals",
          "The Babys",
          "The Band",
          "The Beach Boys",
          "The Beatles",
          "The Box Tops",
          "The Boys",
          "The Buckinghams",
          "The Byrds",
          "The Castaways",
          "The Chiffons",
          "The Contours",
          "The Cowsills",
          "The Crystals",
          "The Cure",
          "The Doobie Brothers",
          "The Doors",
          "The Dramatics",
          "The Drifters",
          "The Electric Prunes",
          "The Everly Brothers",
          "The Fabulous Thunderbirds",
          "The Falcons",
          "The Fireballs",
          "The Hollies",
          "The Isley Brothers",
          "The J. Geils Band",
          "The Jacksons",
          "The Kendalls",
          "The Kinks",
          "The La's",
          "The Meters",
          "The Miracles",
          "The Moments",
          "The Music Explosion",
          "The Music Machine",
          "The O'Jays",
          "The Osmonds",
          "The Pointer Sisters",
          "The Police",
          "The Power Station",
          "The Rascals",
          "The Rembrandts",
          "The Righteous Brothers",
          "The Ritchie Family",
          "The Robert Cray Band",
          "The Rolling Stones",
          "The Ronettes",
          "The Shirelles",
          "The Sopwith \"Camel\"",
          "The Staple Singers",
          "The String-A-Longs",
          "The Supremes",
          "The Tee Set",
          "The Temptations",
          "The Trammps",
          "The Turtles",
          "The Ventures",
          "The Weather Girls",
          "The Who",
          "The Yardbirds",
          "The Youngbloods",
          "Thelma Houston",
          "Tina Turner",
          "Todd Rundgren",
          "Tom Jones",
          "Tom T. Hall",
          "Tommy James",
          "Tracie Spencer",
          "Tracy Chapman",
          "U2",
          "UB40",
          "Urban Dance Squad",
          "Van Halen",
          "Village People",
          "Wang Chung",
          "Waylon Jennings",
          "Wednesday",
          "Wham!",
          "Whitesnake",
          "Wild Cherry",
          "Willie Mitchell",
          "Willie Nelson",
          "Wilson Phillips",
          "Wilson Pickett",
          "Yaz",
          "Young MC",
          "Yvonne Elliman",
          "ZZ Top"
         ],
         "y": [
          1,
          1,
          6,
          1,
          1,
          1,
          1,
          2,
          2,
          4,
          1,
          4,
          3,
          1,
          2,
          1,
          2,
          1,
          1,
          2,
          2,
          1,
          2,
          1,
          1,
          1,
          1,
          1,
          2,
          2,
          6,
          5,
          1,
          3,
          2,
          2,
          1,
          2,
          1,
          1,
          1,
          8,
          1,
          1,
          1,
          1,
          2,
          1,
          1,
          2,
          1,
          3,
          10,
          1,
          2,
          1,
          2,
          2,
          2,
          2,
          1,
          4,
          6,
          2,
          13,
          1,
          1,
          2,
          3,
          3,
          6,
          1,
          6,
          2,
          2,
          1,
          1,
          2,
          3,
          1,
          2,
          8,
          4,
          1,
          4,
          1,
          1,
          1,
          2,
          1,
          2,
          1,
          3,
          3,
          10,
          3,
          1,
          2,
          3,
          1,
          1,
          1,
          6,
          1,
          4,
          4,
          4,
          1,
          1,
          1,
          1,
          5,
          20,
          1,
          2,
          2,
          7,
          4,
          1,
          1,
          2,
          2,
          1,
          2,
          1,
          2,
          2,
          1,
          2,
          1,
          2,
          1,
          1,
          1,
          4,
          1,
          6,
          4,
          7,
          5,
          2,
          1,
          1,
          1,
          1,
          1,
          1,
          1,
          1,
          1,
          7,
          1,
          1,
          1,
          4,
          1,
          1,
          2,
          3,
          1,
          5,
          8,
          1,
          3,
          1,
          1,
          1,
          1,
          1,
          1,
          2,
          1,
          1,
          1,
          2,
          1,
          1,
          2,
          1,
          1,
          1,
          1,
          7,
          2,
          3,
          1,
          6,
          2,
          1,
          2,
          1,
          1,
          8,
          1,
          1,
          1,
          4,
          1,
          4,
          1,
          3,
          2,
          2,
          1,
          1,
          6,
          2,
          1,
          1,
          1,
          1,
          2,
          1,
          1,
          2,
          1,
          3,
          3,
          1,
          3,
          1,
          1,
          2,
          1,
          1,
          1,
          4,
          1,
          1,
          1,
          3,
          1,
          1,
          1,
          3,
          2,
          1,
          2,
          2,
          2,
          1,
          1,
          1,
          3,
          1,
          7,
          3,
          2,
          4,
          1,
          3,
          1,
          2,
          5,
          2,
          1,
          2,
          1,
          1,
          1,
          1,
          1,
          1,
          2,
          1,
          2,
          2,
          2,
          1,
          1,
          4,
          1,
          2,
          1,
          1,
          2,
          3,
          1,
          4,
          1,
          2,
          2,
          3,
          2,
          1,
          2,
          1,
          2,
          2,
          1,
          1,
          2,
          1,
          1,
          1,
          1,
          1,
          1,
          2,
          1,
          2,
          1,
          1,
          6,
          1,
          2,
          3,
          2,
          1,
          2,
          3,
          1,
          1,
          1,
          3,
          2,
          2,
          5,
          2,
          3,
          1,
          1,
          3,
          1,
          1,
          2,
          1,
          5,
          1,
          1,
          1,
          1,
          1,
          1,
          7,
          10,
          1,
          1,
          1,
          2,
          1,
          2,
          3,
          2,
          3,
          1,
          1,
          1,
          1,
          2,
          1,
          6,
          1,
          1,
          1,
          2,
          1,
          6,
          2,
          1,
          2,
          1,
          1,
          5,
          1,
          1,
          1,
          1,
          1,
          2,
          4,
          1,
          1,
          1,
          3,
          1,
          2,
          16,
          2,
          1,
          1,
          2,
          3,
          2,
          1,
          2,
          2,
          1,
          1,
          1,
          2,
          2,
          2,
          1,
          7,
          2,
          2,
          2,
          2,
          1,
          1,
          1,
          3,
          1,
          1,
          1,
          1,
          2,
          2,
          1,
          1,
          1,
          1,
          1,
          3,
          5,
          1,
          1,
          1,
          1
         ]
        }
       ],
       "layout": {
        "legend": {
         "bgcolor": "#FFFFFF",
         "font": {
          "color": "#4D5663"
         }
        },
        "paper_bgcolor": "#FFFFFF",
        "plot_bgcolor": "#FFFFFF",
        "template": {
         "data": {
          "bar": [
           {
            "error_x": {
             "color": "#2a3f5f"
            },
            "error_y": {
             "color": "#2a3f5f"
            },
            "marker": {
             "line": {
              "color": "#E5ECF6",
              "width": 0.5
             }
            },
            "type": "bar"
           }
          ],
          "barpolar": [
           {
            "marker": {
             "line": {
              "color": "#E5ECF6",
              "width": 0.5
             }
            },
            "type": "barpolar"
           }
          ],
          "carpet": [
           {
            "aaxis": {
             "endlinecolor": "#2a3f5f",
             "gridcolor": "white",
             "linecolor": "white",
             "minorgridcolor": "white",
             "startlinecolor": "#2a3f5f"
            },
            "baxis": {
             "endlinecolor": "#2a3f5f",
             "gridcolor": "white",
             "linecolor": "white",
             "minorgridcolor": "white",
             "startlinecolor": "#2a3f5f"
            },
            "type": "carpet"
           }
          ],
          "choropleth": [
           {
            "colorbar": {
             "outlinewidth": 0,
             "ticks": ""
            },
            "type": "choropleth"
           }
          ],
          "contour": [
           {
            "colorbar": {
             "outlinewidth": 0,
             "ticks": ""
            },
            "colorscale": [
             [
              0,
              "#0d0887"
             ],
             [
              0.1111111111111111,
              "#46039f"
             ],
             [
              0.2222222222222222,
              "#7201a8"
             ],
             [
              0.3333333333333333,
              "#9c179e"
             ],
             [
              0.4444444444444444,
              "#bd3786"
             ],
             [
              0.5555555555555556,
              "#d8576b"
             ],
             [
              0.6666666666666666,
              "#ed7953"
             ],
             [
              0.7777777777777778,
              "#fb9f3a"
             ],
             [
              0.8888888888888888,
              "#fdca26"
             ],
             [
              1,
              "#f0f921"
             ]
            ],
            "type": "contour"
           }
          ],
          "contourcarpet": [
           {
            "colorbar": {
             "outlinewidth": 0,
             "ticks": ""
            },
            "type": "contourcarpet"
           }
          ],
          "heatmap": [
           {
            "colorbar": {
             "outlinewidth": 0,
             "ticks": ""
            },
            "colorscale": [
             [
              0,
              "#0d0887"
             ],
             [
              0.1111111111111111,
              "#46039f"
             ],
             [
              0.2222222222222222,
              "#7201a8"
             ],
             [
              0.3333333333333333,
              "#9c179e"
             ],
             [
              0.4444444444444444,
              "#bd3786"
             ],
             [
              0.5555555555555556,
              "#d8576b"
             ],
             [
              0.6666666666666666,
              "#ed7953"
             ],
             [
              0.7777777777777778,
              "#fb9f3a"
             ],
             [
              0.8888888888888888,
              "#fdca26"
             ],
             [
              1,
              "#f0f921"
             ]
            ],
            "type": "heatmap"
           }
          ],
          "heatmapgl": [
           {
            "colorbar": {
             "outlinewidth": 0,
             "ticks": ""
            },
            "colorscale": [
             [
              0,
              "#0d0887"
             ],
             [
              0.1111111111111111,
              "#46039f"
             ],
             [
              0.2222222222222222,
              "#7201a8"
             ],
             [
              0.3333333333333333,
              "#9c179e"
             ],
             [
              0.4444444444444444,
              "#bd3786"
             ],
             [
              0.5555555555555556,
              "#d8576b"
             ],
             [
              0.6666666666666666,
              "#ed7953"
             ],
             [
              0.7777777777777778,
              "#fb9f3a"
             ],
             [
              0.8888888888888888,
              "#fdca26"
             ],
             [
              1,
              "#f0f921"
             ]
            ],
            "type": "heatmapgl"
           }
          ],
          "histogram": [
           {
            "marker": {
             "colorbar": {
              "outlinewidth": 0,
              "ticks": ""
             }
            },
            "type": "histogram"
           }
          ],
          "histogram2d": [
           {
            "colorbar": {
             "outlinewidth": 0,
             "ticks": ""
            },
            "colorscale": [
             [
              0,
              "#0d0887"
             ],
             [
              0.1111111111111111,
              "#46039f"
             ],
             [
              0.2222222222222222,
              "#7201a8"
             ],
             [
              0.3333333333333333,
              "#9c179e"
             ],
             [
              0.4444444444444444,
              "#bd3786"
             ],
             [
              0.5555555555555556,
              "#d8576b"
             ],
             [
              0.6666666666666666,
              "#ed7953"
             ],
             [
              0.7777777777777778,
              "#fb9f3a"
             ],
             [
              0.8888888888888888,
              "#fdca26"
             ],
             [
              1,
              "#f0f921"
             ]
            ],
            "type": "histogram2d"
           }
          ],
          "histogram2dcontour": [
           {
            "colorbar": {
             "outlinewidth": 0,
             "ticks": ""
            },
            "colorscale": [
             [
              0,
              "#0d0887"
             ],
             [
              0.1111111111111111,
              "#46039f"
             ],
             [
              0.2222222222222222,
              "#7201a8"
             ],
             [
              0.3333333333333333,
              "#9c179e"
             ],
             [
              0.4444444444444444,
              "#bd3786"
             ],
             [
              0.5555555555555556,
              "#d8576b"
             ],
             [
              0.6666666666666666,
              "#ed7953"
             ],
             [
              0.7777777777777778,
              "#fb9f3a"
             ],
             [
              0.8888888888888888,
              "#fdca26"
             ],
             [
              1,
              "#f0f921"
             ]
            ],
            "type": "histogram2dcontour"
           }
          ],
          "mesh3d": [
           {
            "colorbar": {
             "outlinewidth": 0,
             "ticks": ""
            },
            "type": "mesh3d"
           }
          ],
          "parcoords": [
           {
            "line": {
             "colorbar": {
              "outlinewidth": 0,
              "ticks": ""
             }
            },
            "type": "parcoords"
           }
          ],
          "pie": [
           {
            "automargin": true,
            "type": "pie"
           }
          ],
          "scatter": [
           {
            "marker": {
             "colorbar": {
              "outlinewidth": 0,
              "ticks": ""
             }
            },
            "type": "scatter"
           }
          ],
          "scatter3d": [
           {
            "line": {
             "colorbar": {
              "outlinewidth": 0,
              "ticks": ""
             }
            },
            "marker": {
             "colorbar": {
              "outlinewidth": 0,
              "ticks": ""
             }
            },
            "type": "scatter3d"
           }
          ],
          "scattercarpet": [
           {
            "marker": {
             "colorbar": {
              "outlinewidth": 0,
              "ticks": ""
             }
            },
            "type": "scattercarpet"
           }
          ],
          "scattergeo": [
           {
            "marker": {
             "colorbar": {
              "outlinewidth": 0,
              "ticks": ""
             }
            },
            "type": "scattergeo"
           }
          ],
          "scattergl": [
           {
            "marker": {
             "colorbar": {
              "outlinewidth": 0,
              "ticks": ""
             }
            },
            "type": "scattergl"
           }
          ],
          "scattermapbox": [
           {
            "marker": {
             "colorbar": {
              "outlinewidth": 0,
              "ticks": ""
             }
            },
            "type": "scattermapbox"
           }
          ],
          "scatterpolar": [
           {
            "marker": {
             "colorbar": {
              "outlinewidth": 0,
              "ticks": ""
             }
            },
            "type": "scatterpolar"
           }
          ],
          "scatterpolargl": [
           {
            "marker": {
             "colorbar": {
              "outlinewidth": 0,
              "ticks": ""
             }
            },
            "type": "scatterpolargl"
           }
          ],
          "scatterternary": [
           {
            "marker": {
             "colorbar": {
              "outlinewidth": 0,
              "ticks": ""
             }
            },
            "type": "scatterternary"
           }
          ],
          "surface": [
           {
            "colorbar": {
             "outlinewidth": 0,
             "ticks": ""
            },
            "colorscale": [
             [
              0,
              "#0d0887"
             ],
             [
              0.1111111111111111,
              "#46039f"
             ],
             [
              0.2222222222222222,
              "#7201a8"
             ],
             [
              0.3333333333333333,
              "#9c179e"
             ],
             [
              0.4444444444444444,
              "#bd3786"
             ],
             [
              0.5555555555555556,
              "#d8576b"
             ],
             [
              0.6666666666666666,
              "#ed7953"
             ],
             [
              0.7777777777777778,
              "#fb9f3a"
             ],
             [
              0.8888888888888888,
              "#fdca26"
             ],
             [
              1,
              "#f0f921"
             ]
            ],
            "type": "surface"
           }
          ],
          "table": [
           {
            "cells": {
             "fill": {
              "color": "#EBF0F8"
             },
             "line": {
              "color": "white"
             }
            },
            "header": {
             "fill": {
              "color": "#C8D4E3"
             },
             "line": {
              "color": "white"
             }
            },
            "type": "table"
           }
          ]
         },
         "layout": {
          "annotationdefaults": {
           "arrowcolor": "#2a3f5f",
           "arrowhead": 0,
           "arrowwidth": 1
          },
          "coloraxis": {
           "colorbar": {
            "outlinewidth": 0,
            "ticks": ""
           }
          },
          "colorscale": {
           "diverging": [
            [
             0,
             "#8e0152"
            ],
            [
             0.1,
             "#c51b7d"
            ],
            [
             0.2,
             "#de77ae"
            ],
            [
             0.3,
             "#f1b6da"
            ],
            [
             0.4,
             "#fde0ef"
            ],
            [
             0.5,
             "#f7f7f7"
            ],
            [
             0.6,
             "#e6f5d0"
            ],
            [
             0.7,
             "#b8e186"
            ],
            [
             0.8,
             "#7fbc41"
            ],
            [
             0.9,
             "#4d9221"
            ],
            [
             1,
             "#276419"
            ]
           ],
           "sequential": [
            [
             0,
             "#0d0887"
            ],
            [
             0.1111111111111111,
             "#46039f"
            ],
            [
             0.2222222222222222,
             "#7201a8"
            ],
            [
             0.3333333333333333,
             "#9c179e"
            ],
            [
             0.4444444444444444,
             "#bd3786"
            ],
            [
             0.5555555555555556,
             "#d8576b"
            ],
            [
             0.6666666666666666,
             "#ed7953"
            ],
            [
             0.7777777777777778,
             "#fb9f3a"
            ],
            [
             0.8888888888888888,
             "#fdca26"
            ],
            [
             1,
             "#f0f921"
            ]
           ],
           "sequentialminus": [
            [
             0,
             "#0d0887"
            ],
            [
             0.1111111111111111,
             "#46039f"
            ],
            [
             0.2222222222222222,
             "#7201a8"
            ],
            [
             0.3333333333333333,
             "#9c179e"
            ],
            [
             0.4444444444444444,
             "#bd3786"
            ],
            [
             0.5555555555555556,
             "#d8576b"
            ],
            [
             0.6666666666666666,
             "#ed7953"
            ],
            [
             0.7777777777777778,
             "#fb9f3a"
            ],
            [
             0.8888888888888888,
             "#fdca26"
            ],
            [
             1,
             "#f0f921"
            ]
           ]
          },
          "colorway": [
           "#636efa",
           "#EF553B",
           "#00cc96",
           "#ab63fa",
           "#FFA15A",
           "#19d3f3",
           "#FF6692",
           "#B6E880",
           "#FF97FF",
           "#FECB52"
          ],
          "font": {
           "color": "#2a3f5f"
          },
          "geo": {
           "bgcolor": "white",
           "lakecolor": "white",
           "landcolor": "#E5ECF6",
           "showlakes": true,
           "showland": true,
           "subunitcolor": "white"
          },
          "hoverlabel": {
           "align": "left"
          },
          "hovermode": "closest",
          "mapbox": {
           "style": "light"
          },
          "paper_bgcolor": "white",
          "plot_bgcolor": "#E5ECF6",
          "polar": {
           "angularaxis": {
            "gridcolor": "white",
            "linecolor": "white",
            "ticks": ""
           },
           "bgcolor": "#E5ECF6",
           "radialaxis": {
            "gridcolor": "white",
            "linecolor": "white",
            "ticks": ""
           }
          },
          "scene": {
           "xaxis": {
            "backgroundcolor": "#E5ECF6",
            "gridcolor": "white",
            "gridwidth": 2,
            "linecolor": "white",
            "showbackground": true,
            "ticks": "",
            "zerolinecolor": "white"
           },
           "yaxis": {
            "backgroundcolor": "#E5ECF6",
            "gridcolor": "white",
            "gridwidth": 2,
            "linecolor": "white",
            "showbackground": true,
            "ticks": "",
            "zerolinecolor": "white"
           },
           "zaxis": {
            "backgroundcolor": "#E5ECF6",
            "gridcolor": "white",
            "gridwidth": 2,
            "linecolor": "white",
            "showbackground": true,
            "ticks": "",
            "zerolinecolor": "white"
           }
          },
          "shapedefaults": {
           "line": {
            "color": "#2a3f5f"
           }
          },
          "ternary": {
           "aaxis": {
            "gridcolor": "white",
            "linecolor": "white",
            "ticks": ""
           },
           "baxis": {
            "gridcolor": "white",
            "linecolor": "white",
            "ticks": ""
           },
           "bgcolor": "#E5ECF6",
           "caxis": {
            "gridcolor": "white",
            "linecolor": "white",
            "ticks": ""
           }
          },
          "title": {
           "x": 0.05
          },
          "xaxis": {
           "automargin": true,
           "gridcolor": "white",
           "linecolor": "white",
           "ticks": "",
           "title": {
            "standoff": 15
           },
           "zerolinecolor": "white",
           "zerolinewidth": 2
          },
          "yaxis": {
           "automargin": true,
           "gridcolor": "white",
           "linecolor": "white",
           "ticks": "",
           "title": {
            "standoff": 15
           },
           "zerolinecolor": "white",
           "zerolinewidth": 2
          }
         }
        },
        "title": {
         "font": {
          "color": "#4D5663"
         },
         "text": "Number of songs for each artist"
        },
        "xaxis": {
         "gridcolor": "#E1E5ED",
         "showgrid": true,
         "tickfont": {
          "color": "#4D5663"
         },
         "title": {
          "font": {
           "color": "#4D5663"
          },
          "text": "Artist"
         },
         "zerolinecolor": "#E1E5ED"
        },
        "yaxis": {
         "gridcolor": "#E1E5ED",
         "showgrid": true,
         "tickfont": {
          "color": "#4D5663"
         },
         "title": {
          "font": {
           "color": "#4D5663"
          },
          "text": "Number of songs"
         },
         "zerolinecolor": "#E1E5ED"
        }
       }
      },
      "text/html": [
       "<div>\n",
       "        \n",
       "        \n",
       "            <div id=\"1152180a-c4cc-4078-aa4c-1c7653bc5c8c\" class=\"plotly-graph-div\" style=\"height:525px; width:100%;\"></div>\n",
       "            <script type=\"text/javascript\">\n",
       "                require([\"plotly\"], function(Plotly) {\n",
       "                    window.PLOTLYENV=window.PLOTLYENV || {};\n",
       "                    window.PLOTLYENV.BASE_URL='https://plot.ly';\n",
       "                    \n",
       "                if (document.getElementById(\"1152180a-c4cc-4078-aa4c-1c7653bc5c8c\")) {\n",
       "                    Plotly.newPlot(\n",
       "                        '1152180a-c4cc-4078-aa4c-1c7653bc5c8c',\n",
       "                        [{\"marker\": {\"color\": \"rgba(255, 153, 51, 0.6)\", \"line\": {\"color\": \"rgba(255, 153, 51, 1.0)\", \"width\": 1}}, \"name\": \"id\", \"orientation\": \"v\", \"text\": \"\", \"type\": \"bar\", \"x\": [\"A Taste Of Honey\", \"Aaron Neville\", \"Abba\", \"Aerosmith\", \"Al Green\", \"Alabama\", \"Alan O'Day\", \"Alice Cooper\", \"Andy Gibb\", \"Anita Baker\", \"Ann Peebles\", \"Anne Murray\", \"Aretha Franklin\", \"Arthur Conley\", \"B.B. King\", \"B.J. Thomas\", \"Bachman-Turner Overdrive\", \"Bad Company\", \"Badfinger\", \"Baltimora\", \"Bananarama\", \"Barbara Lewis\", \"Barbra Streisand\", \"Barry White\", \"Bay City Rollers\", \"Beastie Boys\", \"Ben E. King\", \"Bertha Tillman\", \"Bette Midler\", \"Bill Withers\", \"Billy Idol\", \"Billy Joel\", \"Billy Preston\", \"Billy Squier\", \"Billy Swan\", \"Bing Crosby\", \"Biz Markie\", \"Blondie\", \"Blue Cheer\", \"Bo Diddley\", \"Bob Dylan\", \"Bob Seger\", \"Bobbi Martin\", \"Bobbie Gentry\", \"Bobby Bare\", \"Bobby Darin\", \"Bobby Womack\", \"Bonnie Pointer\", \"Bonnie Raitt\", \"Boston\", \"Boyz II Men\", \"Bread\", \"Brenda Lee\", \"Brother Jack McDuff\", \"Brownsville Station\", \"Bruce Channel\", \"Bruce Springsteen\", \"Buck Owens\", \"Candi Staton\", \"Canned Heat\", \"Carl Carlton\", \"Charlie Rich\", \"Cheap Trick\", \"Cher\", \"Chicago\", \"Chico DeBarge\", \"Chris Kenner\", \"Chubby Checker\", \"Chuck Berry\", \"Clarence Carter\", \"Cliff Richard\", \"Color Me Badd\", \"Commodores\", \"Corey Hart\", \"Cornelius Brothers & Sister Rose\", \"Count Basie\", \"Cream\", \"Creedence Clearwater Revival\", \"Crosby, Stills & Nash\", \"Crosby, Stills, Nash\", \"Culture Club\", \"Cyndi Lauper\", \"Daryl Hall & John Oates\", \"Dave Dudley\", \"David Bowie\", \"David Crosby,Graham Nash\", \"David Ruffin,Jimmy Ruffin\", \"De La Soul\", \"Dean Martin\", \"Debarge\", \"Depeche Mode\", \"Diana Ross\", \"Digital Underground\", \"Dinah Washington\", \"Dion\", \"Dolly Parton\", \"Don Gibson\", \"Donna Fargo\", \"Donna Summer\", \"Donovan\", \"Dottie West\", \"Double Exposure\", \"Dr. Hook\", \"Dr. John\", \"Duran Duran\", \"Eagles\", \"Earth, Wind & Fire\", \"Eddie Holland\", \"Eddie Rabbitt\", \"Edgar Winter\", \"Edwin Starr\", \"Elton John\", \"Elvis Presley\", \"Emerson, Lake & Palmer\", \"Engelbert Humperdinck\", \"Eric Carmen\", \"Eric Clapton\", \"Etta James\", \"Evelyn \\\"Champagne\\\" King\", \"Everly Brothers\", \"Fats Domino\", \"Firehouse\", \"Five Man Electrical Band\", \"Flatt & Scruggs\", \"Floyd Cramer\", \"Focus\", \"Foghat\", \"Fontella Bass\", \"Four Tops\", \"Freddie Jackson\", \"Freddy Fender\", \"Gary U.S. Bonds\", \"Gene Pitney\", \"General Public\", \"Genesis\", \"George Benson\", \"George Harrison\", \"Gino Vannelli\", \"Gladys Knight & The Pips\", \"Glen Campbell\", \"Gloria Gaynor\", \"Golden Earring\", \"Gordon Lightfoot\", \"Graham Nash\", \"Grand Funk Railroad\", \"Grateful Dead\", \"Greg Kihn\", \"Greg Kihn Band\", \"Hank Snow\", \"Harry Chapin\", \"Heart\", \"Hi-Five\", \"Huey Lewis\", \"INXS\", \"Ike & Tina Turner\", \"Irma Thomas\", \"Iron Butterfly\", \"Isaac Hayes\", \"J. Frank Wilson & The Cavaliers\", \"Jackie Wilson\", \"Jackson Browne\", \"James Brown\", \"James Taylor\", \"Jan & Dean\", \"Janis Joplin\", \"Jeff Beck\", \"Jefferson Starship\", \"Jermaine Jackson\", \"Jerry Jeff Walker\", \"Jerry Reed\", \"Jesus Jones\", \"Jethro Tull\", \"Jimi Hendrix\", \"Jimmy Buffett\", \"Jimmy Clanton\", \"Jimmy Cliff\", \"Jimmy Jones\", \"Jimmy Reed\", \"Jimmy Ruffin\", \"Jimmy Smith\", \"Joan Baez\", \"Joe Cocker\", \"John Denver\", \"Johnny Cash\", \"Johnny Horton\", \"Johnny Lee\", \"Johnny Tillotson\", \"Joni Mitchell\", \"Judas Priest\", \"Juice Newton\", \"Kaoma\", \"Kate Bush\", \"Kenny Rogers\", \"Kiss\", \"Kool & The Gang\", \"Kris Kristofferson\", \"LaVern Baker\", \"Laura Branigan\", \"Led Zeppelin\", \"Leo Sayer\", \"Lesley Gore\", \"Level 42\", \"Linda Ronstadt\", \"Little Anthony & The Imperials\", \"Little Joey & The Flips\", \"Little River Band\", \"Looking Glass\", \"Los Lobos\", \"Louis Armstrong\", \"Louis Prima & Keely Smith\", \"Lynyrd Skynyrd\", \"Madonna\", \"Marc Cohn\", \"Marie Osmond\", \"Marky Mark\", \"Martha & The Vandellas\", \"Marty Robbins\", \"Marvin Gaye\", \"Marvin Gaye,Kim Weston\", \"Marvin Gaye,Tammi Terrell\", \"Mary MacGregor\", \"Max Frost & The Troopers\", \"Meat Loaf\", \"Mel Torme\", \"Melba Montgomery\", \"Metallica\", \"Michael Jackson\", \"Michael Jackson With Siedah Garrett\", \"Michael Johnson\", \"Michael Sembello\", \"Milli Vanilli\", \"Minnie Riperton\", \"Naked Eyes\", \"Nancy Sinatra\", \"Nat \\\"King\\\" Cole\", \"Natalie Cole\", \"Neil Sedaka\", \"Neneh Cherry\", \"Nick Gilder\", \"Nitty Gritty Dirt Band\", \"Oak Ridge Boys\", \"Ocean\", \"Oliver\", \"Otis Redding\", \"Paper Lace\", \"Pat Benatar\", \"Patrick Hernandez\", \"Paul Anka\", \"Paul McCartney\", \"Paul Revere & The Raiders\", \"Paul Simon\", \"Peaches & Herb\", \"Peggy Lee\", \"Pet Shop Boys\", \"Peter Gabriel\", \"Phil Collins\", \"Pink Floyd\", \"Player\", \"Pointer Sisters\", \"Poison\", \"Prince (With Sheena Easton)\", \"Psychedelic Furs\", \"Pure Prairie League\", \"Quarterflash\", \"Queen\", \"Queensryche\", \"R. Dean Taylor\", \"REO Speedwagon\", \"Randy Vanwarmer\", \"Rare Earth\", \"Ray Charles\", \"Ray Parker Jr.\", \"Ray Price\", \"Redbone\", \"Rick Derringer\", \"Rick James\", \"Rick Springfield\", \"Righteous Brothers\", \"Rita Coolidge\", \"Rob Base\", \"Robert John\", \"Robert Palmer\", \"Roberta Flack\", \"Roberta Flack,Donny Hathaway\", \"Rock And Hyde\", \"Rockwell\", \"Rod Bernard\", \"Rod Stewart\", \"Roger Miller\", \"Ronnie Milsap\", \"Roxette\", \"Roxy Music\", \"Roy Drusky\", \"Roy Head\", \"Roy Orbison\", \"Run-D.M.C.\", \"Rush\", \"Sagittarius\", \"Sammy Hagar\", \"Santana\", \"Santo & Johnny\", \"Shannon\", \"Shirley Brown\", \"Simon & Garfunkel\", \"Simple Minds\", \"Sly & The Family Stone\", \"Smokey Robinson\", \"Snap\", \"Soft Cell\", \"Solomon Burke\", \"Sonny & Cher\", \"Spandau Ballet\", \"Stephanie Mills\", \"Steppenwolf\", \"Steve Miller Band\", \"Steve Winwood\", \"Stevie B\", \"Stevie Wonder\", \"Sting\", \"Stray Cats\", \"Swingin' Medallions\", \"Switch\", \"Talking Heads\", \"Tanya Tucker\", \"Teddy Pendergrass\", \"Ten Years After\", \"Tevin Campbell\", \"The 5th Dimension\", \"The Alan Parsons Project\", \"The Allman Brothers Band\", \"The Amboy Dukes\", \"The Animals\", \"The Babys\", \"The Band\", \"The Beach Boys\", \"The Beatles\", \"The Box Tops\", \"The Boys\", \"The Buckinghams\", \"The Byrds\", \"The Castaways\", \"The Chiffons\", \"The Contours\", \"The Cowsills\", \"The Crystals\", \"The Cure\", \"The Doobie Brothers\", \"The Doors\", \"The Dramatics\", \"The Drifters\", \"The Electric Prunes\", \"The Everly Brothers\", \"The Fabulous Thunderbirds\", \"The Falcons\", \"The Fireballs\", \"The Hollies\", \"The Isley Brothers\", \"The J. Geils Band\", \"The Jacksons\", \"The Kendalls\", \"The Kinks\", \"The La's\", \"The Meters\", \"The Miracles\", \"The Moments\", \"The Music Explosion\", \"The Music Machine\", \"The O'Jays\", \"The Osmonds\", \"The Pointer Sisters\", \"The Police\", \"The Power Station\", \"The Rascals\", \"The Rembrandts\", \"The Righteous Brothers\", \"The Ritchie Family\", \"The Robert Cray Band\", \"The Rolling Stones\", \"The Ronettes\", \"The Shirelles\", \"The Sopwith \\\"Camel\\\"\", \"The Staple Singers\", \"The String-A-Longs\", \"The Supremes\", \"The Tee Set\", \"The Temptations\", \"The Trammps\", \"The Turtles\", \"The Ventures\", \"The Weather Girls\", \"The Who\", \"The Yardbirds\", \"The Youngbloods\", \"Thelma Houston\", \"Tina Turner\", \"Todd Rundgren\", \"Tom Jones\", \"Tom T. Hall\", \"Tommy James\", \"Tracie Spencer\", \"Tracy Chapman\", \"U2\", \"UB40\", \"Urban Dance Squad\", \"Van Halen\", \"Village People\", \"Wang Chung\", \"Waylon Jennings\", \"Wednesday\", \"Wham!\", \"Whitesnake\", \"Wild Cherry\", \"Willie Mitchell\", \"Willie Nelson\", \"Wilson Phillips\", \"Wilson Pickett\", \"Yaz\", \"Young MC\", \"Yvonne Elliman\", \"ZZ Top\"], \"y\": [1, 1, 6, 1, 1, 1, 1, 2, 2, 4, 1, 4, 3, 1, 2, 1, 2, 1, 1, 2, 2, 1, 2, 1, 1, 1, 1, 1, 2, 2, 6, 5, 1, 3, 2, 2, 1, 2, 1, 1, 1, 8, 1, 1, 1, 1, 2, 1, 1, 2, 1, 3, 10, 1, 2, 1, 2, 2, 2, 2, 1, 4, 6, 2, 13, 1, 1, 2, 3, 3, 6, 1, 6, 2, 2, 1, 1, 2, 3, 1, 2, 8, 4, 1, 4, 1, 1, 1, 2, 1, 2, 1, 3, 3, 10, 3, 1, 2, 3, 1, 1, 1, 6, 1, 4, 4, 4, 1, 1, 1, 1, 5, 20, 1, 2, 2, 7, 4, 1, 1, 2, 2, 1, 2, 1, 2, 2, 1, 2, 1, 2, 1, 1, 1, 4, 1, 6, 4, 7, 5, 2, 1, 1, 1, 1, 1, 1, 1, 1, 1, 7, 1, 1, 1, 4, 1, 1, 2, 3, 1, 5, 8, 1, 3, 1, 1, 1, 1, 1, 1, 2, 1, 1, 1, 2, 1, 1, 2, 1, 1, 1, 1, 7, 2, 3, 1, 6, 2, 1, 2, 1, 1, 8, 1, 1, 1, 4, 1, 4, 1, 3, 2, 2, 1, 1, 6, 2, 1, 1, 1, 1, 2, 1, 1, 2, 1, 3, 3, 1, 3, 1, 1, 2, 1, 1, 1, 4, 1, 1, 1, 3, 1, 1, 1, 3, 2, 1, 2, 2, 2, 1, 1, 1, 3, 1, 7, 3, 2, 4, 1, 3, 1, 2, 5, 2, 1, 2, 1, 1, 1, 1, 1, 1, 2, 1, 2, 2, 2, 1, 1, 4, 1, 2, 1, 1, 2, 3, 1, 4, 1, 2, 2, 3, 2, 1, 2, 1, 2, 2, 1, 1, 2, 1, 1, 1, 1, 1, 1, 2, 1, 2, 1, 1, 6, 1, 2, 3, 2, 1, 2, 3, 1, 1, 1, 3, 2, 2, 5, 2, 3, 1, 1, 3, 1, 1, 2, 1, 5, 1, 1, 1, 1, 1, 1, 7, 10, 1, 1, 1, 2, 1, 2, 3, 2, 3, 1, 1, 1, 1, 2, 1, 6, 1, 1, 1, 2, 1, 6, 2, 1, 2, 1, 1, 5, 1, 1, 1, 1, 1, 2, 4, 1, 1, 1, 3, 1, 2, 16, 2, 1, 1, 2, 3, 2, 1, 2, 2, 1, 1, 1, 2, 2, 2, 1, 7, 2, 2, 2, 2, 1, 1, 1, 3, 1, 1, 1, 1, 2, 2, 1, 1, 1, 1, 1, 3, 5, 1, 1, 1, 1]}],\n",
       "                        {\"legend\": {\"bgcolor\": \"#FFFFFF\", \"font\": {\"color\": \"#4D5663\"}}, \"paper_bgcolor\": \"#FFFFFF\", \"plot_bgcolor\": \"#FFFFFF\", \"template\": {\"data\": {\"bar\": [{\"error_x\": {\"color\": \"#2a3f5f\"}, \"error_y\": {\"color\": \"#2a3f5f\"}, \"marker\": {\"line\": {\"color\": \"#E5ECF6\", \"width\": 0.5}}, \"type\": \"bar\"}], \"barpolar\": [{\"marker\": {\"line\": {\"color\": \"#E5ECF6\", \"width\": 0.5}}, \"type\": \"barpolar\"}], \"carpet\": [{\"aaxis\": {\"endlinecolor\": \"#2a3f5f\", \"gridcolor\": \"white\", \"linecolor\": \"white\", \"minorgridcolor\": \"white\", \"startlinecolor\": \"#2a3f5f\"}, \"baxis\": {\"endlinecolor\": \"#2a3f5f\", \"gridcolor\": \"white\", \"linecolor\": \"white\", \"minorgridcolor\": \"white\", \"startlinecolor\": \"#2a3f5f\"}, \"type\": \"carpet\"}], \"choropleth\": [{\"colorbar\": {\"outlinewidth\": 0, \"ticks\": \"\"}, \"type\": \"choropleth\"}], \"contour\": [{\"colorbar\": {\"outlinewidth\": 0, \"ticks\": \"\"}, \"colorscale\": [[0.0, \"#0d0887\"], [0.1111111111111111, \"#46039f\"], [0.2222222222222222, \"#7201a8\"], [0.3333333333333333, \"#9c179e\"], [0.4444444444444444, \"#bd3786\"], [0.5555555555555556, \"#d8576b\"], [0.6666666666666666, \"#ed7953\"], [0.7777777777777778, \"#fb9f3a\"], [0.8888888888888888, \"#fdca26\"], [1.0, \"#f0f921\"]], \"type\": \"contour\"}], \"contourcarpet\": [{\"colorbar\": {\"outlinewidth\": 0, \"ticks\": \"\"}, \"type\": \"contourcarpet\"}], \"heatmap\": [{\"colorbar\": {\"outlinewidth\": 0, \"ticks\": \"\"}, \"colorscale\": [[0.0, \"#0d0887\"], [0.1111111111111111, \"#46039f\"], [0.2222222222222222, \"#7201a8\"], [0.3333333333333333, \"#9c179e\"], [0.4444444444444444, \"#bd3786\"], [0.5555555555555556, \"#d8576b\"], [0.6666666666666666, \"#ed7953\"], [0.7777777777777778, \"#fb9f3a\"], [0.8888888888888888, \"#fdca26\"], [1.0, \"#f0f921\"]], \"type\": \"heatmap\"}], \"heatmapgl\": [{\"colorbar\": {\"outlinewidth\": 0, \"ticks\": \"\"}, \"colorscale\": [[0.0, \"#0d0887\"], [0.1111111111111111, \"#46039f\"], [0.2222222222222222, \"#7201a8\"], [0.3333333333333333, \"#9c179e\"], [0.4444444444444444, \"#bd3786\"], [0.5555555555555556, \"#d8576b\"], [0.6666666666666666, \"#ed7953\"], [0.7777777777777778, \"#fb9f3a\"], [0.8888888888888888, \"#fdca26\"], [1.0, \"#f0f921\"]], \"type\": \"heatmapgl\"}], \"histogram\": [{\"marker\": {\"colorbar\": {\"outlinewidth\": 0, \"ticks\": \"\"}}, \"type\": \"histogram\"}], \"histogram2d\": [{\"colorbar\": {\"outlinewidth\": 0, \"ticks\": \"\"}, \"colorscale\": [[0.0, \"#0d0887\"], [0.1111111111111111, \"#46039f\"], [0.2222222222222222, \"#7201a8\"], [0.3333333333333333, \"#9c179e\"], [0.4444444444444444, \"#bd3786\"], [0.5555555555555556, \"#d8576b\"], [0.6666666666666666, \"#ed7953\"], [0.7777777777777778, \"#fb9f3a\"], [0.8888888888888888, \"#fdca26\"], [1.0, \"#f0f921\"]], \"type\": \"histogram2d\"}], \"histogram2dcontour\": [{\"colorbar\": {\"outlinewidth\": 0, \"ticks\": \"\"}, \"colorscale\": [[0.0, \"#0d0887\"], [0.1111111111111111, \"#46039f\"], [0.2222222222222222, \"#7201a8\"], [0.3333333333333333, \"#9c179e\"], [0.4444444444444444, \"#bd3786\"], [0.5555555555555556, \"#d8576b\"], [0.6666666666666666, \"#ed7953\"], [0.7777777777777778, \"#fb9f3a\"], [0.8888888888888888, \"#fdca26\"], [1.0, \"#f0f921\"]], \"type\": \"histogram2dcontour\"}], \"mesh3d\": [{\"colorbar\": {\"outlinewidth\": 0, \"ticks\": \"\"}, \"type\": \"mesh3d\"}], \"parcoords\": [{\"line\": {\"colorbar\": {\"outlinewidth\": 0, \"ticks\": \"\"}}, \"type\": \"parcoords\"}], \"pie\": [{\"automargin\": true, \"type\": \"pie\"}], \"scatter\": [{\"marker\": {\"colorbar\": {\"outlinewidth\": 0, \"ticks\": \"\"}}, \"type\": \"scatter\"}], \"scatter3d\": [{\"line\": {\"colorbar\": {\"outlinewidth\": 0, \"ticks\": \"\"}}, \"marker\": {\"colorbar\": {\"outlinewidth\": 0, \"ticks\": \"\"}}, \"type\": \"scatter3d\"}], \"scattercarpet\": [{\"marker\": {\"colorbar\": {\"outlinewidth\": 0, \"ticks\": \"\"}}, \"type\": \"scattercarpet\"}], \"scattergeo\": [{\"marker\": {\"colorbar\": {\"outlinewidth\": 0, \"ticks\": \"\"}}, \"type\": \"scattergeo\"}], \"scattergl\": [{\"marker\": {\"colorbar\": {\"outlinewidth\": 0, \"ticks\": \"\"}}, \"type\": \"scattergl\"}], \"scattermapbox\": [{\"marker\": {\"colorbar\": {\"outlinewidth\": 0, \"ticks\": \"\"}}, \"type\": \"scattermapbox\"}], \"scatterpolar\": [{\"marker\": {\"colorbar\": {\"outlinewidth\": 0, \"ticks\": \"\"}}, \"type\": \"scatterpolar\"}], \"scatterpolargl\": [{\"marker\": {\"colorbar\": {\"outlinewidth\": 0, \"ticks\": \"\"}}, \"type\": \"scatterpolargl\"}], \"scatterternary\": [{\"marker\": {\"colorbar\": {\"outlinewidth\": 0, \"ticks\": \"\"}}, \"type\": \"scatterternary\"}], \"surface\": [{\"colorbar\": {\"outlinewidth\": 0, \"ticks\": \"\"}, \"colorscale\": [[0.0, \"#0d0887\"], [0.1111111111111111, \"#46039f\"], [0.2222222222222222, \"#7201a8\"], [0.3333333333333333, \"#9c179e\"], [0.4444444444444444, \"#bd3786\"], [0.5555555555555556, \"#d8576b\"], [0.6666666666666666, \"#ed7953\"], [0.7777777777777778, \"#fb9f3a\"], [0.8888888888888888, \"#fdca26\"], [1.0, \"#f0f921\"]], \"type\": \"surface\"}], \"table\": [{\"cells\": {\"fill\": {\"color\": \"#EBF0F8\"}, \"line\": {\"color\": \"white\"}}, \"header\": {\"fill\": {\"color\": \"#C8D4E3\"}, \"line\": {\"color\": \"white\"}}, \"type\": \"table\"}]}, \"layout\": {\"annotationdefaults\": {\"arrowcolor\": \"#2a3f5f\", \"arrowhead\": 0, \"arrowwidth\": 1}, \"coloraxis\": {\"colorbar\": {\"outlinewidth\": 0, \"ticks\": \"\"}}, \"colorscale\": {\"diverging\": [[0, \"#8e0152\"], [0.1, \"#c51b7d\"], [0.2, \"#de77ae\"], [0.3, \"#f1b6da\"], [0.4, \"#fde0ef\"], [0.5, \"#f7f7f7\"], [0.6, \"#e6f5d0\"], [0.7, \"#b8e186\"], [0.8, \"#7fbc41\"], [0.9, \"#4d9221\"], [1, \"#276419\"]], \"sequential\": [[0.0, \"#0d0887\"], [0.1111111111111111, \"#46039f\"], [0.2222222222222222, \"#7201a8\"], [0.3333333333333333, \"#9c179e\"], [0.4444444444444444, \"#bd3786\"], [0.5555555555555556, \"#d8576b\"], [0.6666666666666666, \"#ed7953\"], [0.7777777777777778, \"#fb9f3a\"], [0.8888888888888888, \"#fdca26\"], [1.0, \"#f0f921\"]], \"sequentialminus\": [[0.0, \"#0d0887\"], [0.1111111111111111, \"#46039f\"], [0.2222222222222222, \"#7201a8\"], [0.3333333333333333, \"#9c179e\"], [0.4444444444444444, \"#bd3786\"], [0.5555555555555556, \"#d8576b\"], [0.6666666666666666, \"#ed7953\"], [0.7777777777777778, \"#fb9f3a\"], [0.8888888888888888, \"#fdca26\"], [1.0, \"#f0f921\"]]}, \"colorway\": [\"#636efa\", \"#EF553B\", \"#00cc96\", \"#ab63fa\", \"#FFA15A\", \"#19d3f3\", \"#FF6692\", \"#B6E880\", \"#FF97FF\", \"#FECB52\"], \"font\": {\"color\": \"#2a3f5f\"}, \"geo\": {\"bgcolor\": \"white\", \"lakecolor\": \"white\", \"landcolor\": \"#E5ECF6\", \"showlakes\": true, \"showland\": true, \"subunitcolor\": \"white\"}, \"hoverlabel\": {\"align\": \"left\"}, \"hovermode\": \"closest\", \"mapbox\": {\"style\": \"light\"}, \"paper_bgcolor\": \"white\", \"plot_bgcolor\": \"#E5ECF6\", \"polar\": {\"angularaxis\": {\"gridcolor\": \"white\", \"linecolor\": \"white\", \"ticks\": \"\"}, \"bgcolor\": \"#E5ECF6\", \"radialaxis\": {\"gridcolor\": \"white\", \"linecolor\": \"white\", \"ticks\": \"\"}}, \"scene\": {\"xaxis\": {\"backgroundcolor\": \"#E5ECF6\", \"gridcolor\": \"white\", \"gridwidth\": 2, \"linecolor\": \"white\", \"showbackground\": true, \"ticks\": \"\", \"zerolinecolor\": \"white\"}, \"yaxis\": {\"backgroundcolor\": \"#E5ECF6\", \"gridcolor\": \"white\", \"gridwidth\": 2, \"linecolor\": \"white\", \"showbackground\": true, \"ticks\": \"\", \"zerolinecolor\": \"white\"}, \"zaxis\": {\"backgroundcolor\": \"#E5ECF6\", \"gridcolor\": \"white\", \"gridwidth\": 2, \"linecolor\": \"white\", \"showbackground\": true, \"ticks\": \"\", \"zerolinecolor\": \"white\"}}, \"shapedefaults\": {\"line\": {\"color\": \"#2a3f5f\"}}, \"ternary\": {\"aaxis\": {\"gridcolor\": \"white\", \"linecolor\": \"white\", \"ticks\": \"\"}, \"baxis\": {\"gridcolor\": \"white\", \"linecolor\": \"white\", \"ticks\": \"\"}, \"bgcolor\": \"#E5ECF6\", \"caxis\": {\"gridcolor\": \"white\", \"linecolor\": \"white\", \"ticks\": \"\"}}, \"title\": {\"x\": 0.05}, \"xaxis\": {\"automargin\": true, \"gridcolor\": \"white\", \"linecolor\": \"white\", \"ticks\": \"\", \"title\": {\"standoff\": 15}, \"zerolinecolor\": \"white\", \"zerolinewidth\": 2}, \"yaxis\": {\"automargin\": true, \"gridcolor\": \"white\", \"linecolor\": \"white\", \"ticks\": \"\", \"title\": {\"standoff\": 15}, \"zerolinecolor\": \"white\", \"zerolinewidth\": 2}}}, \"title\": {\"font\": {\"color\": \"#4D5663\"}, \"text\": \"Number of songs for each artist\"}, \"xaxis\": {\"gridcolor\": \"#E1E5ED\", \"showgrid\": true, \"tickfont\": {\"color\": \"#4D5663\"}, \"title\": {\"font\": {\"color\": \"#4D5663\"}, \"text\": \"Artist\"}, \"zerolinecolor\": \"#E1E5ED\"}, \"yaxis\": {\"gridcolor\": \"#E1E5ED\", \"showgrid\": true, \"tickfont\": {\"color\": \"#4D5663\"}, \"title\": {\"font\": {\"color\": \"#4D5663\"}, \"text\": \"Number of songs\"}, \"zerolinecolor\": \"#E1E5ED\"}},\n",
       "                        {\"showLink\": true, \"linkText\": \"Export to plot.ly\", \"plotlyServerURL\": \"https://plot.ly\", \"responsive\": true}\n",
       "                    ).then(function(){\n",
       "                            \n",
       "var gd = document.getElementById('1152180a-c4cc-4078-aa4c-1c7653bc5c8c');\n",
       "var x = new MutationObserver(function (mutations, observer) {{\n",
       "        var display = window.getComputedStyle(gd).display;\n",
       "        if (!display || display === 'none') {{\n",
       "            console.log([gd, 'removed!']);\n",
       "            Plotly.purge(gd);\n",
       "            observer.disconnect();\n",
       "        }}\n",
       "}});\n",
       "\n",
       "// Listen for the removal of the full notebook cells\n",
       "var notebookContainer = gd.closest('#notebook-container');\n",
       "if (notebookContainer) {{\n",
       "    x.observe(notebookContainer, {childList: true});\n",
       "}}\n",
       "\n",
       "// Listen for the clearing of the current output cell\n",
       "var outputEl = gd.closest('.output');\n",
       "if (outputEl) {{\n",
       "    x.observe(outputEl, {childList: true});\n",
       "}}\n",
       "\n",
       "                        })\n",
       "                };\n",
       "                });\n",
       "            </script>\n",
       "        </div>"
      ]
     },
     "metadata": {},
     "output_type": "display_data"
    }
   ],
   "source": [
    "metadata_df.groupby('artist').id.count().iplot(kind=\"bar\",title=\"Number of songs for each artist\",xTitle=\"Artist\",yTitle=\"Number of songs\")\n"
   ]
  },
  {
   "cell_type": "markdown",
   "metadata": {},
   "source": [
    "### Parser "
   ]
  },
  {
   "cell_type": "code",
   "execution_count": 15,
   "metadata": {},
   "outputs": [],
   "source": [
    "SONG_ID, LINE_NUMBER, MEASURE_NUMBER, CHORD_NUMBER, SEQUENCE_NUMBER, \\\n",
    "CHORD, INSTRUMENT, TYPE, TIME, STRUCTURE, DURATION, REPETITION, ELID = \\\n",
    "\"song_id\",\"line_id\", \"measure_id\", \"chord_id\", \"sequence_id\",\\\n",
    "\"chord\", \"instrument\", \"section_type\", \"time\", \"section_structure\", \"duration\", \"repetition\", \"elided\"\n",
    "\n",
    "#This is dependant of \"metre\" in the txt files.\n",
    "METRE = \"metre\"\n",
    "\n",
    "#Create a new dictionary from two other\n",
    "def immutable_merge(dic1, dic2):\n",
    "    result = dic1.copy()\n",
    "    result.update(dic2)\n",
    "    return result\n",
    "\n",
    "#Create a row of the futur df as a dictionary\n",
    "def create_row(persistent_attributes, line_attributes,\n",
    "               measure_number = None, chord_number = None, chord = None, duration = None):\n",
    "    result = immutable_merge(persistent_attributes, line_attributes)\n",
    "    \n",
    "    if not (measure_number is None and measure_number is None and chord_number is None and duration is None):\n",
    "        result[MEASURE_NUMBER] = measure_number\n",
    "        result[CHORD_NUMBER] = chord_number\n",
    "        result[CHORD] = chord\n",
    "        result[DURATION] = duration\n",
    "    \n",
    "    return result\n",
    "\n",
    "#Generate the attributes of a given line and update the sequence counter\n",
    "def process_line_metadata(header, line_counter, old_line_attributes, sequence_counter, suffix = \"\"):\n",
    "    \n",
    "    result = {}\n",
    "    \n",
    "    #Suffix (main instrument, elid, repetition)\n",
    "    old_instrument = str(old_line_attributes.get(INSTRUMENT))\n",
    "    \n",
    "    for suffix in suffix.split(\", \"):\n",
    "        \n",
    "        suffix = suffix.strip()\n",
    "        \n",
    "        #Repetition\n",
    "        if re.match(\"^x\\d+$\",suffix):\n",
    "            result[REPETITION] = int(suffix[1])\n",
    "        \n",
    "        #Elid\n",
    "        elif suffix == \"->\":\n",
    "            result[ELID] = True\n",
    "\n",
    "        #Instrument\n",
    "        else:\n",
    "            ##New instrument\n",
    "            if len(suffix) > 0 and suffix != \"\\n\":\n",
    "                result[INSTRUMENT] = suffix.strip(\"\\n\").strip(\",\").strip()\n",
    "\n",
    "            ##Main instrument continued (experimental)\n",
    "            elif not old_instrument.endswith(\")\") and old_instrument.lower() not in [\"nan\",\"none\"] \\\n",
    "            and len(old_instrument)>0:\n",
    "                result[INSTRUMENT] = old_instrument.strip(\"(\")\n",
    "\n",
    "        \n",
    "    #Line number\n",
    "    result[LINE_NUMBER] = line_counter\n",
    "\n",
    "    \n",
    "    #Header    \n",
    "    header_items = header.split()\n",
    "        \n",
    "    result[TIME] = header_items[0]\n",
    "    \n",
    "    #Case where a section is continued\n",
    "    if len(header_items) == 1:\n",
    "        result[TYPE] = old_line_attributes.get(TYPE)\n",
    "        result[STRUCTURE] = old_line_attributes.get(STRUCTURE)\n",
    "        result[SEQUENCE_NUMBER] = old_line_attributes.get(SEQUENCE_NUMBER)\n",
    "    \n",
    "    #Case where a section has no structure (silence, end, fadeout)\n",
    "    elif len(header_items) == 2:\n",
    "        \n",
    "        #Z is a structure, not a type.\n",
    "        if header_items[1].strip().strip(\",\") == \"Z\":\n",
    "            result[STRUCTURE] = header_items[1].strip().strip(\",\")\n",
    "        else:\n",
    "            result[TYPE] = header_items[1].strip().strip(\",\")\n",
    "            \n",
    "        result[SEQUENCE_NUMBER] = sequence_counter\n",
    "        sequence_counter += 1\n",
    "    \n",
    "    #Case where a section begins.\n",
    "    elif len(header_items) == 3:\n",
    "        result[STRUCTURE] = header_items[1].strip().strip(\",\")\n",
    "        result[TYPE] = header_items[2].strip().strip(\",\")\n",
    "        result[SEQUENCE_NUMBER] = sequence_counter\n",
    "        sequence_counter += 1\n",
    "    \n",
    "    return sequence_counter, result"
   ]
  },
  {
   "cell_type": "code",
   "execution_count": 16,
   "metadata": {},
   "outputs": [],
   "source": [
    "def parse_song_to_dict(song_id, path):\n",
    "    \n",
    "    rows = []\n",
    "    persistent_attributes = {}\n",
    "    \n",
    "    persistent_attributes[SONG_ID] = song_id\n",
    "    \n",
    "    with open(path,\"r\") as file:\n",
    "        line = file.readline()\n",
    "        \n",
    "        line_counter = 0\n",
    "        measure_counter = 0\n",
    "        chord_counter = 0\n",
    "        sequence_counter = 0\n",
    "        line_attributes = {}\n",
    "        old_chord = None\n",
    " \n",
    "\n",
    "        while line:\n",
    "        \n",
    "            if line != \"\\n\":\n",
    "\n",
    "                #Attribute lines\n",
    "                if line.startswith(\"#\"):\n",
    "                    attribute, value = line.strip(\"#\").split(\":\",1)\n",
    "                    persistent_attributes[attribute.strip(\" \")] = value.strip(\" \").strip(\"\\n\")\n",
    "\n",
    "                else:\n",
    "                    line_items = line.split(\"|\")\n",
    "\n",
    "                    #Special lines\n",
    "                    if len(line_items) <= 1:\n",
    "                        sequence_counter, line_attributes = \\\n",
    "                        process_line_metadata(line, line_counter, line_attributes, sequence_counter)\n",
    "                        row = create_row(persistent_attributes, line_attributes)\n",
    "                        rows.append(row)\n",
    "\n",
    "                    #Standard lines    \n",
    "                    else:                    \n",
    "                        header = line_items[0]\n",
    "                        suffix = line_items[-1]\n",
    "                        measures = line_items[1:-1]\n",
    "\n",
    "                        sequence_counter, line_attributes = \\\n",
    "                        process_line_metadata(header, line_counter, line_attributes, sequence_counter, suffix)  \n",
    "\n",
    "                        for measure in measures:\n",
    "                            \n",
    "                            chords = measure.split()\n",
    "                            \n",
    "                            #Special metric (experimental)\n",
    "                            old_metre = persistent_attributes.get(METRE)\n",
    "                            if re.match(\"^\\(\\d/\\d\\)$\", chords[0]):\n",
    "                                persistent_attributes[METRE] = str(chords[0][1]) + \"/\" + str(chords[0][3])\n",
    "                                chords = chords[1:]\n",
    "                            \n",
    "                            if len(chords) == 1:\n",
    "                                duration = \"measure\"\n",
    "                            else:\n",
    "                                duration = \"beat\"\n",
    "                            \n",
    "                            for chord in chords:\n",
    "                                \n",
    "                                if chord == \".\":\n",
    "                                    chord = old_chord\n",
    "                                \n",
    "                                row = create_row(persistent_attributes, line_attributes,\n",
    "                                                 measure_counter, chord_counter, chord, duration)\n",
    "                                rows.append(row)\n",
    "                                old_chord = chord\n",
    "                                chord_counter += 1\n",
    "\n",
    "                            measure_counter += 1\n",
    "                            persistent_attributes[METRE] = old_metre\n",
    "            \n",
    "            #Finally\n",
    "            line_counter += 1\n",
    "            line = file.readline()\n",
    "    \n",
    "    \n",
    "    return rows"
   ]
  },
  {
   "cell_type": "code",
   "execution_count": 17,
   "metadata": {},
   "outputs": [],
   "source": [
    "test = pd.DataFrame(parse_song_to_dict(0,\"data/McGill-Billboard/0004/salami_chords.txt\"))"
   ]
  },
  {
   "cell_type": "code",
   "execution_count": 18,
   "metadata": {},
   "outputs": [],
   "source": [
    "def create_whole_collection_df():\n",
    "    \n",
    "    path = \"data/McGill-Billboard/\"\n",
    "    file_name = \"/salami_chords.txt\"\n",
    "    UPPER_BOUND = 1300\n",
    "    \n",
    "    whole_collection = []\n",
    "    \n",
    "    i = 0\n",
    "    while i <= UPPER_BOUND:\n",
    "        full_path = path + \"0\"*(4-len(str(i)))+ str(i) + file_name\n",
    "        \n",
    "        if os.path.exists(full_path):\n",
    "            whole_collection += parse_song_to_dict(i, full_path)\n",
    "        \n",
    "        i += 1\n",
    "        \n",
    "    whole_collection_df = pd.DataFrame(whole_collection)\n",
    "    \n",
    "    return whole_collection_df.astype({SEQUENCE_NUMBER: 'Int64', MEASURE_NUMBER: 'Int64', CHORD_NUMBER: 'Int64', \\\n",
    "                                      REPETITION: 'Int64'})"
   ]
  },
  {
   "cell_type": "code",
   "execution_count": 19,
   "metadata": {},
   "outputs": [],
   "source": [
    "collection_df = create_whole_collection_df()"
   ]
  },
  {
   "cell_type": "code",
   "execution_count": 20,
   "metadata": {},
   "outputs": [
    {
     "data": {
      "text/html": [
       "<div>\n",
       "<style scoped>\n",
       "    .dataframe tbody tr th:only-of-type {\n",
       "        vertical-align: middle;\n",
       "    }\n",
       "\n",
       "    .dataframe tbody tr th {\n",
       "        vertical-align: top;\n",
       "    }\n",
       "\n",
       "    .dataframe thead th {\n",
       "        text-align: right;\n",
       "    }\n",
       "</style>\n",
       "<table border=\"1\" class=\"dataframe\">\n",
       "  <thead>\n",
       "    <tr style=\"text-align: right;\">\n",
       "      <th></th>\n",
       "      <th>song_id</th>\n",
       "      <th>title</th>\n",
       "      <th>artist</th>\n",
       "      <th>metre</th>\n",
       "      <th>tonic</th>\n",
       "      <th>line_id</th>\n",
       "      <th>time</th>\n",
       "      <th>section_type</th>\n",
       "      <th>sequence_id</th>\n",
       "      <th>section_structure</th>\n",
       "      <th>measure_id</th>\n",
       "      <th>chord_id</th>\n",
       "      <th>chord</th>\n",
       "      <th>duration</th>\n",
       "      <th>instrument</th>\n",
       "      <th>elided</th>\n",
       "      <th>repetition</th>\n",
       "    </tr>\n",
       "  </thead>\n",
       "  <tbody>\n",
       "    <tr>\n",
       "      <td>20332</td>\n",
       "      <td>217</td>\n",
       "      <td>Jessie's Girl</td>\n",
       "      <td>Rick Springfield</td>\n",
       "      <td>4/4</td>\n",
       "      <td>D</td>\n",
       "      <td>29</td>\n",
       "      <td>136.19526077</td>\n",
       "      <td>interlude</td>\n",
       "      <td>7</td>\n",
       "      <td>B'''</td>\n",
       "      <td>48</td>\n",
       "      <td>145</td>\n",
       "      <td>D:maj</td>\n",
       "      <td>beat</td>\n",
       "      <td>(voice)</td>\n",
       "      <td>NaN</td>\n",
       "      <td>NaN</td>\n",
       "    </tr>\n",
       "    <tr>\n",
       "      <td>1680</td>\n",
       "      <td>25</td>\n",
       "      <td>Chicago</td>\n",
       "      <td>Graham Nash</td>\n",
       "      <td>4/4</td>\n",
       "      <td>A</td>\n",
       "      <td>16</td>\n",
       "      <td>87.648253968</td>\n",
       "      <td>chorus</td>\n",
       "      <td>6</td>\n",
       "      <td>C</td>\n",
       "      <td>30</td>\n",
       "      <td>115</td>\n",
       "      <td>F:maj</td>\n",
       "      <td>beat</td>\n",
       "      <td>voice</td>\n",
       "      <td>NaN</td>\n",
       "      <td>NaN</td>\n",
       "    </tr>\n",
       "    <tr>\n",
       "      <td>25460</td>\n",
       "      <td>267</td>\n",
       "      <td>Worried Guy</td>\n",
       "      <td>Johnny Tillotson</td>\n",
       "      <td>4/4</td>\n",
       "      <td>G</td>\n",
       "      <td>18</td>\n",
       "      <td>67.419387755</td>\n",
       "      <td>verse</td>\n",
       "      <td>5</td>\n",
       "      <td>B</td>\n",
       "      <td>49</td>\n",
       "      <td>61</td>\n",
       "      <td>C:maj</td>\n",
       "      <td>measure</td>\n",
       "      <td>voice</td>\n",
       "      <td>NaN</td>\n",
       "      <td>NaN</td>\n",
       "    </tr>\n",
       "    <tr>\n",
       "      <td>123235</td>\n",
       "      <td>1242</td>\n",
       "      <td>Last Dance</td>\n",
       "      <td>Donna Summer</td>\n",
       "      <td>4/4</td>\n",
       "      <td>F</td>\n",
       "      <td>22</td>\n",
       "      <td>144.825736961</td>\n",
       "      <td>verse</td>\n",
       "      <td>6</td>\n",
       "      <td>B</td>\n",
       "      <td>59</td>\n",
       "      <td>64</td>\n",
       "      <td>C:aug(b7)</td>\n",
       "      <td>measure</td>\n",
       "      <td>(strings</td>\n",
       "      <td>NaN</td>\n",
       "      <td>NaN</td>\n",
       "    </tr>\n",
       "    <tr>\n",
       "      <td>47448</td>\n",
       "      <td>476</td>\n",
       "      <td>I Adore Mi Amor</td>\n",
       "      <td>Color Me Badd</td>\n",
       "      <td>4/4</td>\n",
       "      <td>Eb</td>\n",
       "      <td>10</td>\n",
       "      <td>49.240158730</td>\n",
       "      <td>verse</td>\n",
       "      <td>2</td>\n",
       "      <td>B</td>\n",
       "      <td>22</td>\n",
       "      <td>30</td>\n",
       "      <td>Bb:sus4</td>\n",
       "      <td>beat</td>\n",
       "      <td>voice</td>\n",
       "      <td>NaN</td>\n",
       "      <td>NaN</td>\n",
       "    </tr>\n",
       "    <tr>\n",
       "      <td>74665</td>\n",
       "      <td>743</td>\n",
       "      <td>One Way or Another</td>\n",
       "      <td>Blondie</td>\n",
       "      <td>4/4</td>\n",
       "      <td>D</td>\n",
       "      <td>18</td>\n",
       "      <td>71.712675736</td>\n",
       "      <td>verse</td>\n",
       "      <td>4</td>\n",
       "      <td>A</td>\n",
       "      <td>48</td>\n",
       "      <td>51</td>\n",
       "      <td>B:maj</td>\n",
       "      <td>measure</td>\n",
       "      <td>voice</td>\n",
       "      <td>NaN</td>\n",
       "      <td>NaN</td>\n",
       "    </tr>\n",
       "    <tr>\n",
       "      <td>80929</td>\n",
       "      <td>804</td>\n",
       "      <td>September</td>\n",
       "      <td>Earth, Wind &amp; Fire</td>\n",
       "      <td>4/4</td>\n",
       "      <td>D</td>\n",
       "      <td>9</td>\n",
       "      <td>16.286825396</td>\n",
       "      <td>intro</td>\n",
       "      <td>2</td>\n",
       "      <td>A</td>\n",
       "      <td>8</td>\n",
       "      <td>20</td>\n",
       "      <td>A:11</td>\n",
       "      <td>measure</td>\n",
       "      <td>NaN</td>\n",
       "      <td>NaN</td>\n",
       "      <td>NaN</td>\n",
       "    </tr>\n",
       "    <tr>\n",
       "      <td>93208</td>\n",
       "      <td>915</td>\n",
       "      <td>Sweet Caroline (Good Times Never Seemed So Good)</td>\n",
       "      <td>Bobby Womack</td>\n",
       "      <td>4/4</td>\n",
       "      <td>E</td>\n",
       "      <td>13</td>\n",
       "      <td>50.266893424</td>\n",
       "      <td>verse</td>\n",
       "      <td>2</td>\n",
       "      <td>B</td>\n",
       "      <td>29</td>\n",
       "      <td>32</td>\n",
       "      <td>A:maj</td>\n",
       "      <td>measure</td>\n",
       "      <td>voice</td>\n",
       "      <td>NaN</td>\n",
       "      <td>NaN</td>\n",
       "    </tr>\n",
       "    <tr>\n",
       "      <td>96343</td>\n",
       "      <td>958</td>\n",
       "      <td>Miss You</td>\n",
       "      <td>The Rolling Stones</td>\n",
       "      <td>4/4</td>\n",
       "      <td>A</td>\n",
       "      <td>8</td>\n",
       "      <td>18.781201814</td>\n",
       "      <td>intro</td>\n",
       "      <td>1</td>\n",
       "      <td>A</td>\n",
       "      <td>8</td>\n",
       "      <td>8</td>\n",
       "      <td>A:min7</td>\n",
       "      <td>measure</td>\n",
       "      <td>NaN</td>\n",
       "      <td>NaN</td>\n",
       "      <td>NaN</td>\n",
       "    </tr>\n",
       "    <tr>\n",
       "      <td>4116</td>\n",
       "      <td>53</td>\n",
       "      <td>Over The Hills and Far Away</td>\n",
       "      <td>Led Zeppelin</td>\n",
       "      <td>4/4</td>\n",
       "      <td>G</td>\n",
       "      <td>8</td>\n",
       "      <td>35.239433106</td>\n",
       "      <td>intro</td>\n",
       "      <td>0</td>\n",
       "      <td>A</td>\n",
       "      <td>15</td>\n",
       "      <td>16</td>\n",
       "      <td>C:maj</td>\n",
       "      <td>beat</td>\n",
       "      <td>guitar)</td>\n",
       "      <td>NaN</td>\n",
       "      <td>NaN</td>\n",
       "    </tr>\n",
       "  </tbody>\n",
       "</table>\n",
       "</div>"
      ],
      "text/plain": [
       "        song_id                                             title  \\\n",
       "20332       217                                     Jessie's Girl   \n",
       "1680         25                                          Chicago    \n",
       "25460       267                                       Worried Guy   \n",
       "123235     1242                                        Last Dance   \n",
       "47448       476                                   I Adore Mi Amor   \n",
       "74665       743                                One Way or Another   \n",
       "80929       804                                         September   \n",
       "93208       915  Sweet Caroline (Good Times Never Seemed So Good)   \n",
       "96343       958                                          Miss You   \n",
       "4116         53                       Over The Hills and Far Away   \n",
       "\n",
       "                    artist metre tonic  line_id           time section_type  \\\n",
       "20332     Rick Springfield   4/4     D       29   136.19526077    interlude   \n",
       "1680           Graham Nash   4/4     A       16   87.648253968       chorus   \n",
       "25460     Johnny Tillotson   4/4     G       18   67.419387755        verse   \n",
       "123235        Donna Summer   4/4     F       22  144.825736961        verse   \n",
       "47448        Color Me Badd   4/4    Eb       10   49.240158730        verse   \n",
       "74665              Blondie   4/4     D       18   71.712675736        verse   \n",
       "80929   Earth, Wind & Fire   4/4     D        9   16.286825396        intro   \n",
       "93208         Bobby Womack   4/4     E       13   50.266893424        verse   \n",
       "96343   The Rolling Stones   4/4     A        8   18.781201814        intro   \n",
       "4116          Led Zeppelin   4/4     G        8   35.239433106        intro   \n",
       "\n",
       "        sequence_id section_structure  measure_id  chord_id      chord  \\\n",
       "20332             7              B'''          48       145      D:maj   \n",
       "1680              6                 C          30       115      F:maj   \n",
       "25460             5                 B          49        61      C:maj   \n",
       "123235            6                 B          59        64  C:aug(b7)   \n",
       "47448             2                 B          22        30    Bb:sus4   \n",
       "74665             4                 A          48        51      B:maj   \n",
       "80929             2                 A           8        20       A:11   \n",
       "93208             2                 B          29        32      A:maj   \n",
       "96343             1                 A           8         8     A:min7   \n",
       "4116              0                 A          15        16      C:maj   \n",
       "\n",
       "       duration instrument elided  repetition  \n",
       "20332      beat    (voice)    NaN         NaN  \n",
       "1680       beat      voice    NaN         NaN  \n",
       "25460   measure      voice    NaN         NaN  \n",
       "123235  measure   (strings    NaN         NaN  \n",
       "47448      beat      voice    NaN         NaN  \n",
       "74665   measure      voice    NaN         NaN  \n",
       "80929   measure        NaN    NaN         NaN  \n",
       "93208   measure      voice    NaN         NaN  \n",
       "96343   measure        NaN    NaN         NaN  \n",
       "4116       beat    guitar)    NaN         NaN  "
      ]
     },
     "execution_count": 20,
     "metadata": {},
     "output_type": "execute_result"
    }
   ],
   "source": [
    "collection_df.sample(10)"
   ]
  },
  {
   "cell_type": "code",
   "execution_count": 21,
   "metadata": {},
   "outputs": [],
   "source": [
    "#BUGS: Point = répétition du même accord? A élucider et modifier. DONE\n",
    "# Il y a des mesures à un seul accord, d'autres à un accord par temps. A prendre en compte ! DONE\n",
    "#Introduire un sequence_id qui identifie un chorus, un verse, etc... DONE\n",
    "#Signalétique indiquant une répétition (x) ou un elid (->) à prendre en compte (colonne instrument) DONE\n",
    "#Dans certains morceaux, il y a des mesures au metre différent du metre principal, indiqué entre (). DONE\n",
    "#La lettre Z est parfois classée comme \"type\", parfois comme \"structure\" DONE\n",
    "\n",
    "#&pause est de taille arbitraire, pas forcément une mesure"
   ]
  },
  {
   "cell_type": "markdown",
   "metadata": {},
   "source": [
    "### Exploratory statistical analysis"
   ]
  },
  {
   "cell_type": "markdown",
   "metadata": {},
   "source": [
    "If we look at the number of sample per year we have, we see it's pretty well distributed. "
   ]
  },
  {
   "cell_type": "code",
   "execution_count": 22,
   "metadata": {},
   "outputs": [
    {
     "data": {
      "application/vnd.plotly.v1+json": {
       "config": {
        "linkText": "Export to plot.ly",
        "plotlyServerURL": "https://plot.ly",
        "showLink": true
       },
       "data": [
        {
         "marker": {
          "color": "rgba(255, 153, 51, 0.6)",
          "line": {
           "color": "rgba(255, 153, 51, 1.0)",
           "width": 1
          }
         },
         "name": "chart_date",
         "orientation": "v",
         "text": "",
         "type": "bar",
         "x": [
          1958,
          1959,
          1960,
          1961,
          1962,
          1963,
          1964,
          1965,
          1966,
          1967,
          1968,
          1969,
          1970,
          1971,
          1972,
          1973,
          1974,
          1975,
          1976,
          1977,
          1978,
          1979,
          1980,
          1981,
          1982,
          1983,
          1984,
          1985,
          1986,
          1987,
          1988,
          1989,
          1990,
          1991
         ],
         "y": [
          15,
          28,
          27,
          41,
          45,
          52,
          45,
          32,
          32,
          40,
          41,
          39,
          37,
          52,
          39,
          44,
          48,
          36,
          40,
          44,
          46,
          39,
          49,
          39,
          38,
          32,
          41,
          34,
          43,
          32,
          28,
          35,
          29,
          38
         ]
        }
       ],
       "layout": {
        "legend": {
         "bgcolor": "#FFFFFF",
         "font": {
          "color": "#4D5663"
         }
        },
        "paper_bgcolor": "#FFFFFF",
        "plot_bgcolor": "#FFFFFF",
        "template": {
         "data": {
          "bar": [
           {
            "error_x": {
             "color": "#2a3f5f"
            },
            "error_y": {
             "color": "#2a3f5f"
            },
            "marker": {
             "line": {
              "color": "#E5ECF6",
              "width": 0.5
             }
            },
            "type": "bar"
           }
          ],
          "barpolar": [
           {
            "marker": {
             "line": {
              "color": "#E5ECF6",
              "width": 0.5
             }
            },
            "type": "barpolar"
           }
          ],
          "carpet": [
           {
            "aaxis": {
             "endlinecolor": "#2a3f5f",
             "gridcolor": "white",
             "linecolor": "white",
             "minorgridcolor": "white",
             "startlinecolor": "#2a3f5f"
            },
            "baxis": {
             "endlinecolor": "#2a3f5f",
             "gridcolor": "white",
             "linecolor": "white",
             "minorgridcolor": "white",
             "startlinecolor": "#2a3f5f"
            },
            "type": "carpet"
           }
          ],
          "choropleth": [
           {
            "colorbar": {
             "outlinewidth": 0,
             "ticks": ""
            },
            "type": "choropleth"
           }
          ],
          "contour": [
           {
            "colorbar": {
             "outlinewidth": 0,
             "ticks": ""
            },
            "colorscale": [
             [
              0,
              "#0d0887"
             ],
             [
              0.1111111111111111,
              "#46039f"
             ],
             [
              0.2222222222222222,
              "#7201a8"
             ],
             [
              0.3333333333333333,
              "#9c179e"
             ],
             [
              0.4444444444444444,
              "#bd3786"
             ],
             [
              0.5555555555555556,
              "#d8576b"
             ],
             [
              0.6666666666666666,
              "#ed7953"
             ],
             [
              0.7777777777777778,
              "#fb9f3a"
             ],
             [
              0.8888888888888888,
              "#fdca26"
             ],
             [
              1,
              "#f0f921"
             ]
            ],
            "type": "contour"
           }
          ],
          "contourcarpet": [
           {
            "colorbar": {
             "outlinewidth": 0,
             "ticks": ""
            },
            "type": "contourcarpet"
           }
          ],
          "heatmap": [
           {
            "colorbar": {
             "outlinewidth": 0,
             "ticks": ""
            },
            "colorscale": [
             [
              0,
              "#0d0887"
             ],
             [
              0.1111111111111111,
              "#46039f"
             ],
             [
              0.2222222222222222,
              "#7201a8"
             ],
             [
              0.3333333333333333,
              "#9c179e"
             ],
             [
              0.4444444444444444,
              "#bd3786"
             ],
             [
              0.5555555555555556,
              "#d8576b"
             ],
             [
              0.6666666666666666,
              "#ed7953"
             ],
             [
              0.7777777777777778,
              "#fb9f3a"
             ],
             [
              0.8888888888888888,
              "#fdca26"
             ],
             [
              1,
              "#f0f921"
             ]
            ],
            "type": "heatmap"
           }
          ],
          "heatmapgl": [
           {
            "colorbar": {
             "outlinewidth": 0,
             "ticks": ""
            },
            "colorscale": [
             [
              0,
              "#0d0887"
             ],
             [
              0.1111111111111111,
              "#46039f"
             ],
             [
              0.2222222222222222,
              "#7201a8"
             ],
             [
              0.3333333333333333,
              "#9c179e"
             ],
             [
              0.4444444444444444,
              "#bd3786"
             ],
             [
              0.5555555555555556,
              "#d8576b"
             ],
             [
              0.6666666666666666,
              "#ed7953"
             ],
             [
              0.7777777777777778,
              "#fb9f3a"
             ],
             [
              0.8888888888888888,
              "#fdca26"
             ],
             [
              1,
              "#f0f921"
             ]
            ],
            "type": "heatmapgl"
           }
          ],
          "histogram": [
           {
            "marker": {
             "colorbar": {
              "outlinewidth": 0,
              "ticks": ""
             }
            },
            "type": "histogram"
           }
          ],
          "histogram2d": [
           {
            "colorbar": {
             "outlinewidth": 0,
             "ticks": ""
            },
            "colorscale": [
             [
              0,
              "#0d0887"
             ],
             [
              0.1111111111111111,
              "#46039f"
             ],
             [
              0.2222222222222222,
              "#7201a8"
             ],
             [
              0.3333333333333333,
              "#9c179e"
             ],
             [
              0.4444444444444444,
              "#bd3786"
             ],
             [
              0.5555555555555556,
              "#d8576b"
             ],
             [
              0.6666666666666666,
              "#ed7953"
             ],
             [
              0.7777777777777778,
              "#fb9f3a"
             ],
             [
              0.8888888888888888,
              "#fdca26"
             ],
             [
              1,
              "#f0f921"
             ]
            ],
            "type": "histogram2d"
           }
          ],
          "histogram2dcontour": [
           {
            "colorbar": {
             "outlinewidth": 0,
             "ticks": ""
            },
            "colorscale": [
             [
              0,
              "#0d0887"
             ],
             [
              0.1111111111111111,
              "#46039f"
             ],
             [
              0.2222222222222222,
              "#7201a8"
             ],
             [
              0.3333333333333333,
              "#9c179e"
             ],
             [
              0.4444444444444444,
              "#bd3786"
             ],
             [
              0.5555555555555556,
              "#d8576b"
             ],
             [
              0.6666666666666666,
              "#ed7953"
             ],
             [
              0.7777777777777778,
              "#fb9f3a"
             ],
             [
              0.8888888888888888,
              "#fdca26"
             ],
             [
              1,
              "#f0f921"
             ]
            ],
            "type": "histogram2dcontour"
           }
          ],
          "mesh3d": [
           {
            "colorbar": {
             "outlinewidth": 0,
             "ticks": ""
            },
            "type": "mesh3d"
           }
          ],
          "parcoords": [
           {
            "line": {
             "colorbar": {
              "outlinewidth": 0,
              "ticks": ""
             }
            },
            "type": "parcoords"
           }
          ],
          "pie": [
           {
            "automargin": true,
            "type": "pie"
           }
          ],
          "scatter": [
           {
            "marker": {
             "colorbar": {
              "outlinewidth": 0,
              "ticks": ""
             }
            },
            "type": "scatter"
           }
          ],
          "scatter3d": [
           {
            "line": {
             "colorbar": {
              "outlinewidth": 0,
              "ticks": ""
             }
            },
            "marker": {
             "colorbar": {
              "outlinewidth": 0,
              "ticks": ""
             }
            },
            "type": "scatter3d"
           }
          ],
          "scattercarpet": [
           {
            "marker": {
             "colorbar": {
              "outlinewidth": 0,
              "ticks": ""
             }
            },
            "type": "scattercarpet"
           }
          ],
          "scattergeo": [
           {
            "marker": {
             "colorbar": {
              "outlinewidth": 0,
              "ticks": ""
             }
            },
            "type": "scattergeo"
           }
          ],
          "scattergl": [
           {
            "marker": {
             "colorbar": {
              "outlinewidth": 0,
              "ticks": ""
             }
            },
            "type": "scattergl"
           }
          ],
          "scattermapbox": [
           {
            "marker": {
             "colorbar": {
              "outlinewidth": 0,
              "ticks": ""
             }
            },
            "type": "scattermapbox"
           }
          ],
          "scatterpolar": [
           {
            "marker": {
             "colorbar": {
              "outlinewidth": 0,
              "ticks": ""
             }
            },
            "type": "scatterpolar"
           }
          ],
          "scatterpolargl": [
           {
            "marker": {
             "colorbar": {
              "outlinewidth": 0,
              "ticks": ""
             }
            },
            "type": "scatterpolargl"
           }
          ],
          "scatterternary": [
           {
            "marker": {
             "colorbar": {
              "outlinewidth": 0,
              "ticks": ""
             }
            },
            "type": "scatterternary"
           }
          ],
          "surface": [
           {
            "colorbar": {
             "outlinewidth": 0,
             "ticks": ""
            },
            "colorscale": [
             [
              0,
              "#0d0887"
             ],
             [
              0.1111111111111111,
              "#46039f"
             ],
             [
              0.2222222222222222,
              "#7201a8"
             ],
             [
              0.3333333333333333,
              "#9c179e"
             ],
             [
              0.4444444444444444,
              "#bd3786"
             ],
             [
              0.5555555555555556,
              "#d8576b"
             ],
             [
              0.6666666666666666,
              "#ed7953"
             ],
             [
              0.7777777777777778,
              "#fb9f3a"
             ],
             [
              0.8888888888888888,
              "#fdca26"
             ],
             [
              1,
              "#f0f921"
             ]
            ],
            "type": "surface"
           }
          ],
          "table": [
           {
            "cells": {
             "fill": {
              "color": "#EBF0F8"
             },
             "line": {
              "color": "white"
             }
            },
            "header": {
             "fill": {
              "color": "#C8D4E3"
             },
             "line": {
              "color": "white"
             }
            },
            "type": "table"
           }
          ]
         },
         "layout": {
          "annotationdefaults": {
           "arrowcolor": "#2a3f5f",
           "arrowhead": 0,
           "arrowwidth": 1
          },
          "coloraxis": {
           "colorbar": {
            "outlinewidth": 0,
            "ticks": ""
           }
          },
          "colorscale": {
           "diverging": [
            [
             0,
             "#8e0152"
            ],
            [
             0.1,
             "#c51b7d"
            ],
            [
             0.2,
             "#de77ae"
            ],
            [
             0.3,
             "#f1b6da"
            ],
            [
             0.4,
             "#fde0ef"
            ],
            [
             0.5,
             "#f7f7f7"
            ],
            [
             0.6,
             "#e6f5d0"
            ],
            [
             0.7,
             "#b8e186"
            ],
            [
             0.8,
             "#7fbc41"
            ],
            [
             0.9,
             "#4d9221"
            ],
            [
             1,
             "#276419"
            ]
           ],
           "sequential": [
            [
             0,
             "#0d0887"
            ],
            [
             0.1111111111111111,
             "#46039f"
            ],
            [
             0.2222222222222222,
             "#7201a8"
            ],
            [
             0.3333333333333333,
             "#9c179e"
            ],
            [
             0.4444444444444444,
             "#bd3786"
            ],
            [
             0.5555555555555556,
             "#d8576b"
            ],
            [
             0.6666666666666666,
             "#ed7953"
            ],
            [
             0.7777777777777778,
             "#fb9f3a"
            ],
            [
             0.8888888888888888,
             "#fdca26"
            ],
            [
             1,
             "#f0f921"
            ]
           ],
           "sequentialminus": [
            [
             0,
             "#0d0887"
            ],
            [
             0.1111111111111111,
             "#46039f"
            ],
            [
             0.2222222222222222,
             "#7201a8"
            ],
            [
             0.3333333333333333,
             "#9c179e"
            ],
            [
             0.4444444444444444,
             "#bd3786"
            ],
            [
             0.5555555555555556,
             "#d8576b"
            ],
            [
             0.6666666666666666,
             "#ed7953"
            ],
            [
             0.7777777777777778,
             "#fb9f3a"
            ],
            [
             0.8888888888888888,
             "#fdca26"
            ],
            [
             1,
             "#f0f921"
            ]
           ]
          },
          "colorway": [
           "#636efa",
           "#EF553B",
           "#00cc96",
           "#ab63fa",
           "#FFA15A",
           "#19d3f3",
           "#FF6692",
           "#B6E880",
           "#FF97FF",
           "#FECB52"
          ],
          "font": {
           "color": "#2a3f5f"
          },
          "geo": {
           "bgcolor": "white",
           "lakecolor": "white",
           "landcolor": "#E5ECF6",
           "showlakes": true,
           "showland": true,
           "subunitcolor": "white"
          },
          "hoverlabel": {
           "align": "left"
          },
          "hovermode": "closest",
          "mapbox": {
           "style": "light"
          },
          "paper_bgcolor": "white",
          "plot_bgcolor": "#E5ECF6",
          "polar": {
           "angularaxis": {
            "gridcolor": "white",
            "linecolor": "white",
            "ticks": ""
           },
           "bgcolor": "#E5ECF6",
           "radialaxis": {
            "gridcolor": "white",
            "linecolor": "white",
            "ticks": ""
           }
          },
          "scene": {
           "xaxis": {
            "backgroundcolor": "#E5ECF6",
            "gridcolor": "white",
            "gridwidth": 2,
            "linecolor": "white",
            "showbackground": true,
            "ticks": "",
            "zerolinecolor": "white"
           },
           "yaxis": {
            "backgroundcolor": "#E5ECF6",
            "gridcolor": "white",
            "gridwidth": 2,
            "linecolor": "white",
            "showbackground": true,
            "ticks": "",
            "zerolinecolor": "white"
           },
           "zaxis": {
            "backgroundcolor": "#E5ECF6",
            "gridcolor": "white",
            "gridwidth": 2,
            "linecolor": "white",
            "showbackground": true,
            "ticks": "",
            "zerolinecolor": "white"
           }
          },
          "shapedefaults": {
           "line": {
            "color": "#2a3f5f"
           }
          },
          "ternary": {
           "aaxis": {
            "gridcolor": "white",
            "linecolor": "white",
            "ticks": ""
           },
           "baxis": {
            "gridcolor": "white",
            "linecolor": "white",
            "ticks": ""
           },
           "bgcolor": "#E5ECF6",
           "caxis": {
            "gridcolor": "white",
            "linecolor": "white",
            "ticks": ""
           }
          },
          "title": {
           "x": 0.05
          },
          "xaxis": {
           "automargin": true,
           "gridcolor": "white",
           "linecolor": "white",
           "ticks": "",
           "title": {
            "standoff": 15
           },
           "zerolinecolor": "white",
           "zerolinewidth": 2
          },
          "yaxis": {
           "automargin": true,
           "gridcolor": "white",
           "linecolor": "white",
           "ticks": "",
           "title": {
            "standoff": 15
           },
           "zerolinecolor": "white",
           "zerolinewidth": 2
          }
         }
        },
        "title": {
         "font": {
          "color": "#4D5663"
         },
         "text": "Number of sample song per year"
        },
        "xaxis": {
         "gridcolor": "#E1E5ED",
         "showgrid": true,
         "tickfont": {
          "color": "#4D5663"
         },
         "title": {
          "font": {
           "color": "#4D5663"
          },
          "text": "Year"
         },
         "zerolinecolor": "#E1E5ED"
        },
        "yaxis": {
         "gridcolor": "#E1E5ED",
         "showgrid": true,
         "tickfont": {
          "color": "#4D5663"
         },
         "title": {
          "font": {
           "color": "#4D5663"
          },
          "text": "Samples"
         },
         "zerolinecolor": "#E1E5ED"
        }
       }
      },
      "text/html": [
       "<div>\n",
       "        \n",
       "        \n",
       "            <div id=\"1e9c11e9-13a0-4468-b2ce-54acf278d6df\" class=\"plotly-graph-div\" style=\"height:525px; width:100%;\"></div>\n",
       "            <script type=\"text/javascript\">\n",
       "                require([\"plotly\"], function(Plotly) {\n",
       "                    window.PLOTLYENV=window.PLOTLYENV || {};\n",
       "                    window.PLOTLYENV.BASE_URL='https://plot.ly';\n",
       "                    \n",
       "                if (document.getElementById(\"1e9c11e9-13a0-4468-b2ce-54acf278d6df\")) {\n",
       "                    Plotly.newPlot(\n",
       "                        '1e9c11e9-13a0-4468-b2ce-54acf278d6df',\n",
       "                        [{\"marker\": {\"color\": \"rgba(255, 153, 51, 0.6)\", \"line\": {\"color\": \"rgba(255, 153, 51, 1.0)\", \"width\": 1}}, \"name\": \"chart_date\", \"orientation\": \"v\", \"text\": \"\", \"type\": \"bar\", \"x\": [1958, 1959, 1960, 1961, 1962, 1963, 1964, 1965, 1966, 1967, 1968, 1969, 1970, 1971, 1972, 1973, 1974, 1975, 1976, 1977, 1978, 1979, 1980, 1981, 1982, 1983, 1984, 1985, 1986, 1987, 1988, 1989, 1990, 1991], \"y\": [15, 28, 27, 41, 45, 52, 45, 32, 32, 40, 41, 39, 37, 52, 39, 44, 48, 36, 40, 44, 46, 39, 49, 39, 38, 32, 41, 34, 43, 32, 28, 35, 29, 38]}],\n",
       "                        {\"legend\": {\"bgcolor\": \"#FFFFFF\", \"font\": {\"color\": \"#4D5663\"}}, \"paper_bgcolor\": \"#FFFFFF\", \"plot_bgcolor\": \"#FFFFFF\", \"template\": {\"data\": {\"bar\": [{\"error_x\": {\"color\": \"#2a3f5f\"}, \"error_y\": {\"color\": \"#2a3f5f\"}, \"marker\": {\"line\": {\"color\": \"#E5ECF6\", \"width\": 0.5}}, \"type\": \"bar\"}], \"barpolar\": [{\"marker\": {\"line\": {\"color\": \"#E5ECF6\", \"width\": 0.5}}, \"type\": \"barpolar\"}], \"carpet\": [{\"aaxis\": {\"endlinecolor\": \"#2a3f5f\", \"gridcolor\": \"white\", \"linecolor\": \"white\", \"minorgridcolor\": \"white\", \"startlinecolor\": \"#2a3f5f\"}, \"baxis\": {\"endlinecolor\": \"#2a3f5f\", \"gridcolor\": \"white\", \"linecolor\": \"white\", \"minorgridcolor\": \"white\", \"startlinecolor\": \"#2a3f5f\"}, \"type\": \"carpet\"}], \"choropleth\": [{\"colorbar\": {\"outlinewidth\": 0, \"ticks\": \"\"}, \"type\": \"choropleth\"}], \"contour\": [{\"colorbar\": {\"outlinewidth\": 0, \"ticks\": \"\"}, \"colorscale\": [[0.0, \"#0d0887\"], [0.1111111111111111, \"#46039f\"], [0.2222222222222222, \"#7201a8\"], [0.3333333333333333, \"#9c179e\"], [0.4444444444444444, \"#bd3786\"], [0.5555555555555556, \"#d8576b\"], [0.6666666666666666, \"#ed7953\"], [0.7777777777777778, \"#fb9f3a\"], [0.8888888888888888, \"#fdca26\"], [1.0, \"#f0f921\"]], \"type\": \"contour\"}], \"contourcarpet\": [{\"colorbar\": {\"outlinewidth\": 0, \"ticks\": \"\"}, \"type\": \"contourcarpet\"}], \"heatmap\": [{\"colorbar\": {\"outlinewidth\": 0, \"ticks\": \"\"}, \"colorscale\": [[0.0, \"#0d0887\"], [0.1111111111111111, \"#46039f\"], [0.2222222222222222, \"#7201a8\"], [0.3333333333333333, \"#9c179e\"], [0.4444444444444444, \"#bd3786\"], [0.5555555555555556, \"#d8576b\"], [0.6666666666666666, \"#ed7953\"], [0.7777777777777778, \"#fb9f3a\"], [0.8888888888888888, \"#fdca26\"], [1.0, \"#f0f921\"]], \"type\": \"heatmap\"}], \"heatmapgl\": [{\"colorbar\": {\"outlinewidth\": 0, \"ticks\": \"\"}, \"colorscale\": [[0.0, \"#0d0887\"], [0.1111111111111111, \"#46039f\"], [0.2222222222222222, \"#7201a8\"], [0.3333333333333333, \"#9c179e\"], [0.4444444444444444, \"#bd3786\"], [0.5555555555555556, \"#d8576b\"], [0.6666666666666666, \"#ed7953\"], [0.7777777777777778, \"#fb9f3a\"], [0.8888888888888888, \"#fdca26\"], [1.0, \"#f0f921\"]], \"type\": \"heatmapgl\"}], \"histogram\": [{\"marker\": {\"colorbar\": {\"outlinewidth\": 0, \"ticks\": \"\"}}, \"type\": \"histogram\"}], \"histogram2d\": [{\"colorbar\": {\"outlinewidth\": 0, \"ticks\": \"\"}, \"colorscale\": [[0.0, \"#0d0887\"], [0.1111111111111111, \"#46039f\"], [0.2222222222222222, \"#7201a8\"], [0.3333333333333333, \"#9c179e\"], [0.4444444444444444, \"#bd3786\"], [0.5555555555555556, \"#d8576b\"], [0.6666666666666666, \"#ed7953\"], [0.7777777777777778, \"#fb9f3a\"], [0.8888888888888888, \"#fdca26\"], [1.0, \"#f0f921\"]], \"type\": \"histogram2d\"}], \"histogram2dcontour\": [{\"colorbar\": {\"outlinewidth\": 0, \"ticks\": \"\"}, \"colorscale\": [[0.0, \"#0d0887\"], [0.1111111111111111, \"#46039f\"], [0.2222222222222222, \"#7201a8\"], [0.3333333333333333, \"#9c179e\"], [0.4444444444444444, \"#bd3786\"], [0.5555555555555556, \"#d8576b\"], [0.6666666666666666, \"#ed7953\"], [0.7777777777777778, \"#fb9f3a\"], [0.8888888888888888, \"#fdca26\"], [1.0, \"#f0f921\"]], \"type\": \"histogram2dcontour\"}], \"mesh3d\": [{\"colorbar\": {\"outlinewidth\": 0, \"ticks\": \"\"}, \"type\": \"mesh3d\"}], \"parcoords\": [{\"line\": {\"colorbar\": {\"outlinewidth\": 0, \"ticks\": \"\"}}, \"type\": \"parcoords\"}], \"pie\": [{\"automargin\": true, \"type\": \"pie\"}], \"scatter\": [{\"marker\": {\"colorbar\": {\"outlinewidth\": 0, \"ticks\": \"\"}}, \"type\": \"scatter\"}], \"scatter3d\": [{\"line\": {\"colorbar\": {\"outlinewidth\": 0, \"ticks\": \"\"}}, \"marker\": {\"colorbar\": {\"outlinewidth\": 0, \"ticks\": \"\"}}, \"type\": \"scatter3d\"}], \"scattercarpet\": [{\"marker\": {\"colorbar\": {\"outlinewidth\": 0, \"ticks\": \"\"}}, \"type\": \"scattercarpet\"}], \"scattergeo\": [{\"marker\": {\"colorbar\": {\"outlinewidth\": 0, \"ticks\": \"\"}}, \"type\": \"scattergeo\"}], \"scattergl\": [{\"marker\": {\"colorbar\": {\"outlinewidth\": 0, \"ticks\": \"\"}}, \"type\": \"scattergl\"}], \"scattermapbox\": [{\"marker\": {\"colorbar\": {\"outlinewidth\": 0, \"ticks\": \"\"}}, \"type\": \"scattermapbox\"}], \"scatterpolar\": [{\"marker\": {\"colorbar\": {\"outlinewidth\": 0, \"ticks\": \"\"}}, \"type\": \"scatterpolar\"}], \"scatterpolargl\": [{\"marker\": {\"colorbar\": {\"outlinewidth\": 0, \"ticks\": \"\"}}, \"type\": \"scatterpolargl\"}], \"scatterternary\": [{\"marker\": {\"colorbar\": {\"outlinewidth\": 0, \"ticks\": \"\"}}, \"type\": \"scatterternary\"}], \"surface\": [{\"colorbar\": {\"outlinewidth\": 0, \"ticks\": \"\"}, \"colorscale\": [[0.0, \"#0d0887\"], [0.1111111111111111, \"#46039f\"], [0.2222222222222222, \"#7201a8\"], [0.3333333333333333, \"#9c179e\"], [0.4444444444444444, \"#bd3786\"], [0.5555555555555556, \"#d8576b\"], [0.6666666666666666, \"#ed7953\"], [0.7777777777777778, \"#fb9f3a\"], [0.8888888888888888, \"#fdca26\"], [1.0, \"#f0f921\"]], \"type\": \"surface\"}], \"table\": [{\"cells\": {\"fill\": {\"color\": \"#EBF0F8\"}, \"line\": {\"color\": \"white\"}}, \"header\": {\"fill\": {\"color\": \"#C8D4E3\"}, \"line\": {\"color\": \"white\"}}, \"type\": \"table\"}]}, \"layout\": {\"annotationdefaults\": {\"arrowcolor\": \"#2a3f5f\", \"arrowhead\": 0, \"arrowwidth\": 1}, \"coloraxis\": {\"colorbar\": {\"outlinewidth\": 0, \"ticks\": \"\"}}, \"colorscale\": {\"diverging\": [[0, \"#8e0152\"], [0.1, \"#c51b7d\"], [0.2, \"#de77ae\"], [0.3, \"#f1b6da\"], [0.4, \"#fde0ef\"], [0.5, \"#f7f7f7\"], [0.6, \"#e6f5d0\"], [0.7, \"#b8e186\"], [0.8, \"#7fbc41\"], [0.9, \"#4d9221\"], [1, \"#276419\"]], \"sequential\": [[0.0, \"#0d0887\"], [0.1111111111111111, \"#46039f\"], [0.2222222222222222, \"#7201a8\"], [0.3333333333333333, \"#9c179e\"], [0.4444444444444444, \"#bd3786\"], [0.5555555555555556, \"#d8576b\"], [0.6666666666666666, \"#ed7953\"], [0.7777777777777778, \"#fb9f3a\"], [0.8888888888888888, \"#fdca26\"], [1.0, \"#f0f921\"]], \"sequentialminus\": [[0.0, \"#0d0887\"], [0.1111111111111111, \"#46039f\"], [0.2222222222222222, \"#7201a8\"], [0.3333333333333333, \"#9c179e\"], [0.4444444444444444, \"#bd3786\"], [0.5555555555555556, \"#d8576b\"], [0.6666666666666666, \"#ed7953\"], [0.7777777777777778, \"#fb9f3a\"], [0.8888888888888888, \"#fdca26\"], [1.0, \"#f0f921\"]]}, \"colorway\": [\"#636efa\", \"#EF553B\", \"#00cc96\", \"#ab63fa\", \"#FFA15A\", \"#19d3f3\", \"#FF6692\", \"#B6E880\", \"#FF97FF\", \"#FECB52\"], \"font\": {\"color\": \"#2a3f5f\"}, \"geo\": {\"bgcolor\": \"white\", \"lakecolor\": \"white\", \"landcolor\": \"#E5ECF6\", \"showlakes\": true, \"showland\": true, \"subunitcolor\": \"white\"}, \"hoverlabel\": {\"align\": \"left\"}, \"hovermode\": \"closest\", \"mapbox\": {\"style\": \"light\"}, \"paper_bgcolor\": \"white\", \"plot_bgcolor\": \"#E5ECF6\", \"polar\": {\"angularaxis\": {\"gridcolor\": \"white\", \"linecolor\": \"white\", \"ticks\": \"\"}, \"bgcolor\": \"#E5ECF6\", \"radialaxis\": {\"gridcolor\": \"white\", \"linecolor\": \"white\", \"ticks\": \"\"}}, \"scene\": {\"xaxis\": {\"backgroundcolor\": \"#E5ECF6\", \"gridcolor\": \"white\", \"gridwidth\": 2, \"linecolor\": \"white\", \"showbackground\": true, \"ticks\": \"\", \"zerolinecolor\": \"white\"}, \"yaxis\": {\"backgroundcolor\": \"#E5ECF6\", \"gridcolor\": \"white\", \"gridwidth\": 2, \"linecolor\": \"white\", \"showbackground\": true, \"ticks\": \"\", \"zerolinecolor\": \"white\"}, \"zaxis\": {\"backgroundcolor\": \"#E5ECF6\", \"gridcolor\": \"white\", \"gridwidth\": 2, \"linecolor\": \"white\", \"showbackground\": true, \"ticks\": \"\", \"zerolinecolor\": \"white\"}}, \"shapedefaults\": {\"line\": {\"color\": \"#2a3f5f\"}}, \"ternary\": {\"aaxis\": {\"gridcolor\": \"white\", \"linecolor\": \"white\", \"ticks\": \"\"}, \"baxis\": {\"gridcolor\": \"white\", \"linecolor\": \"white\", \"ticks\": \"\"}, \"bgcolor\": \"#E5ECF6\", \"caxis\": {\"gridcolor\": \"white\", \"linecolor\": \"white\", \"ticks\": \"\"}}, \"title\": {\"x\": 0.05}, \"xaxis\": {\"automargin\": true, \"gridcolor\": \"white\", \"linecolor\": \"white\", \"ticks\": \"\", \"title\": {\"standoff\": 15}, \"zerolinecolor\": \"white\", \"zerolinewidth\": 2}, \"yaxis\": {\"automargin\": true, \"gridcolor\": \"white\", \"linecolor\": \"white\", \"ticks\": \"\", \"title\": {\"standoff\": 15}, \"zerolinecolor\": \"white\", \"zerolinewidth\": 2}}}, \"title\": {\"font\": {\"color\": \"#4D5663\"}, \"text\": \"Number of sample song per year\"}, \"xaxis\": {\"gridcolor\": \"#E1E5ED\", \"showgrid\": true, \"tickfont\": {\"color\": \"#4D5663\"}, \"title\": {\"font\": {\"color\": \"#4D5663\"}, \"text\": \"Year\"}, \"zerolinecolor\": \"#E1E5ED\"}, \"yaxis\": {\"gridcolor\": \"#E1E5ED\", \"showgrid\": true, \"tickfont\": {\"color\": \"#4D5663\"}, \"title\": {\"font\": {\"color\": \"#4D5663\"}, \"text\": \"Samples\"}, \"zerolinecolor\": \"#E1E5ED\"}},\n",
       "                        {\"showLink\": true, \"linkText\": \"Export to plot.ly\", \"plotlyServerURL\": \"https://plot.ly\", \"responsive\": true}\n",
       "                    ).then(function(){\n",
       "                            \n",
       "var gd = document.getElementById('1e9c11e9-13a0-4468-b2ce-54acf278d6df');\n",
       "var x = new MutationObserver(function (mutations, observer) {{\n",
       "        var display = window.getComputedStyle(gd).display;\n",
       "        if (!display || display === 'none') {{\n",
       "            console.log([gd, 'removed!']);\n",
       "            Plotly.purge(gd);\n",
       "            observer.disconnect();\n",
       "        }}\n",
       "}});\n",
       "\n",
       "// Listen for the removal of the full notebook cells\n",
       "var notebookContainer = gd.closest('#notebook-container');\n",
       "if (notebookContainer) {{\n",
       "    x.observe(notebookContainer, {childList: true});\n",
       "}}\n",
       "\n",
       "// Listen for the clearing of the current output cell\n",
       "var outputEl = gd.closest('.output');\n",
       "if (outputEl) {{\n",
       "    x.observe(outputEl, {childList: true});\n",
       "}}\n",
       "\n",
       "                        })\n",
       "                };\n",
       "                });\n",
       "            </script>\n",
       "        </div>"
      ]
     },
     "metadata": {},
     "output_type": "display_data"
    }
   ],
   "source": [
    "years=metadata_df.chart_date.map(lambda y:pd.to_datetime(y).year).value_counts(sort=False)\n",
    "years.iplot(kind='bar', title=\"Number of sample song per year\", xTitle=\"Year\", yTitle=\"Samples\")\n",
    "\n",
    "\n"
   ]
  },
  {
   "cell_type": "code",
   "execution_count": 23,
   "metadata": {},
   "outputs": [
    {
     "data": {
      "application/vnd.plotly.v1+json": {
       "config": {
        "linkText": "Export to plot.ly",
        "plotlyServerURL": "https://plot.ly",
        "showLink": true
       },
       "data": [
        {
         "marker": {
          "color": "rgba(255, 153, 51, 0.6)",
          "line": {
           "color": "rgba(255, 153, 51, 1.0)",
           "width": 1
          }
         },
         "name": "chord",
         "orientation": "v",
         "text": "",
         "type": "bar",
         "x": [
          "C:maj",
          "G:maj",
          "D:maj",
          "A:maj",
          "E:maj",
          "F:maj",
          "Bb:maj",
          "Ab:maj",
          "B:maj",
          "Eb:maj",
          "A:min",
          "B:min",
          "D:min",
          "E:min",
          "Db:maj",
          "N",
          "A:min7",
          "D:7",
          "G:7",
          "F#:maj"
         ],
         "y": [
          8326,
          7972,
          7407,
          7252,
          6087,
          5820,
          4682,
          3097,
          2990,
          2639,
          2190,
          2174,
          2142,
          1889,
          1815,
          1580,
          1329,
          1188,
          1147,
          1120
         ]
        }
       ],
       "layout": {
        "legend": {
         "bgcolor": "#FFFFFF",
         "font": {
          "color": "#4D5663"
         }
        },
        "paper_bgcolor": "#FFFFFF",
        "plot_bgcolor": "#FFFFFF",
        "template": {
         "data": {
          "bar": [
           {
            "error_x": {
             "color": "#2a3f5f"
            },
            "error_y": {
             "color": "#2a3f5f"
            },
            "marker": {
             "line": {
              "color": "#E5ECF6",
              "width": 0.5
             }
            },
            "type": "bar"
           }
          ],
          "barpolar": [
           {
            "marker": {
             "line": {
              "color": "#E5ECF6",
              "width": 0.5
             }
            },
            "type": "barpolar"
           }
          ],
          "carpet": [
           {
            "aaxis": {
             "endlinecolor": "#2a3f5f",
             "gridcolor": "white",
             "linecolor": "white",
             "minorgridcolor": "white",
             "startlinecolor": "#2a3f5f"
            },
            "baxis": {
             "endlinecolor": "#2a3f5f",
             "gridcolor": "white",
             "linecolor": "white",
             "minorgridcolor": "white",
             "startlinecolor": "#2a3f5f"
            },
            "type": "carpet"
           }
          ],
          "choropleth": [
           {
            "colorbar": {
             "outlinewidth": 0,
             "ticks": ""
            },
            "type": "choropleth"
           }
          ],
          "contour": [
           {
            "colorbar": {
             "outlinewidth": 0,
             "ticks": ""
            },
            "colorscale": [
             [
              0,
              "#0d0887"
             ],
             [
              0.1111111111111111,
              "#46039f"
             ],
             [
              0.2222222222222222,
              "#7201a8"
             ],
             [
              0.3333333333333333,
              "#9c179e"
             ],
             [
              0.4444444444444444,
              "#bd3786"
             ],
             [
              0.5555555555555556,
              "#d8576b"
             ],
             [
              0.6666666666666666,
              "#ed7953"
             ],
             [
              0.7777777777777778,
              "#fb9f3a"
             ],
             [
              0.8888888888888888,
              "#fdca26"
             ],
             [
              1,
              "#f0f921"
             ]
            ],
            "type": "contour"
           }
          ],
          "contourcarpet": [
           {
            "colorbar": {
             "outlinewidth": 0,
             "ticks": ""
            },
            "type": "contourcarpet"
           }
          ],
          "heatmap": [
           {
            "colorbar": {
             "outlinewidth": 0,
             "ticks": ""
            },
            "colorscale": [
             [
              0,
              "#0d0887"
             ],
             [
              0.1111111111111111,
              "#46039f"
             ],
             [
              0.2222222222222222,
              "#7201a8"
             ],
             [
              0.3333333333333333,
              "#9c179e"
             ],
             [
              0.4444444444444444,
              "#bd3786"
             ],
             [
              0.5555555555555556,
              "#d8576b"
             ],
             [
              0.6666666666666666,
              "#ed7953"
             ],
             [
              0.7777777777777778,
              "#fb9f3a"
             ],
             [
              0.8888888888888888,
              "#fdca26"
             ],
             [
              1,
              "#f0f921"
             ]
            ],
            "type": "heatmap"
           }
          ],
          "heatmapgl": [
           {
            "colorbar": {
             "outlinewidth": 0,
             "ticks": ""
            },
            "colorscale": [
             [
              0,
              "#0d0887"
             ],
             [
              0.1111111111111111,
              "#46039f"
             ],
             [
              0.2222222222222222,
              "#7201a8"
             ],
             [
              0.3333333333333333,
              "#9c179e"
             ],
             [
              0.4444444444444444,
              "#bd3786"
             ],
             [
              0.5555555555555556,
              "#d8576b"
             ],
             [
              0.6666666666666666,
              "#ed7953"
             ],
             [
              0.7777777777777778,
              "#fb9f3a"
             ],
             [
              0.8888888888888888,
              "#fdca26"
             ],
             [
              1,
              "#f0f921"
             ]
            ],
            "type": "heatmapgl"
           }
          ],
          "histogram": [
           {
            "marker": {
             "colorbar": {
              "outlinewidth": 0,
              "ticks": ""
             }
            },
            "type": "histogram"
           }
          ],
          "histogram2d": [
           {
            "colorbar": {
             "outlinewidth": 0,
             "ticks": ""
            },
            "colorscale": [
             [
              0,
              "#0d0887"
             ],
             [
              0.1111111111111111,
              "#46039f"
             ],
             [
              0.2222222222222222,
              "#7201a8"
             ],
             [
              0.3333333333333333,
              "#9c179e"
             ],
             [
              0.4444444444444444,
              "#bd3786"
             ],
             [
              0.5555555555555556,
              "#d8576b"
             ],
             [
              0.6666666666666666,
              "#ed7953"
             ],
             [
              0.7777777777777778,
              "#fb9f3a"
             ],
             [
              0.8888888888888888,
              "#fdca26"
             ],
             [
              1,
              "#f0f921"
             ]
            ],
            "type": "histogram2d"
           }
          ],
          "histogram2dcontour": [
           {
            "colorbar": {
             "outlinewidth": 0,
             "ticks": ""
            },
            "colorscale": [
             [
              0,
              "#0d0887"
             ],
             [
              0.1111111111111111,
              "#46039f"
             ],
             [
              0.2222222222222222,
              "#7201a8"
             ],
             [
              0.3333333333333333,
              "#9c179e"
             ],
             [
              0.4444444444444444,
              "#bd3786"
             ],
             [
              0.5555555555555556,
              "#d8576b"
             ],
             [
              0.6666666666666666,
              "#ed7953"
             ],
             [
              0.7777777777777778,
              "#fb9f3a"
             ],
             [
              0.8888888888888888,
              "#fdca26"
             ],
             [
              1,
              "#f0f921"
             ]
            ],
            "type": "histogram2dcontour"
           }
          ],
          "mesh3d": [
           {
            "colorbar": {
             "outlinewidth": 0,
             "ticks": ""
            },
            "type": "mesh3d"
           }
          ],
          "parcoords": [
           {
            "line": {
             "colorbar": {
              "outlinewidth": 0,
              "ticks": ""
             }
            },
            "type": "parcoords"
           }
          ],
          "pie": [
           {
            "automargin": true,
            "type": "pie"
           }
          ],
          "scatter": [
           {
            "marker": {
             "colorbar": {
              "outlinewidth": 0,
              "ticks": ""
             }
            },
            "type": "scatter"
           }
          ],
          "scatter3d": [
           {
            "line": {
             "colorbar": {
              "outlinewidth": 0,
              "ticks": ""
             }
            },
            "marker": {
             "colorbar": {
              "outlinewidth": 0,
              "ticks": ""
             }
            },
            "type": "scatter3d"
           }
          ],
          "scattercarpet": [
           {
            "marker": {
             "colorbar": {
              "outlinewidth": 0,
              "ticks": ""
             }
            },
            "type": "scattercarpet"
           }
          ],
          "scattergeo": [
           {
            "marker": {
             "colorbar": {
              "outlinewidth": 0,
              "ticks": ""
             }
            },
            "type": "scattergeo"
           }
          ],
          "scattergl": [
           {
            "marker": {
             "colorbar": {
              "outlinewidth": 0,
              "ticks": ""
             }
            },
            "type": "scattergl"
           }
          ],
          "scattermapbox": [
           {
            "marker": {
             "colorbar": {
              "outlinewidth": 0,
              "ticks": ""
             }
            },
            "type": "scattermapbox"
           }
          ],
          "scatterpolar": [
           {
            "marker": {
             "colorbar": {
              "outlinewidth": 0,
              "ticks": ""
             }
            },
            "type": "scatterpolar"
           }
          ],
          "scatterpolargl": [
           {
            "marker": {
             "colorbar": {
              "outlinewidth": 0,
              "ticks": ""
             }
            },
            "type": "scatterpolargl"
           }
          ],
          "scatterternary": [
           {
            "marker": {
             "colorbar": {
              "outlinewidth": 0,
              "ticks": ""
             }
            },
            "type": "scatterternary"
           }
          ],
          "surface": [
           {
            "colorbar": {
             "outlinewidth": 0,
             "ticks": ""
            },
            "colorscale": [
             [
              0,
              "#0d0887"
             ],
             [
              0.1111111111111111,
              "#46039f"
             ],
             [
              0.2222222222222222,
              "#7201a8"
             ],
             [
              0.3333333333333333,
              "#9c179e"
             ],
             [
              0.4444444444444444,
              "#bd3786"
             ],
             [
              0.5555555555555556,
              "#d8576b"
             ],
             [
              0.6666666666666666,
              "#ed7953"
             ],
             [
              0.7777777777777778,
              "#fb9f3a"
             ],
             [
              0.8888888888888888,
              "#fdca26"
             ],
             [
              1,
              "#f0f921"
             ]
            ],
            "type": "surface"
           }
          ],
          "table": [
           {
            "cells": {
             "fill": {
              "color": "#EBF0F8"
             },
             "line": {
              "color": "white"
             }
            },
            "header": {
             "fill": {
              "color": "#C8D4E3"
             },
             "line": {
              "color": "white"
             }
            },
            "type": "table"
           }
          ]
         },
         "layout": {
          "annotationdefaults": {
           "arrowcolor": "#2a3f5f",
           "arrowhead": 0,
           "arrowwidth": 1
          },
          "coloraxis": {
           "colorbar": {
            "outlinewidth": 0,
            "ticks": ""
           }
          },
          "colorscale": {
           "diverging": [
            [
             0,
             "#8e0152"
            ],
            [
             0.1,
             "#c51b7d"
            ],
            [
             0.2,
             "#de77ae"
            ],
            [
             0.3,
             "#f1b6da"
            ],
            [
             0.4,
             "#fde0ef"
            ],
            [
             0.5,
             "#f7f7f7"
            ],
            [
             0.6,
             "#e6f5d0"
            ],
            [
             0.7,
             "#b8e186"
            ],
            [
             0.8,
             "#7fbc41"
            ],
            [
             0.9,
             "#4d9221"
            ],
            [
             1,
             "#276419"
            ]
           ],
           "sequential": [
            [
             0,
             "#0d0887"
            ],
            [
             0.1111111111111111,
             "#46039f"
            ],
            [
             0.2222222222222222,
             "#7201a8"
            ],
            [
             0.3333333333333333,
             "#9c179e"
            ],
            [
             0.4444444444444444,
             "#bd3786"
            ],
            [
             0.5555555555555556,
             "#d8576b"
            ],
            [
             0.6666666666666666,
             "#ed7953"
            ],
            [
             0.7777777777777778,
             "#fb9f3a"
            ],
            [
             0.8888888888888888,
             "#fdca26"
            ],
            [
             1,
             "#f0f921"
            ]
           ],
           "sequentialminus": [
            [
             0,
             "#0d0887"
            ],
            [
             0.1111111111111111,
             "#46039f"
            ],
            [
             0.2222222222222222,
             "#7201a8"
            ],
            [
             0.3333333333333333,
             "#9c179e"
            ],
            [
             0.4444444444444444,
             "#bd3786"
            ],
            [
             0.5555555555555556,
             "#d8576b"
            ],
            [
             0.6666666666666666,
             "#ed7953"
            ],
            [
             0.7777777777777778,
             "#fb9f3a"
            ],
            [
             0.8888888888888888,
             "#fdca26"
            ],
            [
             1,
             "#f0f921"
            ]
           ]
          },
          "colorway": [
           "#636efa",
           "#EF553B",
           "#00cc96",
           "#ab63fa",
           "#FFA15A",
           "#19d3f3",
           "#FF6692",
           "#B6E880",
           "#FF97FF",
           "#FECB52"
          ],
          "font": {
           "color": "#2a3f5f"
          },
          "geo": {
           "bgcolor": "white",
           "lakecolor": "white",
           "landcolor": "#E5ECF6",
           "showlakes": true,
           "showland": true,
           "subunitcolor": "white"
          },
          "hoverlabel": {
           "align": "left"
          },
          "hovermode": "closest",
          "mapbox": {
           "style": "light"
          },
          "paper_bgcolor": "white",
          "plot_bgcolor": "#E5ECF6",
          "polar": {
           "angularaxis": {
            "gridcolor": "white",
            "linecolor": "white",
            "ticks": ""
           },
           "bgcolor": "#E5ECF6",
           "radialaxis": {
            "gridcolor": "white",
            "linecolor": "white",
            "ticks": ""
           }
          },
          "scene": {
           "xaxis": {
            "backgroundcolor": "#E5ECF6",
            "gridcolor": "white",
            "gridwidth": 2,
            "linecolor": "white",
            "showbackground": true,
            "ticks": "",
            "zerolinecolor": "white"
           },
           "yaxis": {
            "backgroundcolor": "#E5ECF6",
            "gridcolor": "white",
            "gridwidth": 2,
            "linecolor": "white",
            "showbackground": true,
            "ticks": "",
            "zerolinecolor": "white"
           },
           "zaxis": {
            "backgroundcolor": "#E5ECF6",
            "gridcolor": "white",
            "gridwidth": 2,
            "linecolor": "white",
            "showbackground": true,
            "ticks": "",
            "zerolinecolor": "white"
           }
          },
          "shapedefaults": {
           "line": {
            "color": "#2a3f5f"
           }
          },
          "ternary": {
           "aaxis": {
            "gridcolor": "white",
            "linecolor": "white",
            "ticks": ""
           },
           "baxis": {
            "gridcolor": "white",
            "linecolor": "white",
            "ticks": ""
           },
           "bgcolor": "#E5ECF6",
           "caxis": {
            "gridcolor": "white",
            "linecolor": "white",
            "ticks": ""
           }
          },
          "title": {
           "x": 0.05
          },
          "xaxis": {
           "automargin": true,
           "gridcolor": "white",
           "linecolor": "white",
           "ticks": "",
           "title": {
            "standoff": 15
           },
           "zerolinecolor": "white",
           "zerolinewidth": 2
          },
          "yaxis": {
           "automargin": true,
           "gridcolor": "white",
           "linecolor": "white",
           "ticks": "",
           "title": {
            "standoff": 15
           },
           "zerolinecolor": "white",
           "zerolinewidth": 2
          }
         }
        },
        "title": {
         "font": {
          "color": "#4D5663"
         },
         "text": "Twenty most frequent chords in the corpus"
        },
        "xaxis": {
         "gridcolor": "#E1E5ED",
         "showgrid": true,
         "tickfont": {
          "color": "#4D5663"
         },
         "title": {
          "font": {
           "color": "#4D5663"
          },
          "text": "Chord"
         },
         "zerolinecolor": "#E1E5ED"
        },
        "yaxis": {
         "gridcolor": "#E1E5ED",
         "showgrid": true,
         "tickfont": {
          "color": "#4D5663"
         },
         "title": {
          "font": {
           "color": "#4D5663"
          },
          "text": "Occurence"
         },
         "zerolinecolor": "#E1E5ED"
        }
       }
      },
      "text/html": [
       "<div>\n",
       "        \n",
       "        \n",
       "            <div id=\"ad929434-a902-4f96-b21c-8387e8905d3e\" class=\"plotly-graph-div\" style=\"height:525px; width:100%;\"></div>\n",
       "            <script type=\"text/javascript\">\n",
       "                require([\"plotly\"], function(Plotly) {\n",
       "                    window.PLOTLYENV=window.PLOTLYENV || {};\n",
       "                    window.PLOTLYENV.BASE_URL='https://plot.ly';\n",
       "                    \n",
       "                if (document.getElementById(\"ad929434-a902-4f96-b21c-8387e8905d3e\")) {\n",
       "                    Plotly.newPlot(\n",
       "                        'ad929434-a902-4f96-b21c-8387e8905d3e',\n",
       "                        [{\"marker\": {\"color\": \"rgba(255, 153, 51, 0.6)\", \"line\": {\"color\": \"rgba(255, 153, 51, 1.0)\", \"width\": 1}}, \"name\": \"chord\", \"orientation\": \"v\", \"text\": \"\", \"type\": \"bar\", \"x\": [\"C:maj\", \"G:maj\", \"D:maj\", \"A:maj\", \"E:maj\", \"F:maj\", \"Bb:maj\", \"Ab:maj\", \"B:maj\", \"Eb:maj\", \"A:min\", \"B:min\", \"D:min\", \"E:min\", \"Db:maj\", \"N\", \"A:min7\", \"D:7\", \"G:7\", \"F#:maj\"], \"y\": [8326, 7972, 7407, 7252, 6087, 5820, 4682, 3097, 2990, 2639, 2190, 2174, 2142, 1889, 1815, 1580, 1329, 1188, 1147, 1120]}],\n",
       "                        {\"legend\": {\"bgcolor\": \"#FFFFFF\", \"font\": {\"color\": \"#4D5663\"}}, \"paper_bgcolor\": \"#FFFFFF\", \"plot_bgcolor\": \"#FFFFFF\", \"template\": {\"data\": {\"bar\": [{\"error_x\": {\"color\": \"#2a3f5f\"}, \"error_y\": {\"color\": \"#2a3f5f\"}, \"marker\": {\"line\": {\"color\": \"#E5ECF6\", \"width\": 0.5}}, \"type\": \"bar\"}], \"barpolar\": [{\"marker\": {\"line\": {\"color\": \"#E5ECF6\", \"width\": 0.5}}, \"type\": \"barpolar\"}], \"carpet\": [{\"aaxis\": {\"endlinecolor\": \"#2a3f5f\", \"gridcolor\": \"white\", \"linecolor\": \"white\", \"minorgridcolor\": \"white\", \"startlinecolor\": \"#2a3f5f\"}, \"baxis\": {\"endlinecolor\": \"#2a3f5f\", \"gridcolor\": \"white\", \"linecolor\": \"white\", \"minorgridcolor\": \"white\", \"startlinecolor\": \"#2a3f5f\"}, \"type\": \"carpet\"}], \"choropleth\": [{\"colorbar\": {\"outlinewidth\": 0, \"ticks\": \"\"}, \"type\": \"choropleth\"}], \"contour\": [{\"colorbar\": {\"outlinewidth\": 0, \"ticks\": \"\"}, \"colorscale\": [[0.0, \"#0d0887\"], [0.1111111111111111, \"#46039f\"], [0.2222222222222222, \"#7201a8\"], [0.3333333333333333, \"#9c179e\"], [0.4444444444444444, \"#bd3786\"], [0.5555555555555556, \"#d8576b\"], [0.6666666666666666, \"#ed7953\"], [0.7777777777777778, \"#fb9f3a\"], [0.8888888888888888, \"#fdca26\"], [1.0, \"#f0f921\"]], \"type\": \"contour\"}], \"contourcarpet\": [{\"colorbar\": {\"outlinewidth\": 0, \"ticks\": \"\"}, \"type\": \"contourcarpet\"}], \"heatmap\": [{\"colorbar\": {\"outlinewidth\": 0, \"ticks\": \"\"}, \"colorscale\": [[0.0, \"#0d0887\"], [0.1111111111111111, \"#46039f\"], [0.2222222222222222, \"#7201a8\"], [0.3333333333333333, \"#9c179e\"], [0.4444444444444444, \"#bd3786\"], [0.5555555555555556, \"#d8576b\"], [0.6666666666666666, \"#ed7953\"], [0.7777777777777778, \"#fb9f3a\"], [0.8888888888888888, \"#fdca26\"], [1.0, \"#f0f921\"]], \"type\": \"heatmap\"}], \"heatmapgl\": [{\"colorbar\": {\"outlinewidth\": 0, \"ticks\": \"\"}, \"colorscale\": [[0.0, \"#0d0887\"], [0.1111111111111111, \"#46039f\"], [0.2222222222222222, \"#7201a8\"], [0.3333333333333333, \"#9c179e\"], [0.4444444444444444, \"#bd3786\"], [0.5555555555555556, \"#d8576b\"], [0.6666666666666666, \"#ed7953\"], [0.7777777777777778, \"#fb9f3a\"], [0.8888888888888888, \"#fdca26\"], [1.0, \"#f0f921\"]], \"type\": \"heatmapgl\"}], \"histogram\": [{\"marker\": {\"colorbar\": {\"outlinewidth\": 0, \"ticks\": \"\"}}, \"type\": \"histogram\"}], \"histogram2d\": [{\"colorbar\": {\"outlinewidth\": 0, \"ticks\": \"\"}, \"colorscale\": [[0.0, \"#0d0887\"], [0.1111111111111111, \"#46039f\"], [0.2222222222222222, \"#7201a8\"], [0.3333333333333333, \"#9c179e\"], [0.4444444444444444, \"#bd3786\"], [0.5555555555555556, \"#d8576b\"], [0.6666666666666666, \"#ed7953\"], [0.7777777777777778, \"#fb9f3a\"], [0.8888888888888888, \"#fdca26\"], [1.0, \"#f0f921\"]], \"type\": \"histogram2d\"}], \"histogram2dcontour\": [{\"colorbar\": {\"outlinewidth\": 0, \"ticks\": \"\"}, \"colorscale\": [[0.0, \"#0d0887\"], [0.1111111111111111, \"#46039f\"], [0.2222222222222222, \"#7201a8\"], [0.3333333333333333, \"#9c179e\"], [0.4444444444444444, \"#bd3786\"], [0.5555555555555556, \"#d8576b\"], [0.6666666666666666, \"#ed7953\"], [0.7777777777777778, \"#fb9f3a\"], [0.8888888888888888, \"#fdca26\"], [1.0, \"#f0f921\"]], \"type\": \"histogram2dcontour\"}], \"mesh3d\": [{\"colorbar\": {\"outlinewidth\": 0, \"ticks\": \"\"}, \"type\": \"mesh3d\"}], \"parcoords\": [{\"line\": {\"colorbar\": {\"outlinewidth\": 0, \"ticks\": \"\"}}, \"type\": \"parcoords\"}], \"pie\": [{\"automargin\": true, \"type\": \"pie\"}], \"scatter\": [{\"marker\": {\"colorbar\": {\"outlinewidth\": 0, \"ticks\": \"\"}}, \"type\": \"scatter\"}], \"scatter3d\": [{\"line\": {\"colorbar\": {\"outlinewidth\": 0, \"ticks\": \"\"}}, \"marker\": {\"colorbar\": {\"outlinewidth\": 0, \"ticks\": \"\"}}, \"type\": \"scatter3d\"}], \"scattercarpet\": [{\"marker\": {\"colorbar\": {\"outlinewidth\": 0, \"ticks\": \"\"}}, \"type\": \"scattercarpet\"}], \"scattergeo\": [{\"marker\": {\"colorbar\": {\"outlinewidth\": 0, \"ticks\": \"\"}}, \"type\": \"scattergeo\"}], \"scattergl\": [{\"marker\": {\"colorbar\": {\"outlinewidth\": 0, \"ticks\": \"\"}}, \"type\": \"scattergl\"}], \"scattermapbox\": [{\"marker\": {\"colorbar\": {\"outlinewidth\": 0, \"ticks\": \"\"}}, \"type\": \"scattermapbox\"}], \"scatterpolar\": [{\"marker\": {\"colorbar\": {\"outlinewidth\": 0, \"ticks\": \"\"}}, \"type\": \"scatterpolar\"}], \"scatterpolargl\": [{\"marker\": {\"colorbar\": {\"outlinewidth\": 0, \"ticks\": \"\"}}, \"type\": \"scatterpolargl\"}], \"scatterternary\": [{\"marker\": {\"colorbar\": {\"outlinewidth\": 0, \"ticks\": \"\"}}, \"type\": \"scatterternary\"}], \"surface\": [{\"colorbar\": {\"outlinewidth\": 0, \"ticks\": \"\"}, \"colorscale\": [[0.0, \"#0d0887\"], [0.1111111111111111, \"#46039f\"], [0.2222222222222222, \"#7201a8\"], [0.3333333333333333, \"#9c179e\"], [0.4444444444444444, \"#bd3786\"], [0.5555555555555556, \"#d8576b\"], [0.6666666666666666, \"#ed7953\"], [0.7777777777777778, \"#fb9f3a\"], [0.8888888888888888, \"#fdca26\"], [1.0, \"#f0f921\"]], \"type\": \"surface\"}], \"table\": [{\"cells\": {\"fill\": {\"color\": \"#EBF0F8\"}, \"line\": {\"color\": \"white\"}}, \"header\": {\"fill\": {\"color\": \"#C8D4E3\"}, \"line\": {\"color\": \"white\"}}, \"type\": \"table\"}]}, \"layout\": {\"annotationdefaults\": {\"arrowcolor\": \"#2a3f5f\", \"arrowhead\": 0, \"arrowwidth\": 1}, \"coloraxis\": {\"colorbar\": {\"outlinewidth\": 0, \"ticks\": \"\"}}, \"colorscale\": {\"diverging\": [[0, \"#8e0152\"], [0.1, \"#c51b7d\"], [0.2, \"#de77ae\"], [0.3, \"#f1b6da\"], [0.4, \"#fde0ef\"], [0.5, \"#f7f7f7\"], [0.6, \"#e6f5d0\"], [0.7, \"#b8e186\"], [0.8, \"#7fbc41\"], [0.9, \"#4d9221\"], [1, \"#276419\"]], \"sequential\": [[0.0, \"#0d0887\"], [0.1111111111111111, \"#46039f\"], [0.2222222222222222, \"#7201a8\"], [0.3333333333333333, \"#9c179e\"], [0.4444444444444444, \"#bd3786\"], [0.5555555555555556, \"#d8576b\"], [0.6666666666666666, \"#ed7953\"], [0.7777777777777778, \"#fb9f3a\"], [0.8888888888888888, \"#fdca26\"], [1.0, \"#f0f921\"]], \"sequentialminus\": [[0.0, \"#0d0887\"], [0.1111111111111111, \"#46039f\"], [0.2222222222222222, \"#7201a8\"], [0.3333333333333333, \"#9c179e\"], [0.4444444444444444, \"#bd3786\"], [0.5555555555555556, \"#d8576b\"], [0.6666666666666666, \"#ed7953\"], [0.7777777777777778, \"#fb9f3a\"], [0.8888888888888888, \"#fdca26\"], [1.0, \"#f0f921\"]]}, \"colorway\": [\"#636efa\", \"#EF553B\", \"#00cc96\", \"#ab63fa\", \"#FFA15A\", \"#19d3f3\", \"#FF6692\", \"#B6E880\", \"#FF97FF\", \"#FECB52\"], \"font\": {\"color\": \"#2a3f5f\"}, \"geo\": {\"bgcolor\": \"white\", \"lakecolor\": \"white\", \"landcolor\": \"#E5ECF6\", \"showlakes\": true, \"showland\": true, \"subunitcolor\": \"white\"}, \"hoverlabel\": {\"align\": \"left\"}, \"hovermode\": \"closest\", \"mapbox\": {\"style\": \"light\"}, \"paper_bgcolor\": \"white\", \"plot_bgcolor\": \"#E5ECF6\", \"polar\": {\"angularaxis\": {\"gridcolor\": \"white\", \"linecolor\": \"white\", \"ticks\": \"\"}, \"bgcolor\": \"#E5ECF6\", \"radialaxis\": {\"gridcolor\": \"white\", \"linecolor\": \"white\", \"ticks\": \"\"}}, \"scene\": {\"xaxis\": {\"backgroundcolor\": \"#E5ECF6\", \"gridcolor\": \"white\", \"gridwidth\": 2, \"linecolor\": \"white\", \"showbackground\": true, \"ticks\": \"\", \"zerolinecolor\": \"white\"}, \"yaxis\": {\"backgroundcolor\": \"#E5ECF6\", \"gridcolor\": \"white\", \"gridwidth\": 2, \"linecolor\": \"white\", \"showbackground\": true, \"ticks\": \"\", \"zerolinecolor\": \"white\"}, \"zaxis\": {\"backgroundcolor\": \"#E5ECF6\", \"gridcolor\": \"white\", \"gridwidth\": 2, \"linecolor\": \"white\", \"showbackground\": true, \"ticks\": \"\", \"zerolinecolor\": \"white\"}}, \"shapedefaults\": {\"line\": {\"color\": \"#2a3f5f\"}}, \"ternary\": {\"aaxis\": {\"gridcolor\": \"white\", \"linecolor\": \"white\", \"ticks\": \"\"}, \"baxis\": {\"gridcolor\": \"white\", \"linecolor\": \"white\", \"ticks\": \"\"}, \"bgcolor\": \"#E5ECF6\", \"caxis\": {\"gridcolor\": \"white\", \"linecolor\": \"white\", \"ticks\": \"\"}}, \"title\": {\"x\": 0.05}, \"xaxis\": {\"automargin\": true, \"gridcolor\": \"white\", \"linecolor\": \"white\", \"ticks\": \"\", \"title\": {\"standoff\": 15}, \"zerolinecolor\": \"white\", \"zerolinewidth\": 2}, \"yaxis\": {\"automargin\": true, \"gridcolor\": \"white\", \"linecolor\": \"white\", \"ticks\": \"\", \"title\": {\"standoff\": 15}, \"zerolinecolor\": \"white\", \"zerolinewidth\": 2}}}, \"title\": {\"font\": {\"color\": \"#4D5663\"}, \"text\": \"Twenty most frequent chords in the corpus\"}, \"xaxis\": {\"gridcolor\": \"#E1E5ED\", \"showgrid\": true, \"tickfont\": {\"color\": \"#4D5663\"}, \"title\": {\"font\": {\"color\": \"#4D5663\"}, \"text\": \"Chord\"}, \"zerolinecolor\": \"#E1E5ED\"}, \"yaxis\": {\"gridcolor\": \"#E1E5ED\", \"showgrid\": true, \"tickfont\": {\"color\": \"#4D5663\"}, \"title\": {\"font\": {\"color\": \"#4D5663\"}, \"text\": \"Occurence\"}, \"zerolinecolor\": \"#E1E5ED\"}},\n",
       "                        {\"showLink\": true, \"linkText\": \"Export to plot.ly\", \"plotlyServerURL\": \"https://plot.ly\", \"responsive\": true}\n",
       "                    ).then(function(){\n",
       "                            \n",
       "var gd = document.getElementById('ad929434-a902-4f96-b21c-8387e8905d3e');\n",
       "var x = new MutationObserver(function (mutations, observer) {{\n",
       "        var display = window.getComputedStyle(gd).display;\n",
       "        if (!display || display === 'none') {{\n",
       "            console.log([gd, 'removed!']);\n",
       "            Plotly.purge(gd);\n",
       "            observer.disconnect();\n",
       "        }}\n",
       "}});\n",
       "\n",
       "// Listen for the removal of the full notebook cells\n",
       "var notebookContainer = gd.closest('#notebook-container');\n",
       "if (notebookContainer) {{\n",
       "    x.observe(notebookContainer, {childList: true});\n",
       "}}\n",
       "\n",
       "// Listen for the clearing of the current output cell\n",
       "var outputEl = gd.closest('.output');\n",
       "if (outputEl) {{\n",
       "    x.observe(outputEl, {childList: true});\n",
       "}}\n",
       "\n",
       "                        })\n",
       "                };\n",
       "                });\n",
       "            </script>\n",
       "        </div>"
      ]
     },
     "metadata": {},
     "output_type": "display_data"
    }
   ],
   "source": [
    "collection_df.chord.value_counts().head(20).iplot(kind='bar',title=\"Twenty most frequent chords in the corpus\",xTitle=\"Chord\",yTitle=\"Occurence\")"
   ]
  },
  {
   "cell_type": "code",
   "execution_count": 24,
   "metadata": {},
   "outputs": [
    {
     "data": {
      "image/png": "[encoded data removed]",
      "text/plain": [
       "<Figure size 432x288 with 1 Axes>"
      ]
     },
     "metadata": {
      "needs_background": "light"
     },
     "output_type": "display_data"
    }
   ],
   "source": [
    "#Basic statistics: Number of unique chords per songs\n",
    "unique_chord_songs = collection_df[[SONG_ID,CHORD]].drop_duplicates().groupby(SONG_ID).count()\n",
    "n_bins = int(unique_chord_songs.max())+1\n",
    "unique_chord_songs.plot.hist(bins = n_bins, legend = False)\n",
    "plt.title('               Distribution of the number of unique chords per song', fontsize = 20)\n",
    "plt.xlabel('Number of unique chord', fontsize = 18)\n",
    "plt.ylabel('Frequency', fontsize = 18)\n",
    "plt.show()"
   ]
  },
  {
   "cell_type": "code",
   "execution_count": 25,
   "metadata": {},
   "outputs": [
    {
     "name": "stdout",
     "output_type": "stream",
     "text": [
      "Number of songs that contain a chorus : 739\n",
      "Number of songs that contain a verse : 858\n",
      "Number of songs that contain both : 712\n"
     ]
    }
   ],
   "source": [
    "print(\"Number of songs that contain a chorus : %s\" %str(np.sum(collection_df[[SONG_ID,TYPE]].drop_duplicates()[TYPE] == \"chorus\")))\n",
    "\n",
    "print(\"Number of songs that contain a verse : %s\" %str(np.sum(collection_df[[SONG_ID,TYPE]].drop_duplicates()[TYPE] == \"verse\")))\n",
    "\n",
    "unique_section_songs = collection_df[[SONG_ID,TYPE]].drop_duplicates().groupby(SONG_ID)[TYPE].apply(list)\n",
    "print(\"Number of songs that contain both : %s\" %str(np.sum(unique_section_songs.apply(lambda l : \"chorus\" in l and \"verse\" in l))))"
   ]
  },
  {
   "cell_type": "markdown",
   "metadata": {},
   "source": [
    "We can also look at the duration of the songs :"
   ]
  },
  {
   "cell_type": "code",
   "execution_count": 26,
   "metadata": {},
   "outputs": [
    {
     "data": {
      "image/png": "[encoded data removed]",
      "text/plain": [
       "<Figure size 432x288 with 1 Axes>"
      ]
     },
     "metadata": {
      "needs_background": "light"
     },
     "output_type": "display_data"
    }
   ],
   "source": [
    "collection_df[\"time\"]=collection_df.time.apply(lambda y: int(float(y)))\n",
    "bob=collection_df.groupby(\"song_id\").time.max()\n",
    "n_bins = int(bob.max())+1\n",
    "bob.plot.hist(bins = n_bins, legend = False)\n",
    "plt.title('Distribution of song duration', fontsize = 20)\n",
    "plt.xlabel('Time in seconds', fontsize = 18)\n",
    "plt.ylabel('Frequency', fontsize = 18)\n",
    "plt.show()\n"
   ]
  },
  {
   "cell_type": "markdown",
   "metadata": {},
   "source": [
    "# Milestone 3"
   ]
  },
  {
   "cell_type": "markdown",
   "metadata": {},
   "source": [
    "## Chord distribution"
   ]
  },
  {
   "cell_type": "markdown",
   "metadata": {},
   "source": [
    "Let's start by having a look to the different section types we have."
   ]
  },
  {
   "cell_type": "code",
   "execution_count": 27,
   "metadata": {},
   "outputs": [
    {
     "data": {
      "text/plain": [
       "array(['silence', 'intro', 'verse', 'interlude', 'end', 'pre-chorus',\n",
       "       'chorus', 'bridge', 'outro', 'fadeout', 'instrumental', 'trans',\n",
       "       'solo', 'coda', nan, 'pre-verse', 'transition', None, 'vocal',\n",
       "       'intro-a', 'intro-b', 'fadein', 'prechorus', 'talking', 'applause',\n",
       "       'B', 'theme', 'refrain', 'noise', 'A', 'pre-intro', 'spoken',\n",
       "       'ending', 'modulation', 'C'], dtype=object)"
      ]
     },
     "execution_count": 27,
     "metadata": {},
     "output_type": "execute_result"
    }
   ],
   "source": [
    "collection_df.section_type.unique()"
   ]
  },
  {
   "cell_type": "markdown",
   "metadata": {},
   "source": [
    "### Most common chords used"
   ]
  },
  {
   "cell_type": "markdown",
   "metadata": {},
   "source": [
    "We can then define a function to plot the top more common chords used in a specific section type. We start by comparing verse and chorus."
   ]
  },
  {
   "cell_type": "code",
   "execution_count": 28,
   "metadata": {},
   "outputs": [],
   "source": [
    "def chord_distribution(section = 'verse', top = 50):\n",
    "    title = 'Chord distribution in the ' + section\n",
    "    collection_df[collection_df.section_type == section].chord.value_counts().iloc[:top].iplot(kind='bar',\n",
    "                                                      title=title,\n",
    "                                                      xTitle=\"Chord\",\n",
    "                                                      yTitle=\"Occurence\")"
   ]
  },
  {
   "cell_type": "code",
   "execution_count": 29,
   "metadata": {},
   "outputs": [
    {
     "data": {
      "application/vnd.plotly.v1+json": {
       "config": {
        "linkText": "Export to plot.ly",
        "plotlyServerURL": "https://plot.ly",
        "showLink": true
       },
       "data": [
        {
         "marker": {
          "color": "rgba(255, 153, 51, 0.6)",
          "line": {
           "color": "rgba(255, 153, 51, 1.0)",
           "width": 1
          }
         },
         "name": "chord",
         "orientation": "v",
         "text": "",
         "type": "bar",
         "x": [
          "C:maj",
          "G:maj",
          "D:maj",
          "A:maj",
          "E:maj",
          "F:maj",
          "Bb:maj",
          "Ab:maj",
          "B:maj",
          "Eb:maj",
          "A:min",
          "B:min",
          "E:min",
          "D:min",
          "Db:maj",
          "D:7",
          "G:7",
          "G:min",
          "C:7",
          "E:7",
          "Gb:maj",
          "F#:maj",
          "D:min7",
          "E:min7",
          "A:7",
          "F:7",
          "C#:min",
          "A:min7",
          "F:min",
          "Eb:7",
          "B:7",
          "N",
          "C:min",
          "B:min7",
          "F#:min",
          "F#:min7",
          "Ab:7",
          "G:min7",
          "Bb:7",
          "F:maj/3",
          "Db:7",
          "C:sus4",
          "A:5",
          "Eb:min7",
          "C:maj7",
          "C:min7",
          "F:maj7",
          "D:5",
          "C#:min7",
          "F#:7"
         ],
         "y": [
          2984,
          2560,
          2445,
          2219,
          2215,
          1741,
          1644,
          1127,
          1124,
          984,
          760,
          749,
          702,
          699,
          667,
          641,
          565,
          447,
          408,
          390,
          389,
          387,
          381,
          379,
          373,
          355,
          353,
          351,
          306,
          306,
          281,
          253,
          252,
          234,
          232,
          231,
          216,
          216,
          209,
          204,
          204,
          185,
          183,
          177,
          176,
          164,
          160,
          146,
          145,
          133
         ]
        }
       ],
       "layout": {
        "legend": {
         "bgcolor": "#FFFFFF",
         "font": {
          "color": "#4D5663"
         }
        },
        "paper_bgcolor": "#FFFFFF",
        "plot_bgcolor": "#FFFFFF",
        "template": {
         "data": {
          "bar": [
           {
            "error_x": {
             "color": "#2a3f5f"
            },
            "error_y": {
             "color": "#2a3f5f"
            },
            "marker": {
             "line": {
              "color": "#E5ECF6",
              "width": 0.5
             }
            },
            "type": "bar"
           }
          ],
          "barpolar": [
           {
            "marker": {
             "line": {
              "color": "#E5ECF6",
              "width": 0.5
             }
            },
            "type": "barpolar"
           }
          ],
          "carpet": [
           {
            "aaxis": {
             "endlinecolor": "#2a3f5f",
             "gridcolor": "white",
             "linecolor": "white",
             "minorgridcolor": "white",
             "startlinecolor": "#2a3f5f"
            },
            "baxis": {
             "endlinecolor": "#2a3f5f",
             "gridcolor": "white",
             "linecolor": "white",
             "minorgridcolor": "white",
             "startlinecolor": "#2a3f5f"
            },
            "type": "carpet"
           }
          ],
          "choropleth": [
           {
            "colorbar": {
             "outlinewidth": 0,
             "ticks": ""
            },
            "type": "choropleth"
           }
          ],
          "contour": [
           {
            "colorbar": {
             "outlinewidth": 0,
             "ticks": ""
            },
            "colorscale": [
             [
              0,
              "#0d0887"
             ],
             [
              0.1111111111111111,
              "#46039f"
             ],
             [
              0.2222222222222222,
              "#7201a8"
             ],
             [
              0.3333333333333333,
              "#9c179e"
             ],
             [
              0.4444444444444444,
              "#bd3786"
             ],
             [
              0.5555555555555556,
              "#d8576b"
             ],
             [
              0.6666666666666666,
              "#ed7953"
             ],
             [
              0.7777777777777778,
              "#fb9f3a"
             ],
             [
              0.8888888888888888,
              "#fdca26"
             ],
             [
              1,
              "#f0f921"
             ]
            ],
            "type": "contour"
           }
          ],
          "contourcarpet": [
           {
            "colorbar": {
             "outlinewidth": 0,
             "ticks": ""
            },
            "type": "contourcarpet"
           }
          ],
          "heatmap": [
           {
            "colorbar": {
             "outlinewidth": 0,
             "ticks": ""
            },
            "colorscale": [
             [
              0,
              "#0d0887"
             ],
             [
              0.1111111111111111,
              "#46039f"
             ],
             [
              0.2222222222222222,
              "#7201a8"
             ],
             [
              0.3333333333333333,
              "#9c179e"
             ],
             [
              0.4444444444444444,
              "#bd3786"
             ],
             [
              0.5555555555555556,
              "#d8576b"
             ],
             [
              0.6666666666666666,
              "#ed7953"
             ],
             [
              0.7777777777777778,
              "#fb9f3a"
             ],
             [
              0.8888888888888888,
              "#fdca26"
             ],
             [
              1,
              "#f0f921"
             ]
            ],
            "type": "heatmap"
           }
          ],
          "heatmapgl": [
           {
            "colorbar": {
             "outlinewidth": 0,
             "ticks": ""
            },
            "colorscale": [
             [
              0,
              "#0d0887"
             ],
             [
              0.1111111111111111,
              "#46039f"
             ],
             [
              0.2222222222222222,
              "#7201a8"
             ],
             [
              0.3333333333333333,
              "#9c179e"
             ],
             [
              0.4444444444444444,
              "#bd3786"
             ],
             [
              0.5555555555555556,
              "#d8576b"
             ],
             [
              0.6666666666666666,
              "#ed7953"
             ],
             [
              0.7777777777777778,
              "#fb9f3a"
             ],
             [
              0.8888888888888888,
              "#fdca26"
             ],
             [
              1,
              "#f0f921"
             ]
            ],
            "type": "heatmapgl"
           }
          ],
          "histogram": [
           {
            "marker": {
             "colorbar": {
              "outlinewidth": 0,
              "ticks": ""
             }
            },
            "type": "histogram"
           }
          ],
          "histogram2d": [
           {
            "colorbar": {
             "outlinewidth": 0,
             "ticks": ""
            },
            "colorscale": [
             [
              0,
              "#0d0887"
             ],
             [
              0.1111111111111111,
              "#46039f"
             ],
             [
              0.2222222222222222,
              "#7201a8"
             ],
             [
              0.3333333333333333,
              "#9c179e"
             ],
             [
              0.4444444444444444,
              "#bd3786"
             ],
             [
              0.5555555555555556,
              "#d8576b"
             ],
             [
              0.6666666666666666,
              "#ed7953"
             ],
             [
              0.7777777777777778,
              "#fb9f3a"
             ],
             [
              0.8888888888888888,
              "#fdca26"
             ],
             [
              1,
              "#f0f921"
             ]
            ],
            "type": "histogram2d"
           }
          ],
          "histogram2dcontour": [
           {
            "colorbar": {
             "outlinewidth": 0,
             "ticks": ""
            },
            "colorscale": [
             [
              0,
              "#0d0887"
             ],
             [
              0.1111111111111111,
              "#46039f"
             ],
             [
              0.2222222222222222,
              "#7201a8"
             ],
             [
              0.3333333333333333,
              "#9c179e"
             ],
             [
              0.4444444444444444,
              "#bd3786"
             ],
             [
              0.5555555555555556,
              "#d8576b"
             ],
             [
              0.6666666666666666,
              "#ed7953"
             ],
             [
              0.7777777777777778,
              "#fb9f3a"
             ],
             [
              0.8888888888888888,
              "#fdca26"
             ],
             [
              1,
              "#f0f921"
             ]
            ],
            "type": "histogram2dcontour"
           }
          ],
          "mesh3d": [
           {
            "colorbar": {
             "outlinewidth": 0,
             "ticks": ""
            },
            "type": "mesh3d"
           }
          ],
          "parcoords": [
           {
            "line": {
             "colorbar": {
              "outlinewidth": 0,
              "ticks": ""
             }
            },
            "type": "parcoords"
           }
          ],
          "pie": [
           {
            "automargin": true,
            "type": "pie"
           }
          ],
          "scatter": [
           {
            "marker": {
             "colorbar": {
              "outlinewidth": 0,
              "ticks": ""
             }
            },
            "type": "scatter"
           }
          ],
          "scatter3d": [
           {
            "line": {
             "colorbar": {
              "outlinewidth": 0,
              "ticks": ""
             }
            },
            "marker": {
             "colorbar": {
              "outlinewidth": 0,
              "ticks": ""
             }
            },
            "type": "scatter3d"
           }
          ],
          "scattercarpet": [
           {
            "marker": {
             "colorbar": {
              "outlinewidth": 0,
              "ticks": ""
             }
            },
            "type": "scattercarpet"
           }
          ],
          "scattergeo": [
           {
            "marker": {
             "colorbar": {
              "outlinewidth": 0,
              "ticks": ""
             }
            },
            "type": "scattergeo"
           }
          ],
          "scattergl": [
           {
            "marker": {
             "colorbar": {
              "outlinewidth": 0,
              "ticks": ""
             }
            },
            "type": "scattergl"
           }
          ],
          "scattermapbox": [
           {
            "marker": {
             "colorbar": {
              "outlinewidth": 0,
              "ticks": ""
             }
            },
            "type": "scattermapbox"
           }
          ],
          "scatterpolar": [
           {
            "marker": {
             "colorbar": {
              "outlinewidth": 0,
              "ticks": ""
             }
            },
            "type": "scatterpolar"
           }
          ],
          "scatterpolargl": [
           {
            "marker": {
             "colorbar": {
              "outlinewidth": 0,
              "ticks": ""
             }
            },
            "type": "scatterpolargl"
           }
          ],
          "scatterternary": [
           {
            "marker": {
             "colorbar": {
              "outlinewidth": 0,
              "ticks": ""
             }
            },
            "type": "scatterternary"
           }
          ],
          "surface": [
           {
            "colorbar": {
             "outlinewidth": 0,
             "ticks": ""
            },
            "colorscale": [
             [
              0,
              "#0d0887"
             ],
             [
              0.1111111111111111,
              "#46039f"
             ],
             [
              0.2222222222222222,
              "#7201a8"
             ],
             [
              0.3333333333333333,
              "#9c179e"
             ],
             [
              0.4444444444444444,
              "#bd3786"
             ],
             [
              0.5555555555555556,
              "#d8576b"
             ],
             [
              0.6666666666666666,
              "#ed7953"
             ],
             [
              0.7777777777777778,
              "#fb9f3a"
             ],
             [
              0.8888888888888888,
              "#fdca26"
             ],
             [
              1,
              "#f0f921"
             ]
            ],
            "type": "surface"
           }
          ],
          "table": [
           {
            "cells": {
             "fill": {
              "color": "#EBF0F8"
             },
             "line": {
              "color": "white"
             }
            },
            "header": {
             "fill": {
              "color": "#C8D4E3"
             },
             "line": {
              "color": "white"
             }
            },
            "type": "table"
           }
          ]
         },
         "layout": {
          "annotationdefaults": {
           "arrowcolor": "#2a3f5f",
           "arrowhead": 0,
           "arrowwidth": 1
          },
          "coloraxis": {
           "colorbar": {
            "outlinewidth": 0,
            "ticks": ""
           }
          },
          "colorscale": {
           "diverging": [
            [
             0,
             "#8e0152"
            ],
            [
             0.1,
             "#c51b7d"
            ],
            [
             0.2,
             "#de77ae"
            ],
            [
             0.3,
             "#f1b6da"
            ],
            [
             0.4,
             "#fde0ef"
            ],
            [
             0.5,
             "#f7f7f7"
            ],
            [
             0.6,
             "#e6f5d0"
            ],
            [
             0.7,
             "#b8e186"
            ],
            [
             0.8,
             "#7fbc41"
            ],
            [
             0.9,
             "#4d9221"
            ],
            [
             1,
             "#276419"
            ]
           ],
           "sequential": [
            [
             0,
             "#0d0887"
            ],
            [
             0.1111111111111111,
             "#46039f"
            ],
            [
             0.2222222222222222,
             "#7201a8"
            ],
            [
             0.3333333333333333,
             "#9c179e"
            ],
            [
             0.4444444444444444,
             "#bd3786"
            ],
            [
             0.5555555555555556,
             "#d8576b"
            ],
            [
             0.6666666666666666,
             "#ed7953"
            ],
            [
             0.7777777777777778,
             "#fb9f3a"
            ],
            [
             0.8888888888888888,
             "#fdca26"
            ],
            [
             1,
             "#f0f921"
            ]
           ],
           "sequentialminus": [
            [
             0,
             "#0d0887"
            ],
            [
             0.1111111111111111,
             "#46039f"
            ],
            [
             0.2222222222222222,
             "#7201a8"
            ],
            [
             0.3333333333333333,
             "#9c179e"
            ],
            [
             0.4444444444444444,
             "#bd3786"
            ],
            [
             0.5555555555555556,
             "#d8576b"
            ],
            [
             0.6666666666666666,
             "#ed7953"
            ],
            [
             0.7777777777777778,
             "#fb9f3a"
            ],
            [
             0.8888888888888888,
             "#fdca26"
            ],
            [
             1,
             "#f0f921"
            ]
           ]
          },
          "colorway": [
           "#636efa",
           "#EF553B",
           "#00cc96",
           "#ab63fa",
           "#FFA15A",
           "#19d3f3",
           "#FF6692",
           "#B6E880",
           "#FF97FF",
           "#FECB52"
          ],
          "font": {
           "color": "#2a3f5f"
          },
          "geo": {
           "bgcolor": "white",
           "lakecolor": "white",
           "landcolor": "#E5ECF6",
           "showlakes": true,
           "showland": true,
           "subunitcolor": "white"
          },
          "hoverlabel": {
           "align": "left"
          },
          "hovermode": "closest",
          "mapbox": {
           "style": "light"
          },
          "paper_bgcolor": "white",
          "plot_bgcolor": "#E5ECF6",
          "polar": {
           "angularaxis": {
            "gridcolor": "white",
            "linecolor": "white",
            "ticks": ""
           },
           "bgcolor": "#E5ECF6",
           "radialaxis": {
            "gridcolor": "white",
            "linecolor": "white",
            "ticks": ""
           }
          },
          "scene": {
           "xaxis": {
            "backgroundcolor": "#E5ECF6",
            "gridcolor": "white",
            "gridwidth": 2,
            "linecolor": "white",
            "showbackground": true,
            "ticks": "",
            "zerolinecolor": "white"
           },
           "yaxis": {
            "backgroundcolor": "#E5ECF6",
            "gridcolor": "white",
            "gridwidth": 2,
            "linecolor": "white",
            "showbackground": true,
            "ticks": "",
            "zerolinecolor": "white"
           },
           "zaxis": {
            "backgroundcolor": "#E5ECF6",
            "gridcolor": "white",
            "gridwidth": 2,
            "linecolor": "white",
            "showbackground": true,
            "ticks": "",
            "zerolinecolor": "white"
           }
          },
          "shapedefaults": {
           "line": {
            "color": "#2a3f5f"
           }
          },
          "ternary": {
           "aaxis": {
            "gridcolor": "white",
            "linecolor": "white",
            "ticks": ""
           },
           "baxis": {
            "gridcolor": "white",
            "linecolor": "white",
            "ticks": ""
           },
           "bgcolor": "#E5ECF6",
           "caxis": {
            "gridcolor": "white",
            "linecolor": "white",
            "ticks": ""
           }
          },
          "title": {
           "x": 0.05
          },
          "xaxis": {
           "automargin": true,
           "gridcolor": "white",
           "linecolor": "white",
           "ticks": "",
           "title": {
            "standoff": 15
           },
           "zerolinecolor": "white",
           "zerolinewidth": 2
          },
          "yaxis": {
           "automargin": true,
           "gridcolor": "white",
           "linecolor": "white",
           "ticks": "",
           "title": {
            "standoff": 15
           },
           "zerolinecolor": "white",
           "zerolinewidth": 2
          }
         }
        },
        "title": {
         "font": {
          "color": "#4D5663"
         },
         "text": "Chord distribution in the verse"
        },
        "xaxis": {
         "gridcolor": "#E1E5ED",
         "showgrid": true,
         "tickfont": {
          "color": "#4D5663"
         },
         "title": {
          "font": {
           "color": "#4D5663"
          },
          "text": "Chord"
         },
         "zerolinecolor": "#E1E5ED"
        },
        "yaxis": {
         "gridcolor": "#E1E5ED",
         "showgrid": true,
         "tickfont": {
          "color": "#4D5663"
         },
         "title": {
          "font": {
           "color": "#4D5663"
          },
          "text": "Occurence"
         },
         "zerolinecolor": "#E1E5ED"
        }
       }
      },
      "text/html": [
       "<div>\n",
       "        \n",
       "        \n",
       "            <div id=\"60a4f538-3bd6-43f9-87d0-052726b0ce51\" class=\"plotly-graph-div\" style=\"height:525px; width:100%;\"></div>\n",
       "            <script type=\"text/javascript\">\n",
       "                require([\"plotly\"], function(Plotly) {\n",
       "                    window.PLOTLYENV=window.PLOTLYENV || {};\n",
       "                    window.PLOTLYENV.BASE_URL='https://plot.ly';\n",
       "                    \n",
       "                if (document.getElementById(\"60a4f538-3bd6-43f9-87d0-052726b0ce51\")) {\n",
       "                    Plotly.newPlot(\n",
       "                        '60a4f538-3bd6-43f9-87d0-052726b0ce51',\n",
       "                        [{\"marker\": {\"color\": \"rgba(255, 153, 51, 0.6)\", \"line\": {\"color\": \"rgba(255, 153, 51, 1.0)\", \"width\": 1}}, \"name\": \"chord\", \"orientation\": \"v\", \"text\": \"\", \"type\": \"bar\", \"x\": [\"C:maj\", \"G:maj\", \"D:maj\", \"A:maj\", \"E:maj\", \"F:maj\", \"Bb:maj\", \"Ab:maj\", \"B:maj\", \"Eb:maj\", \"A:min\", \"B:min\", \"E:min\", \"D:min\", \"Db:maj\", \"D:7\", \"G:7\", \"G:min\", \"C:7\", \"E:7\", \"Gb:maj\", \"F#:maj\", \"D:min7\", \"E:min7\", \"A:7\", \"F:7\", \"C#:min\", \"A:min7\", \"F:min\", \"Eb:7\", \"B:7\", \"N\", \"C:min\", \"B:min7\", \"F#:min\", \"F#:min7\", \"Ab:7\", \"G:min7\", \"Bb:7\", \"F:maj/3\", \"Db:7\", \"C:sus4\", \"A:5\", \"Eb:min7\", \"C:maj7\", \"C:min7\", \"F:maj7\", \"D:5\", \"C#:min7\", \"F#:7\"], \"y\": [2984, 2560, 2445, 2219, 2215, 1741, 1644, 1127, 1124, 984, 760, 749, 702, 699, 667, 641, 565, 447, 408, 390, 389, 387, 381, 379, 373, 355, 353, 351, 306, 306, 281, 253, 252, 234, 232, 231, 216, 216, 209, 204, 204, 185, 183, 177, 176, 164, 160, 146, 145, 133]}],\n",
       "                        {\"legend\": {\"bgcolor\": \"#FFFFFF\", \"font\": {\"color\": \"#4D5663\"}}, \"paper_bgcolor\": \"#FFFFFF\", \"plot_bgcolor\": \"#FFFFFF\", \"template\": {\"data\": {\"bar\": [{\"error_x\": {\"color\": \"#2a3f5f\"}, \"error_y\": {\"color\": \"#2a3f5f\"}, \"marker\": {\"line\": {\"color\": \"#E5ECF6\", \"width\": 0.5}}, \"type\": \"bar\"}], \"barpolar\": [{\"marker\": {\"line\": {\"color\": \"#E5ECF6\", \"width\": 0.5}}, \"type\": \"barpolar\"}], \"carpet\": [{\"aaxis\": {\"endlinecolor\": \"#2a3f5f\", \"gridcolor\": \"white\", \"linecolor\": \"white\", \"minorgridcolor\": \"white\", \"startlinecolor\": \"#2a3f5f\"}, \"baxis\": {\"endlinecolor\": \"#2a3f5f\", \"gridcolor\": \"white\", \"linecolor\": \"white\", \"minorgridcolor\": \"white\", \"startlinecolor\": \"#2a3f5f\"}, \"type\": \"carpet\"}], \"choropleth\": [{\"colorbar\": {\"outlinewidth\": 0, \"ticks\": \"\"}, \"type\": \"choropleth\"}], \"contour\": [{\"colorbar\": {\"outlinewidth\": 0, \"ticks\": \"\"}, \"colorscale\": [[0.0, \"#0d0887\"], [0.1111111111111111, \"#46039f\"], [0.2222222222222222, \"#7201a8\"], [0.3333333333333333, \"#9c179e\"], [0.4444444444444444, \"#bd3786\"], [0.5555555555555556, \"#d8576b\"], [0.6666666666666666, \"#ed7953\"], [0.7777777777777778, \"#fb9f3a\"], [0.8888888888888888, \"#fdca26\"], [1.0, \"#f0f921\"]], \"type\": \"contour\"}], \"contourcarpet\": [{\"colorbar\": {\"outlinewidth\": 0, \"ticks\": \"\"}, \"type\": \"contourcarpet\"}], \"heatmap\": [{\"colorbar\": {\"outlinewidth\": 0, \"ticks\": \"\"}, \"colorscale\": [[0.0, \"#0d0887\"], [0.1111111111111111, \"#46039f\"], [0.2222222222222222, \"#7201a8\"], [0.3333333333333333, \"#9c179e\"], [0.4444444444444444, \"#bd3786\"], [0.5555555555555556, \"#d8576b\"], [0.6666666666666666, \"#ed7953\"], [0.7777777777777778, \"#fb9f3a\"], [0.8888888888888888, \"#fdca26\"], [1.0, \"#f0f921\"]], \"type\": \"heatmap\"}], \"heatmapgl\": [{\"colorbar\": {\"outlinewidth\": 0, \"ticks\": \"\"}, \"colorscale\": [[0.0, \"#0d0887\"], [0.1111111111111111, \"#46039f\"], [0.2222222222222222, \"#7201a8\"], [0.3333333333333333, \"#9c179e\"], [0.4444444444444444, \"#bd3786\"], [0.5555555555555556, \"#d8576b\"], [0.6666666666666666, \"#ed7953\"], [0.7777777777777778, \"#fb9f3a\"], [0.8888888888888888, \"#fdca26\"], [1.0, \"#f0f921\"]], \"type\": \"heatmapgl\"}], \"histogram\": [{\"marker\": {\"colorbar\": {\"outlinewidth\": 0, \"ticks\": \"\"}}, \"type\": \"histogram\"}], \"histogram2d\": [{\"colorbar\": {\"outlinewidth\": 0, \"ticks\": \"\"}, \"colorscale\": [[0.0, \"#0d0887\"], [0.1111111111111111, \"#46039f\"], [0.2222222222222222, \"#7201a8\"], [0.3333333333333333, \"#9c179e\"], [0.4444444444444444, \"#bd3786\"], [0.5555555555555556, \"#d8576b\"], [0.6666666666666666, \"#ed7953\"], [0.7777777777777778, \"#fb9f3a\"], [0.8888888888888888, \"#fdca26\"], [1.0, \"#f0f921\"]], \"type\": \"histogram2d\"}], \"histogram2dcontour\": [{\"colorbar\": {\"outlinewidth\": 0, \"ticks\": \"\"}, \"colorscale\": [[0.0, \"#0d0887\"], [0.1111111111111111, \"#46039f\"], [0.2222222222222222, \"#7201a8\"], [0.3333333333333333, \"#9c179e\"], [0.4444444444444444, \"#bd3786\"], [0.5555555555555556, \"#d8576b\"], [0.6666666666666666, \"#ed7953\"], [0.7777777777777778, \"#fb9f3a\"], [0.8888888888888888, \"#fdca26\"], [1.0, \"#f0f921\"]], \"type\": \"histogram2dcontour\"}], \"mesh3d\": [{\"colorbar\": {\"outlinewidth\": 0, \"ticks\": \"\"}, \"type\": \"mesh3d\"}], \"parcoords\": [{\"line\": {\"colorbar\": {\"outlinewidth\": 0, \"ticks\": \"\"}}, \"type\": \"parcoords\"}], \"pie\": [{\"automargin\": true, \"type\": \"pie\"}], \"scatter\": [{\"marker\": {\"colorbar\": {\"outlinewidth\": 0, \"ticks\": \"\"}}, \"type\": \"scatter\"}], \"scatter3d\": [{\"line\": {\"colorbar\": {\"outlinewidth\": 0, \"ticks\": \"\"}}, \"marker\": {\"colorbar\": {\"outlinewidth\": 0, \"ticks\": \"\"}}, \"type\": \"scatter3d\"}], \"scattercarpet\": [{\"marker\": {\"colorbar\": {\"outlinewidth\": 0, \"ticks\": \"\"}}, \"type\": \"scattercarpet\"}], \"scattergeo\": [{\"marker\": {\"colorbar\": {\"outlinewidth\": 0, \"ticks\": \"\"}}, \"type\": \"scattergeo\"}], \"scattergl\": [{\"marker\": {\"colorbar\": {\"outlinewidth\": 0, \"ticks\": \"\"}}, \"type\": \"scattergl\"}], \"scattermapbox\": [{\"marker\": {\"colorbar\": {\"outlinewidth\": 0, \"ticks\": \"\"}}, \"type\": \"scattermapbox\"}], \"scatterpolar\": [{\"marker\": {\"colorbar\": {\"outlinewidth\": 0, \"ticks\": \"\"}}, \"type\": \"scatterpolar\"}], \"scatterpolargl\": [{\"marker\": {\"colorbar\": {\"outlinewidth\": 0, \"ticks\": \"\"}}, \"type\": \"scatterpolargl\"}], \"scatterternary\": [{\"marker\": {\"colorbar\": {\"outlinewidth\": 0, \"ticks\": \"\"}}, \"type\": \"scatterternary\"}], \"surface\": [{\"colorbar\": {\"outlinewidth\": 0, \"ticks\": \"\"}, \"colorscale\": [[0.0, \"#0d0887\"], [0.1111111111111111, \"#46039f\"], [0.2222222222222222, \"#7201a8\"], [0.3333333333333333, \"#9c179e\"], [0.4444444444444444, \"#bd3786\"], [0.5555555555555556, \"#d8576b\"], [0.6666666666666666, \"#ed7953\"], [0.7777777777777778, \"#fb9f3a\"], [0.8888888888888888, \"#fdca26\"], [1.0, \"#f0f921\"]], \"type\": \"surface\"}], \"table\": [{\"cells\": {\"fill\": {\"color\": \"#EBF0F8\"}, \"line\": {\"color\": \"white\"}}, \"header\": {\"fill\": {\"color\": \"#C8D4E3\"}, \"line\": {\"color\": \"white\"}}, \"type\": \"table\"}]}, \"layout\": {\"annotationdefaults\": {\"arrowcolor\": \"#2a3f5f\", \"arrowhead\": 0, \"arrowwidth\": 1}, \"coloraxis\": {\"colorbar\": {\"outlinewidth\": 0, \"ticks\": \"\"}}, \"colorscale\": {\"diverging\": [[0, \"#8e0152\"], [0.1, \"#c51b7d\"], [0.2, \"#de77ae\"], [0.3, \"#f1b6da\"], [0.4, \"#fde0ef\"], [0.5, \"#f7f7f7\"], [0.6, \"#e6f5d0\"], [0.7, \"#b8e186\"], [0.8, \"#7fbc41\"], [0.9, \"#4d9221\"], [1, \"#276419\"]], \"sequential\": [[0.0, \"#0d0887\"], [0.1111111111111111, \"#46039f\"], [0.2222222222222222, \"#7201a8\"], [0.3333333333333333, \"#9c179e\"], [0.4444444444444444, \"#bd3786\"], [0.5555555555555556, \"#d8576b\"], [0.6666666666666666, \"#ed7953\"], [0.7777777777777778, \"#fb9f3a\"], [0.8888888888888888, \"#fdca26\"], [1.0, \"#f0f921\"]], \"sequentialminus\": [[0.0, \"#0d0887\"], [0.1111111111111111, \"#46039f\"], [0.2222222222222222, \"#7201a8\"], [0.3333333333333333, \"#9c179e\"], [0.4444444444444444, \"#bd3786\"], [0.5555555555555556, \"#d8576b\"], [0.6666666666666666, \"#ed7953\"], [0.7777777777777778, \"#fb9f3a\"], [0.8888888888888888, \"#fdca26\"], [1.0, \"#f0f921\"]]}, \"colorway\": [\"#636efa\", \"#EF553B\", \"#00cc96\", \"#ab63fa\", \"#FFA15A\", \"#19d3f3\", \"#FF6692\", \"#B6E880\", \"#FF97FF\", \"#FECB52\"], \"font\": {\"color\": \"#2a3f5f\"}, \"geo\": {\"bgcolor\": \"white\", \"lakecolor\": \"white\", \"landcolor\": \"#E5ECF6\", \"showlakes\": true, \"showland\": true, \"subunitcolor\": \"white\"}, \"hoverlabel\": {\"align\": \"left\"}, \"hovermode\": \"closest\", \"mapbox\": {\"style\": \"light\"}, \"paper_bgcolor\": \"white\", \"plot_bgcolor\": \"#E5ECF6\", \"polar\": {\"angularaxis\": {\"gridcolor\": \"white\", \"linecolor\": \"white\", \"ticks\": \"\"}, \"bgcolor\": \"#E5ECF6\", \"radialaxis\": {\"gridcolor\": \"white\", \"linecolor\": \"white\", \"ticks\": \"\"}}, \"scene\": {\"xaxis\": {\"backgroundcolor\": \"#E5ECF6\", \"gridcolor\": \"white\", \"gridwidth\": 2, \"linecolor\": \"white\", \"showbackground\": true, \"ticks\": \"\", \"zerolinecolor\": \"white\"}, \"yaxis\": {\"backgroundcolor\": \"#E5ECF6\", \"gridcolor\": \"white\", \"gridwidth\": 2, \"linecolor\": \"white\", \"showbackground\": true, \"ticks\": \"\", \"zerolinecolor\": \"white\"}, \"zaxis\": {\"backgroundcolor\": \"#E5ECF6\", \"gridcolor\": \"white\", \"gridwidth\": 2, \"linecolor\": \"white\", \"showbackground\": true, \"ticks\": \"\", \"zerolinecolor\": \"white\"}}, \"shapedefaults\": {\"line\": {\"color\": \"#2a3f5f\"}}, \"ternary\": {\"aaxis\": {\"gridcolor\": \"white\", \"linecolor\": \"white\", \"ticks\": \"\"}, \"baxis\": {\"gridcolor\": \"white\", \"linecolor\": \"white\", \"ticks\": \"\"}, \"bgcolor\": \"#E5ECF6\", \"caxis\": {\"gridcolor\": \"white\", \"linecolor\": \"white\", \"ticks\": \"\"}}, \"title\": {\"x\": 0.05}, \"xaxis\": {\"automargin\": true, \"gridcolor\": \"white\", \"linecolor\": \"white\", \"ticks\": \"\", \"title\": {\"standoff\": 15}, \"zerolinecolor\": \"white\", \"zerolinewidth\": 2}, \"yaxis\": {\"automargin\": true, \"gridcolor\": \"white\", \"linecolor\": \"white\", \"ticks\": \"\", \"title\": {\"standoff\": 15}, \"zerolinecolor\": \"white\", \"zerolinewidth\": 2}}}, \"title\": {\"font\": {\"color\": \"#4D5663\"}, \"text\": \"Chord distribution in the verse\"}, \"xaxis\": {\"gridcolor\": \"#E1E5ED\", \"showgrid\": true, \"tickfont\": {\"color\": \"#4D5663\"}, \"title\": {\"font\": {\"color\": \"#4D5663\"}, \"text\": \"Chord\"}, \"zerolinecolor\": \"#E1E5ED\"}, \"yaxis\": {\"gridcolor\": \"#E1E5ED\", \"showgrid\": true, \"tickfont\": {\"color\": \"#4D5663\"}, \"title\": {\"font\": {\"color\": \"#4D5663\"}, \"text\": \"Occurence\"}, \"zerolinecolor\": \"#E1E5ED\"}},\n",
       "                        {\"showLink\": true, \"linkText\": \"Export to plot.ly\", \"plotlyServerURL\": \"https://plot.ly\", \"responsive\": true}\n",
       "                    ).then(function(){\n",
       "                            \n",
       "var gd = document.getElementById('60a4f538-3bd6-43f9-87d0-052726b0ce51');\n",
       "var x = new MutationObserver(function (mutations, observer) {{\n",
       "        var display = window.getComputedStyle(gd).display;\n",
       "        if (!display || display === 'none') {{\n",
       "            console.log([gd, 'removed!']);\n",
       "            Plotly.purge(gd);\n",
       "            observer.disconnect();\n",
       "        }}\n",
       "}});\n",
       "\n",
       "// Listen for the removal of the full notebook cells\n",
       "var notebookContainer = gd.closest('#notebook-container');\n",
       "if (notebookContainer) {{\n",
       "    x.observe(notebookContainer, {childList: true});\n",
       "}}\n",
       "\n",
       "// Listen for the clearing of the current output cell\n",
       "var outputEl = gd.closest('.output');\n",
       "if (outputEl) {{\n",
       "    x.observe(outputEl, {childList: true});\n",
       "}}\n",
       "\n",
       "                        })\n",
       "                };\n",
       "                });\n",
       "            </script>\n",
       "        </div>"
      ]
     },
     "metadata": {},
     "output_type": "display_data"
    }
   ],
   "source": [
    "chord_distribution('verse')"
   ]
  },
  {
   "cell_type": "code",
   "execution_count": 30,
   "metadata": {},
   "outputs": [
    {
     "data": {
      "application/vnd.plotly.v1+json": {
       "config": {
        "linkText": "Export to plot.ly",
        "plotlyServerURL": "https://plot.ly",
        "showLink": true
       },
       "data": [
        {
         "marker": {
          "color": "rgba(255, 153, 51, 0.6)",
          "line": {
           "color": "rgba(255, 153, 51, 1.0)",
           "width": 1
          }
         },
         "name": "chord",
         "orientation": "v",
         "text": "",
         "type": "bar",
         "x": [
          "C:maj",
          "G:maj",
          "D:maj",
          "A:maj",
          "F:maj",
          "E:maj",
          "Bb:maj",
          "Ab:maj",
          "B:maj",
          "Eb:maj",
          "B:min",
          "A:min",
          "Db:maj",
          "D:min",
          "A:min7",
          "E:min",
          "C:7",
          "Gb:maj",
          "F:7",
          "G:min7",
          "F#:min",
          "F#:maj",
          "G:7",
          "N",
          "F:min",
          "B:min7",
          "D:min7",
          "G:min",
          "E:7",
          "D:7",
          "C#:min",
          "C:min",
          "E:min7",
          "C:min7",
          "Bb:min",
          "B:7",
          "F#:min7",
          "A:7",
          "F:min7",
          "D:maj/5",
          "Bb:min7",
          "E:maj/3",
          "F:maj/5",
          "C#:min7",
          "F:maj7",
          "Ab:7",
          "Eb:min7",
          "F#:7",
          "A:maj/3",
          "F:maj/3"
         ],
         "y": [
          2634,
          2606,
          2571,
          2527,
          1840,
          1832,
          1288,
          914,
          823,
          701,
          630,
          619,
          568,
          562,
          452,
          450,
          357,
          353,
          316,
          309,
          301,
          295,
          272,
          271,
          268,
          267,
          252,
          250,
          243,
          243,
          240,
          236,
          229,
          228,
          215,
          211,
          207,
          199,
          196,
          186,
          178,
          170,
          161,
          152,
          151,
          148,
          128,
          128,
          120,
          118
         ]
        }
       ],
       "layout": {
        "legend": {
         "bgcolor": "#FFFFFF",
         "font": {
          "color": "#4D5663"
         }
        },
        "paper_bgcolor": "#FFFFFF",
        "plot_bgcolor": "#FFFFFF",
        "template": {
         "data": {
          "bar": [
           {
            "error_x": {
             "color": "#2a3f5f"
            },
            "error_y": {
             "color": "#2a3f5f"
            },
            "marker": {
             "line": {
              "color": "#E5ECF6",
              "width": 0.5
             }
            },
            "type": "bar"
           }
          ],
          "barpolar": [
           {
            "marker": {
             "line": {
              "color": "#E5ECF6",
              "width": 0.5
             }
            },
            "type": "barpolar"
           }
          ],
          "carpet": [
           {
            "aaxis": {
             "endlinecolor": "#2a3f5f",
             "gridcolor": "white",
             "linecolor": "white",
             "minorgridcolor": "white",
             "startlinecolor": "#2a3f5f"
            },
            "baxis": {
             "endlinecolor": "#2a3f5f",
             "gridcolor": "white",
             "linecolor": "white",
             "minorgridcolor": "white",
             "startlinecolor": "#2a3f5f"
            },
            "type": "carpet"
           }
          ],
          "choropleth": [
           {
            "colorbar": {
             "outlinewidth": 0,
             "ticks": ""
            },
            "type": "choropleth"
           }
          ],
          "contour": [
           {
            "colorbar": {
             "outlinewidth": 0,
             "ticks": ""
            },
            "colorscale": [
             [
              0,
              "#0d0887"
             ],
             [
              0.1111111111111111,
              "#46039f"
             ],
             [
              0.2222222222222222,
              "#7201a8"
             ],
             [
              0.3333333333333333,
              "#9c179e"
             ],
             [
              0.4444444444444444,
              "#bd3786"
             ],
             [
              0.5555555555555556,
              "#d8576b"
             ],
             [
              0.6666666666666666,
              "#ed7953"
             ],
             [
              0.7777777777777778,
              "#fb9f3a"
             ],
             [
              0.8888888888888888,
              "#fdca26"
             ],
             [
              1,
              "#f0f921"
             ]
            ],
            "type": "contour"
           }
          ],
          "contourcarpet": [
           {
            "colorbar": {
             "outlinewidth": 0,
             "ticks": ""
            },
            "type": "contourcarpet"
           }
          ],
          "heatmap": [
           {
            "colorbar": {
             "outlinewidth": 0,
             "ticks": ""
            },
            "colorscale": [
             [
              0,
              "#0d0887"
             ],
             [
              0.1111111111111111,
              "#46039f"
             ],
             [
              0.2222222222222222,
              "#7201a8"
             ],
             [
              0.3333333333333333,
              "#9c179e"
             ],
             [
              0.4444444444444444,
              "#bd3786"
             ],
             [
              0.5555555555555556,
              "#d8576b"
             ],
             [
              0.6666666666666666,
              "#ed7953"
             ],
             [
              0.7777777777777778,
              "#fb9f3a"
             ],
             [
              0.8888888888888888,
              "#fdca26"
             ],
             [
              1,
              "#f0f921"
             ]
            ],
            "type": "heatmap"
           }
          ],
          "heatmapgl": [
           {
            "colorbar": {
             "outlinewidth": 0,
             "ticks": ""
            },
            "colorscale": [
             [
              0,
              "#0d0887"
             ],
             [
              0.1111111111111111,
              "#46039f"
             ],
             [
              0.2222222222222222,
              "#7201a8"
             ],
             [
              0.3333333333333333,
              "#9c179e"
             ],
             [
              0.4444444444444444,
              "#bd3786"
             ],
             [
              0.5555555555555556,
              "#d8576b"
             ],
             [
              0.6666666666666666,
              "#ed7953"
             ],
             [
              0.7777777777777778,
              "#fb9f3a"
             ],
             [
              0.8888888888888888,
              "#fdca26"
             ],
             [
              1,
              "#f0f921"
             ]
            ],
            "type": "heatmapgl"
           }
          ],
          "histogram": [
           {
            "marker": {
             "colorbar": {
              "outlinewidth": 0,
              "ticks": ""
             }
            },
            "type": "histogram"
           }
          ],
          "histogram2d": [
           {
            "colorbar": {
             "outlinewidth": 0,
             "ticks": ""
            },
            "colorscale": [
             [
              0,
              "#0d0887"
             ],
             [
              0.1111111111111111,
              "#46039f"
             ],
             [
              0.2222222222222222,
              "#7201a8"
             ],
             [
              0.3333333333333333,
              "#9c179e"
             ],
             [
              0.4444444444444444,
              "#bd3786"
             ],
             [
              0.5555555555555556,
              "#d8576b"
             ],
             [
              0.6666666666666666,
              "#ed7953"
             ],
             [
              0.7777777777777778,
              "#fb9f3a"
             ],
             [
              0.8888888888888888,
              "#fdca26"
             ],
             [
              1,
              "#f0f921"
             ]
            ],
            "type": "histogram2d"
           }
          ],
          "histogram2dcontour": [
           {
            "colorbar": {
             "outlinewidth": 0,
             "ticks": ""
            },
            "colorscale": [
             [
              0,
              "#0d0887"
             ],
             [
              0.1111111111111111,
              "#46039f"
             ],
             [
              0.2222222222222222,
              "#7201a8"
             ],
             [
              0.3333333333333333,
              "#9c179e"
             ],
             [
              0.4444444444444444,
              "#bd3786"
             ],
             [
              0.5555555555555556,
              "#d8576b"
             ],
             [
              0.6666666666666666,
              "#ed7953"
             ],
             [
              0.7777777777777778,
              "#fb9f3a"
             ],
             [
              0.8888888888888888,
              "#fdca26"
             ],
             [
              1,
              "#f0f921"
             ]
            ],
            "type": "histogram2dcontour"
           }
          ],
          "mesh3d": [
           {
            "colorbar": {
             "outlinewidth": 0,
             "ticks": ""
            },
            "type": "mesh3d"
           }
          ],
          "parcoords": [
           {
            "line": {
             "colorbar": {
              "outlinewidth": 0,
              "ticks": ""
             }
            },
            "type": "parcoords"
           }
          ],
          "pie": [
           {
            "automargin": true,
            "type": "pie"
           }
          ],
          "scatter": [
           {
            "marker": {
             "colorbar": {
              "outlinewidth": 0,
              "ticks": ""
             }
            },
            "type": "scatter"
           }
          ],
          "scatter3d": [
           {
            "line": {
             "colorbar": {
              "outlinewidth": 0,
              "ticks": ""
             }
            },
            "marker": {
             "colorbar": {
              "outlinewidth": 0,
              "ticks": ""
             }
            },
            "type": "scatter3d"
           }
          ],
          "scattercarpet": [
           {
            "marker": {
             "colorbar": {
              "outlinewidth": 0,
              "ticks": ""
             }
            },
            "type": "scattercarpet"
           }
          ],
          "scattergeo": [
           {
            "marker": {
             "colorbar": {
              "outlinewidth": 0,
              "ticks": ""
             }
            },
            "type": "scattergeo"
           }
          ],
          "scattergl": [
           {
            "marker": {
             "colorbar": {
              "outlinewidth": 0,
              "ticks": ""
             }
            },
            "type": "scattergl"
           }
          ],
          "scattermapbox": [
           {
            "marker": {
             "colorbar": {
              "outlinewidth": 0,
              "ticks": ""
             }
            },
            "type": "scattermapbox"
           }
          ],
          "scatterpolar": [
           {
            "marker": {
             "colorbar": {
              "outlinewidth": 0,
              "ticks": ""
             }
            },
            "type": "scatterpolar"
           }
          ],
          "scatterpolargl": [
           {
            "marker": {
             "colorbar": {
              "outlinewidth": 0,
              "ticks": ""
             }
            },
            "type": "scatterpolargl"
           }
          ],
          "scatterternary": [
           {
            "marker": {
             "colorbar": {
              "outlinewidth": 0,
              "ticks": ""
             }
            },
            "type": "scatterternary"
           }
          ],
          "surface": [
           {
            "colorbar": {
             "outlinewidth": 0,
             "ticks": ""
            },
            "colorscale": [
             [
              0,
              "#0d0887"
             ],
             [
              0.1111111111111111,
              "#46039f"
             ],
             [
              0.2222222222222222,
              "#7201a8"
             ],
             [
              0.3333333333333333,
              "#9c179e"
             ],
             [
              0.4444444444444444,
              "#bd3786"
             ],
             [
              0.5555555555555556,
              "#d8576b"
             ],
             [
              0.6666666666666666,
              "#ed7953"
             ],
             [
              0.7777777777777778,
              "#fb9f3a"
             ],
             [
              0.8888888888888888,
              "#fdca26"
             ],
             [
              1,
              "#f0f921"
             ]
            ],
            "type": "surface"
           }
          ],
          "table": [
           {
            "cells": {
             "fill": {
              "color": "#EBF0F8"
             },
             "line": {
              "color": "white"
             }
            },
            "header": {
             "fill": {
              "color": "#C8D4E3"
             },
             "line": {
              "color": "white"
             }
            },
            "type": "table"
           }
          ]
         },
         "layout": {
          "annotationdefaults": {
           "arrowcolor": "#2a3f5f",
           "arrowhead": 0,
           "arrowwidth": 1
          },
          "coloraxis": {
           "colorbar": {
            "outlinewidth": 0,
            "ticks": ""
           }
          },
          "colorscale": {
           "diverging": [
            [
             0,
             "#8e0152"
            ],
            [
             0.1,
             "#c51b7d"
            ],
            [
             0.2,
             "#de77ae"
            ],
            [
             0.3,
             "#f1b6da"
            ],
            [
             0.4,
             "#fde0ef"
            ],
            [
             0.5,
             "#f7f7f7"
            ],
            [
             0.6,
             "#e6f5d0"
            ],
            [
             0.7,
             "#b8e186"
            ],
            [
             0.8,
             "#7fbc41"
            ],
            [
             0.9,
             "#4d9221"
            ],
            [
             1,
             "#276419"
            ]
           ],
           "sequential": [
            [
             0,
             "#0d0887"
            ],
            [
             0.1111111111111111,
             "#46039f"
            ],
            [
             0.2222222222222222,
             "#7201a8"
            ],
            [
             0.3333333333333333,
             "#9c179e"
            ],
            [
             0.4444444444444444,
             "#bd3786"
            ],
            [
             0.5555555555555556,
             "#d8576b"
            ],
            [
             0.6666666666666666,
             "#ed7953"
            ],
            [
             0.7777777777777778,
             "#fb9f3a"
            ],
            [
             0.8888888888888888,
             "#fdca26"
            ],
            [
             1,
             "#f0f921"
            ]
           ],
           "sequentialminus": [
            [
             0,
             "#0d0887"
            ],
            [
             0.1111111111111111,
             "#46039f"
            ],
            [
             0.2222222222222222,
             "#7201a8"
            ],
            [
             0.3333333333333333,
             "#9c179e"
            ],
            [
             0.4444444444444444,
             "#bd3786"
            ],
            [
             0.5555555555555556,
             "#d8576b"
            ],
            [
             0.6666666666666666,
             "#ed7953"
            ],
            [
             0.7777777777777778,
             "#fb9f3a"
            ],
            [
             0.8888888888888888,
             "#fdca26"
            ],
            [
             1,
             "#f0f921"
            ]
           ]
          },
          "colorway": [
           "#636efa",
           "#EF553B",
           "#00cc96",
           "#ab63fa",
           "#FFA15A",
           "#19d3f3",
           "#FF6692",
           "#B6E880",
           "#FF97FF",
           "#FECB52"
          ],
          "font": {
           "color": "#2a3f5f"
          },
          "geo": {
           "bgcolor": "white",
           "lakecolor": "white",
           "landcolor": "#E5ECF6",
           "showlakes": true,
           "showland": true,
           "subunitcolor": "white"
          },
          "hoverlabel": {
           "align": "left"
          },
          "hovermode": "closest",
          "mapbox": {
           "style": "light"
          },
          "paper_bgcolor": "white",
          "plot_bgcolor": "#E5ECF6",
          "polar": {
           "angularaxis": {
            "gridcolor": "white",
            "linecolor": "white",
            "ticks": ""
           },
           "bgcolor": "#E5ECF6",
           "radialaxis": {
            "gridcolor": "white",
            "linecolor": "white",
            "ticks": ""
           }
          },
          "scene": {
           "xaxis": {
            "backgroundcolor": "#E5ECF6",
            "gridcolor": "white",
            "gridwidth": 2,
            "linecolor": "white",
            "showbackground": true,
            "ticks": "",
            "zerolinecolor": "white"
           },
           "yaxis": {
            "backgroundcolor": "#E5ECF6",
            "gridcolor": "white",
            "gridwidth": 2,
            "linecolor": "white",
            "showbackground": true,
            "ticks": "",
            "zerolinecolor": "white"
           },
           "zaxis": {
            "backgroundcolor": "#E5ECF6",
            "gridcolor": "white",
            "gridwidth": 2,
            "linecolor": "white",
            "showbackground": true,
            "ticks": "",
            "zerolinecolor": "white"
           }
          },
          "shapedefaults": {
           "line": {
            "color": "#2a3f5f"
           }
          },
          "ternary": {
           "aaxis": {
            "gridcolor": "white",
            "linecolor": "white",
            "ticks": ""
           },
           "baxis": {
            "gridcolor": "white",
            "linecolor": "white",
            "ticks": ""
           },
           "bgcolor": "#E5ECF6",
           "caxis": {
            "gridcolor": "white",
            "linecolor": "white",
            "ticks": ""
           }
          },
          "title": {
           "x": 0.05
          },
          "xaxis": {
           "automargin": true,
           "gridcolor": "white",
           "linecolor": "white",
           "ticks": "",
           "title": {
            "standoff": 15
           },
           "zerolinecolor": "white",
           "zerolinewidth": 2
          },
          "yaxis": {
           "automargin": true,
           "gridcolor": "white",
           "linecolor": "white",
           "ticks": "",
           "title": {
            "standoff": 15
           },
           "zerolinecolor": "white",
           "zerolinewidth": 2
          }
         }
        },
        "title": {
         "font": {
          "color": "#4D5663"
         },
         "text": "Chord distribution in the chorus"
        },
        "xaxis": {
         "gridcolor": "#E1E5ED",
         "showgrid": true,
         "tickfont": {
          "color": "#4D5663"
         },
         "title": {
          "font": {
           "color": "#4D5663"
          },
          "text": "Chord"
         },
         "zerolinecolor": "#E1E5ED"
        },
        "yaxis": {
         "gridcolor": "#E1E5ED",
         "showgrid": true,
         "tickfont": {
          "color": "#4D5663"
         },
         "title": {
          "font": {
           "color": "#4D5663"
          },
          "text": "Occurence"
         },
         "zerolinecolor": "#E1E5ED"
        }
       }
      },
      "text/html": [
       "<div>\n",
       "        \n",
       "        \n",
       "            <div id=\"5217b986-16bc-48dc-b762-1d5e2b843eba\" class=\"plotly-graph-div\" style=\"height:525px; width:100%;\"></div>\n",
       "            <script type=\"text/javascript\">\n",
       "                require([\"plotly\"], function(Plotly) {\n",
       "                    window.PLOTLYENV=window.PLOTLYENV || {};\n",
       "                    window.PLOTLYENV.BASE_URL='https://plot.ly';\n",
       "                    \n",
       "                if (document.getElementById(\"5217b986-16bc-48dc-b762-1d5e2b843eba\")) {\n",
       "                    Plotly.newPlot(\n",
       "                        '5217b986-16bc-48dc-b762-1d5e2b843eba',\n",
       "                        [{\"marker\": {\"color\": \"rgba(255, 153, 51, 0.6)\", \"line\": {\"color\": \"rgba(255, 153, 51, 1.0)\", \"width\": 1}}, \"name\": \"chord\", \"orientation\": \"v\", \"text\": \"\", \"type\": \"bar\", \"x\": [\"C:maj\", \"G:maj\", \"D:maj\", \"A:maj\", \"F:maj\", \"E:maj\", \"Bb:maj\", \"Ab:maj\", \"B:maj\", \"Eb:maj\", \"B:min\", \"A:min\", \"Db:maj\", \"D:min\", \"A:min7\", \"E:min\", \"C:7\", \"Gb:maj\", \"F:7\", \"G:min7\", \"F#:min\", \"F#:maj\", \"G:7\", \"N\", \"F:min\", \"B:min7\", \"D:min7\", \"G:min\", \"E:7\", \"D:7\", \"C#:min\", \"C:min\", \"E:min7\", \"C:min7\", \"Bb:min\", \"B:7\", \"F#:min7\", \"A:7\", \"F:min7\", \"D:maj/5\", \"Bb:min7\", \"E:maj/3\", \"F:maj/5\", \"C#:min7\", \"F:maj7\", \"Ab:7\", \"Eb:min7\", \"F#:7\", \"A:maj/3\", \"F:maj/3\"], \"y\": [2634, 2606, 2571, 2527, 1840, 1832, 1288, 914, 823, 701, 630, 619, 568, 562, 452, 450, 357, 353, 316, 309, 301, 295, 272, 271, 268, 267, 252, 250, 243, 243, 240, 236, 229, 228, 215, 211, 207, 199, 196, 186, 178, 170, 161, 152, 151, 148, 128, 128, 120, 118]}],\n",
       "                        {\"legend\": {\"bgcolor\": \"#FFFFFF\", \"font\": {\"color\": \"#4D5663\"}}, \"paper_bgcolor\": \"#FFFFFF\", \"plot_bgcolor\": \"#FFFFFF\", \"template\": {\"data\": {\"bar\": [{\"error_x\": {\"color\": \"#2a3f5f\"}, \"error_y\": {\"color\": \"#2a3f5f\"}, \"marker\": {\"line\": {\"color\": \"#E5ECF6\", \"width\": 0.5}}, \"type\": \"bar\"}], \"barpolar\": [{\"marker\": {\"line\": {\"color\": \"#E5ECF6\", \"width\": 0.5}}, \"type\": \"barpolar\"}], \"carpet\": [{\"aaxis\": {\"endlinecolor\": \"#2a3f5f\", \"gridcolor\": \"white\", \"linecolor\": \"white\", \"minorgridcolor\": \"white\", \"startlinecolor\": \"#2a3f5f\"}, \"baxis\": {\"endlinecolor\": \"#2a3f5f\", \"gridcolor\": \"white\", \"linecolor\": \"white\", \"minorgridcolor\": \"white\", \"startlinecolor\": \"#2a3f5f\"}, \"type\": \"carpet\"}], \"choropleth\": [{\"colorbar\": {\"outlinewidth\": 0, \"ticks\": \"\"}, \"type\": \"choropleth\"}], \"contour\": [{\"colorbar\": {\"outlinewidth\": 0, \"ticks\": \"\"}, \"colorscale\": [[0.0, \"#0d0887\"], [0.1111111111111111, \"#46039f\"], [0.2222222222222222, \"#7201a8\"], [0.3333333333333333, \"#9c179e\"], [0.4444444444444444, \"#bd3786\"], [0.5555555555555556, \"#d8576b\"], [0.6666666666666666, \"#ed7953\"], [0.7777777777777778, \"#fb9f3a\"], [0.8888888888888888, \"#fdca26\"], [1.0, \"#f0f921\"]], \"type\": \"contour\"}], \"contourcarpet\": [{\"colorbar\": {\"outlinewidth\": 0, \"ticks\": \"\"}, \"type\": \"contourcarpet\"}], \"heatmap\": [{\"colorbar\": {\"outlinewidth\": 0, \"ticks\": \"\"}, \"colorscale\": [[0.0, \"#0d0887\"], [0.1111111111111111, \"#46039f\"], [0.2222222222222222, \"#7201a8\"], [0.3333333333333333, \"#9c179e\"], [0.4444444444444444, \"#bd3786\"], [0.5555555555555556, \"#d8576b\"], [0.6666666666666666, \"#ed7953\"], [0.7777777777777778, \"#fb9f3a\"], [0.8888888888888888, \"#fdca26\"], [1.0, \"#f0f921\"]], \"type\": \"heatmap\"}], \"heatmapgl\": [{\"colorbar\": {\"outlinewidth\": 0, \"ticks\": \"\"}, \"colorscale\": [[0.0, \"#0d0887\"], [0.1111111111111111, \"#46039f\"], [0.2222222222222222, \"#7201a8\"], [0.3333333333333333, \"#9c179e\"], [0.4444444444444444, \"#bd3786\"], [0.5555555555555556, \"#d8576b\"], [0.6666666666666666, \"#ed7953\"], [0.7777777777777778, \"#fb9f3a\"], [0.8888888888888888, \"#fdca26\"], [1.0, \"#f0f921\"]], \"type\": \"heatmapgl\"}], \"histogram\": [{\"marker\": {\"colorbar\": {\"outlinewidth\": 0, \"ticks\": \"\"}}, \"type\": \"histogram\"}], \"histogram2d\": [{\"colorbar\": {\"outlinewidth\": 0, \"ticks\": \"\"}, \"colorscale\": [[0.0, \"#0d0887\"], [0.1111111111111111, \"#46039f\"], [0.2222222222222222, \"#7201a8\"], [0.3333333333333333, \"#9c179e\"], [0.4444444444444444, \"#bd3786\"], [0.5555555555555556, \"#d8576b\"], [0.6666666666666666, \"#ed7953\"], [0.7777777777777778, \"#fb9f3a\"], [0.8888888888888888, \"#fdca26\"], [1.0, \"#f0f921\"]], \"type\": \"histogram2d\"}], \"histogram2dcontour\": [{\"colorbar\": {\"outlinewidth\": 0, \"ticks\": \"\"}, \"colorscale\": [[0.0, \"#0d0887\"], [0.1111111111111111, \"#46039f\"], [0.2222222222222222, \"#7201a8\"], [0.3333333333333333, \"#9c179e\"], [0.4444444444444444, \"#bd3786\"], [0.5555555555555556, \"#d8576b\"], [0.6666666666666666, \"#ed7953\"], [0.7777777777777778, \"#fb9f3a\"], [0.8888888888888888, \"#fdca26\"], [1.0, \"#f0f921\"]], \"type\": \"histogram2dcontour\"}], \"mesh3d\": [{\"colorbar\": {\"outlinewidth\": 0, \"ticks\": \"\"}, \"type\": \"mesh3d\"}], \"parcoords\": [{\"line\": {\"colorbar\": {\"outlinewidth\": 0, \"ticks\": \"\"}}, \"type\": \"parcoords\"}], \"pie\": [{\"automargin\": true, \"type\": \"pie\"}], \"scatter\": [{\"marker\": {\"colorbar\": {\"outlinewidth\": 0, \"ticks\": \"\"}}, \"type\": \"scatter\"}], \"scatter3d\": [{\"line\": {\"colorbar\": {\"outlinewidth\": 0, \"ticks\": \"\"}}, \"marker\": {\"colorbar\": {\"outlinewidth\": 0, \"ticks\": \"\"}}, \"type\": \"scatter3d\"}], \"scattercarpet\": [{\"marker\": {\"colorbar\": {\"outlinewidth\": 0, \"ticks\": \"\"}}, \"type\": \"scattercarpet\"}], \"scattergeo\": [{\"marker\": {\"colorbar\": {\"outlinewidth\": 0, \"ticks\": \"\"}}, \"type\": \"scattergeo\"}], \"scattergl\": [{\"marker\": {\"colorbar\": {\"outlinewidth\": 0, \"ticks\": \"\"}}, \"type\": \"scattergl\"}], \"scattermapbox\": [{\"marker\": {\"colorbar\": {\"outlinewidth\": 0, \"ticks\": \"\"}}, \"type\": \"scattermapbox\"}], \"scatterpolar\": [{\"marker\": {\"colorbar\": {\"outlinewidth\": 0, \"ticks\": \"\"}}, \"type\": \"scatterpolar\"}], \"scatterpolargl\": [{\"marker\": {\"colorbar\": {\"outlinewidth\": 0, \"ticks\": \"\"}}, \"type\": \"scatterpolargl\"}], \"scatterternary\": [{\"marker\": {\"colorbar\": {\"outlinewidth\": 0, \"ticks\": \"\"}}, \"type\": \"scatterternary\"}], \"surface\": [{\"colorbar\": {\"outlinewidth\": 0, \"ticks\": \"\"}, \"colorscale\": [[0.0, \"#0d0887\"], [0.1111111111111111, \"#46039f\"], [0.2222222222222222, \"#7201a8\"], [0.3333333333333333, \"#9c179e\"], [0.4444444444444444, \"#bd3786\"], [0.5555555555555556, \"#d8576b\"], [0.6666666666666666, \"#ed7953\"], [0.7777777777777778, \"#fb9f3a\"], [0.8888888888888888, \"#fdca26\"], [1.0, \"#f0f921\"]], \"type\": \"surface\"}], \"table\": [{\"cells\": {\"fill\": {\"color\": \"#EBF0F8\"}, \"line\": {\"color\": \"white\"}}, \"header\": {\"fill\": {\"color\": \"#C8D4E3\"}, \"line\": {\"color\": \"white\"}}, \"type\": \"table\"}]}, \"layout\": {\"annotationdefaults\": {\"arrowcolor\": \"#2a3f5f\", \"arrowhead\": 0, \"arrowwidth\": 1}, \"coloraxis\": {\"colorbar\": {\"outlinewidth\": 0, \"ticks\": \"\"}}, \"colorscale\": {\"diverging\": [[0, \"#8e0152\"], [0.1, \"#c51b7d\"], [0.2, \"#de77ae\"], [0.3, \"#f1b6da\"], [0.4, \"#fde0ef\"], [0.5, \"#f7f7f7\"], [0.6, \"#e6f5d0\"], [0.7, \"#b8e186\"], [0.8, \"#7fbc41\"], [0.9, \"#4d9221\"], [1, \"#276419\"]], \"sequential\": [[0.0, \"#0d0887\"], [0.1111111111111111, \"#46039f\"], [0.2222222222222222, \"#7201a8\"], [0.3333333333333333, \"#9c179e\"], [0.4444444444444444, \"#bd3786\"], [0.5555555555555556, \"#d8576b\"], [0.6666666666666666, \"#ed7953\"], [0.7777777777777778, \"#fb9f3a\"], [0.8888888888888888, \"#fdca26\"], [1.0, \"#f0f921\"]], \"sequentialminus\": [[0.0, \"#0d0887\"], [0.1111111111111111, \"#46039f\"], [0.2222222222222222, \"#7201a8\"], [0.3333333333333333, \"#9c179e\"], [0.4444444444444444, \"#bd3786\"], [0.5555555555555556, \"#d8576b\"], [0.6666666666666666, \"#ed7953\"], [0.7777777777777778, \"#fb9f3a\"], [0.8888888888888888, \"#fdca26\"], [1.0, \"#f0f921\"]]}, \"colorway\": [\"#636efa\", \"#EF553B\", \"#00cc96\", \"#ab63fa\", \"#FFA15A\", \"#19d3f3\", \"#FF6692\", \"#B6E880\", \"#FF97FF\", \"#FECB52\"], \"font\": {\"color\": \"#2a3f5f\"}, \"geo\": {\"bgcolor\": \"white\", \"lakecolor\": \"white\", \"landcolor\": \"#E5ECF6\", \"showlakes\": true, \"showland\": true, \"subunitcolor\": \"white\"}, \"hoverlabel\": {\"align\": \"left\"}, \"hovermode\": \"closest\", \"mapbox\": {\"style\": \"light\"}, \"paper_bgcolor\": \"white\", \"plot_bgcolor\": \"#E5ECF6\", \"polar\": {\"angularaxis\": {\"gridcolor\": \"white\", \"linecolor\": \"white\", \"ticks\": \"\"}, \"bgcolor\": \"#E5ECF6\", \"radialaxis\": {\"gridcolor\": \"white\", \"linecolor\": \"white\", \"ticks\": \"\"}}, \"scene\": {\"xaxis\": {\"backgroundcolor\": \"#E5ECF6\", \"gridcolor\": \"white\", \"gridwidth\": 2, \"linecolor\": \"white\", \"showbackground\": true, \"ticks\": \"\", \"zerolinecolor\": \"white\"}, \"yaxis\": {\"backgroundcolor\": \"#E5ECF6\", \"gridcolor\": \"white\", \"gridwidth\": 2, \"linecolor\": \"white\", \"showbackground\": true, \"ticks\": \"\", \"zerolinecolor\": \"white\"}, \"zaxis\": {\"backgroundcolor\": \"#E5ECF6\", \"gridcolor\": \"white\", \"gridwidth\": 2, \"linecolor\": \"white\", \"showbackground\": true, \"ticks\": \"\", \"zerolinecolor\": \"white\"}}, \"shapedefaults\": {\"line\": {\"color\": \"#2a3f5f\"}}, \"ternary\": {\"aaxis\": {\"gridcolor\": \"white\", \"linecolor\": \"white\", \"ticks\": \"\"}, \"baxis\": {\"gridcolor\": \"white\", \"linecolor\": \"white\", \"ticks\": \"\"}, \"bgcolor\": \"#E5ECF6\", \"caxis\": {\"gridcolor\": \"white\", \"linecolor\": \"white\", \"ticks\": \"\"}}, \"title\": {\"x\": 0.05}, \"xaxis\": {\"automargin\": true, \"gridcolor\": \"white\", \"linecolor\": \"white\", \"ticks\": \"\", \"title\": {\"standoff\": 15}, \"zerolinecolor\": \"white\", \"zerolinewidth\": 2}, \"yaxis\": {\"automargin\": true, \"gridcolor\": \"white\", \"linecolor\": \"white\", \"ticks\": \"\", \"title\": {\"standoff\": 15}, \"zerolinecolor\": \"white\", \"zerolinewidth\": 2}}}, \"title\": {\"font\": {\"color\": \"#4D5663\"}, \"text\": \"Chord distribution in the chorus\"}, \"xaxis\": {\"gridcolor\": \"#E1E5ED\", \"showgrid\": true, \"tickfont\": {\"color\": \"#4D5663\"}, \"title\": {\"font\": {\"color\": \"#4D5663\"}, \"text\": \"Chord\"}, \"zerolinecolor\": \"#E1E5ED\"}, \"yaxis\": {\"gridcolor\": \"#E1E5ED\", \"showgrid\": true, \"tickfont\": {\"color\": \"#4D5663\"}, \"title\": {\"font\": {\"color\": \"#4D5663\"}, \"text\": \"Occurence\"}, \"zerolinecolor\": \"#E1E5ED\"}},\n",
       "                        {\"showLink\": true, \"linkText\": \"Export to plot.ly\", \"plotlyServerURL\": \"https://plot.ly\", \"responsive\": true}\n",
       "                    ).then(function(){\n",
       "                            \n",
       "var gd = document.getElementById('5217b986-16bc-48dc-b762-1d5e2b843eba');\n",
       "var x = new MutationObserver(function (mutations, observer) {{\n",
       "        var display = window.getComputedStyle(gd).display;\n",
       "        if (!display || display === 'none') {{\n",
       "            console.log([gd, 'removed!']);\n",
       "            Plotly.purge(gd);\n",
       "            observer.disconnect();\n",
       "        }}\n",
       "}});\n",
       "\n",
       "// Listen for the removal of the full notebook cells\n",
       "var notebookContainer = gd.closest('#notebook-container');\n",
       "if (notebookContainer) {{\n",
       "    x.observe(notebookContainer, {childList: true});\n",
       "}}\n",
       "\n",
       "// Listen for the clearing of the current output cell\n",
       "var outputEl = gd.closest('.output');\n",
       "if (outputEl) {{\n",
       "    x.observe(outputEl, {childList: true});\n",
       "}}\n",
       "\n",
       "                        })\n",
       "                };\n",
       "                });\n",
       "            </script>\n",
       "        </div>"
      ]
     },
     "metadata": {},
     "output_type": "display_data"
    }
   ],
   "source": [
    "chord_distribution('chorus')"
   ]
  },
  {
   "cell_type": "markdown",
   "metadata": {},
   "source": [
    "### Distribution of unique chords"
   ]
  },
  {
   "cell_type": "markdown",
   "metadata": {},
   "source": [
    "We can also have a look at how many different chords each section use."
   ]
  },
  {
   "cell_type": "code",
   "execution_count": 31,
   "metadata": {},
   "outputs": [],
   "source": [
    "def unique_chords_section(section = 'verse'):\n",
    "    unique_chords = collection_df[collection_df.section_type == section].drop_duplicates().groupby(SONG_ID).count().title\n",
    "    n_bins = int(unique_chords.max()) + 1\n",
    "    unique_chords.plot.hist(bins = n_bins, legend = False)\n",
    "    title = 'Distribution of the number of unique chords per song in the ' + section\n",
    "    plt.title(title, fontsize = 20)\n",
    "    plt.xlabel('Number of unique chord', fontsize = 18)\n",
    "    plt.ylabel('Frequency', fontsize = 18)\n",
    "    plt.show()\n",
    "    \n",
    "    print(unique_chords.describe())"
   ]
  },
  {
   "cell_type": "code",
   "execution_count": 32,
   "metadata": {},
   "outputs": [
    {
     "data": {
      "image/png": "[encoded data removed]",
      "text/plain": [
       "<Figure size 432x288 with 1 Axes>"
      ]
     },
     "metadata": {
      "needs_background": "light"
     },
     "output_type": "display_data"
    },
    {
     "name": "stdout",
     "output_type": "stream",
     "text": [
      "count    858.000000\n",
      "mean      49.765734\n",
      "std       33.449311\n",
      "min        3.000000\n",
      "25%       32.000000\n",
      "50%       42.000000\n",
      "75%       60.000000\n",
      "max      224.000000\n",
      "Name: title, dtype: float64\n"
     ]
    }
   ],
   "source": [
    "unique_chords_section('verse')"
   ]
  },
  {
   "cell_type": "code",
   "execution_count": 33,
   "metadata": {},
   "outputs": [
    {
     "data": {
      "image/png": "[encoded data removed]",
      "text/plain": [
       "<Figure size 432x288 with 1 Axes>"
      ]
     },
     "metadata": {
      "needs_background": "light"
     },
     "output_type": "display_data"
    },
    {
     "name": "stdout",
     "output_type": "stream",
     "text": [
      "count    739.000000\n",
      "mean      49.468200\n",
      "std       33.289402\n",
      "min        8.000000\n",
      "25%       30.000000\n",
      "50%       42.000000\n",
      "75%       60.000000\n",
      "max      288.000000\n",
      "Name: title, dtype: float64\n"
     ]
    }
   ],
   "source": [
    "unique_chords_section('chorus')"
   ]
  },
  {
   "cell_type": "markdown",
   "metadata": {},
   "source": [
    "### Major/minor distribution in the chords"
   ]
  },
  {
   "cell_type": "markdown",
   "metadata": {},
   "source": [
    "Then we can look at the types of chords, be it major or minor. To do so, let's extract this information for each chord."
   ]
  },
  {
   "cell_type": "code",
   "execution_count": 129,
   "metadata": {},
   "outputs": [],
   "source": [
    "def GetMajorMinor(chord):\n",
    "    try: \n",
    "        if 'maj' in chord.split(':')[1]:\n",
    "            return 'major'\n",
    "        elif 'min' in chord.split(':')[1]:\n",
    "            return 'minor'\n",
    "    except:\n",
    "        return None "
   ]
  },
  {
   "cell_type": "code",
   "execution_count": 130,
   "metadata": {},
   "outputs": [],
   "source": [
    "collection_df['major_minor'] = collection_df.chord.map(lambda x: GetMajorMinor(x))"
   ]
  },
  {
   "cell_type": "code",
   "execution_count": 131,
   "metadata": {},
   "outputs": [],
   "source": [
    "def major_minor_section(section = 'verse'):\n",
    "    major = collection_df[collection_df.section_type == section]['major_minor'].value_counts().major\n",
    "    minor = collection_df[collection_df.section_type == section]['major_minor'].value_counts().minor\n",
    "    total = len(collection_df[collection_df.section_type == section]['major_minor'])\n",
    "    major_prop = 100 * major / total\n",
    "    minor_prop = 100 * minor / total\n",
    "    print('In the %s section, there are %0.2f%% major chords and %0.2f%% minor chords.' %(section, major_prop, minor_prop))\n",
    "    print('Proportion of missing values: %0.2f%%.' %(100 - 100 * (major + minor) / total))"
   ]
  },
  {
   "cell_type": "code",
   "execution_count": 132,
   "metadata": {},
   "outputs": [
    {
     "name": "stdout",
     "output_type": "stream",
     "text": [
      "In the verse section, there are 58.32% major chords and 20.99% minor chords.\n",
      "Proportion of missing values: 20.69%.\n"
     ]
    }
   ],
   "source": [
    "major_minor_section('verse')"
   ]
  },
  {
   "cell_type": "code",
   "execution_count": 133,
   "metadata": {},
   "outputs": [
    {
     "name": "stdout",
     "output_type": "stream",
     "text": [
      "In the chorus section, there are 63.62% major chords and 21.14% minor chords.\n",
      "Proportion of missing values: 15.24%.\n"
     ]
    }
   ],
   "source": [
    "major_minor_section('chorus')"
   ]
  },
  {
   "cell_type": "markdown",
   "metadata": {},
   "source": [
    "### Chord type distribution in the chords"
   ]
  },
  {
   "cell_type": "markdown",
   "metadata": {},
   "source": [
    "In this section we want to look at the different types of chords, as defined in http://ismir2005.ismir.net/proceedings/1080.pdf. Some are added by the authors of the dataset (marked with #added)."
   ]
  },
  {
   "cell_type": "code",
   "execution_count": 134,
   "metadata": {},
   "outputs": [],
   "source": [
    "chord_types = {\n",
    "    'Triad':{\n",
    "        'Major':'maj',\n",
    "        'Minor':'min',\n",
    "        'Diminished':'dim',\n",
    "        'Augmented':'aug'\n",
    "    },\n",
    "    'Seventh':{\n",
    "        'Major Seventh':'maj7',\n",
    "        'Minor Seventh':'min7',\n",
    "        'Seventh':'7',\n",
    "        'Diminished Seventh':'dim7',\n",
    "        'Half Diminished Seventh':'hdim7',\n",
    "        'Minor (Major Seventh)':'minmaj7'\n",
    "    },\n",
    "    'Sixth':{\n",
    "        'Major Sixth':'maj6',\n",
    "        'Minor Sixth':'min6'\n",
    "    },\n",
    "    'Extended':{\n",
    "        'Ninth':'9',\n",
    "        'Major Ninth':'maj9',\n",
    "        'Minor Ninth':'min9',\n",
    "        'Eleventh':'11', #added\n",
    "        'Major Eleventh':'maj11', #added\n",
    "        'Minor Eleventh':'min11', #added\n",
    "        'Thirteenth':'13', #added\n",
    "        'Major Thirteenth':'maj13', #added\n",
    "        'Minor Thirteenth':'min13' #added\n",
    "    },\n",
    "    'Suspended':{\n",
    "        'Suspended 4th':'sus4',\n",
    "        'Suspended 2nd':'sus2' #added\n",
    "    },\n",
    "    'Unharmonised':'1', #added\n",
    "    'Power':'5' #added\n",
    "}"
   ]
  },
  {
   "cell_type": "code",
   "execution_count": 148,
   "metadata": {},
   "outputs": [
    {
     "data": {
      "text/plain": [
       "array([nan, 'A:min', 'C:maj', 'F:maj', 'D:maj', 'G:maj', 'A:maj',\n",
       "       'Ab:maj', 'Db:maj/5', 'G:hdim7', 'C:7', 'F:min', 'C:7/5',\n",
       "       'F:min/b3', 'Bb:min7', 'Eb:7', 'C:min7', 'Eb:11', 'Eb:maj', 'Ab:7',\n",
       "       'Db:maj', 'Ab:maj7', 'Gb:maj', 'Db:maj7', 'Gb:maj(9)', 'Gb:7',\n",
       "       'F:min7', 'C:5', 'G:maj/3', 'F:maj/3', 'C:maj/7', 'F:sus2/3',\n",
       "       'F:maj/9', 'G:7', 'C:maj(9)', 'G:maj(9)', 'F:maj(9)', 'E:min/5',\n",
       "       'A:min(11)', 'A:maj(11)/b7', 'E:min', 'D:min', 'G:min7', 'C:maj/5',\n",
       "       'Bb:maj/5', 'F:maj/5', 'D:min7', 'C:maj/3', 'N', 'F#:min',\n",
       "       'A:maj/b7', 'A:maj/13', 'A:maj/5', 'F#:maj', 'A:maj6', 'Db:min(9)',\n",
       "       'Gb:maj6(b7)', 'Eb:7(#9)', 'E:7', 'G:maj/11', 'A:min/b3', 'C:min',\n",
       "       'Bb:maj', 'F:sus2', 'G:min7/5', 'F:min9', 'A:hdim7/b5', 'G:11',\n",
       "       'Bb:min', 'Eb:min', 'Gb:maj6', 'Gb:maj/5', 'Gb:maj/9', 'Bb:min/b7',\n",
       "       'Db:7', 'G:maj/5', 'B:min', 'D#:dim', 'D:maj/3', 'G:maj7',\n",
       "       'C:maj7', 'B:sus4(b7,9)', 'B:7', 'E:min7', 'A:sus4(b7)', 'A:7',\n",
       "       'C:maj6', 'D:maj/b7', 'D:maj7', 'E:maj/3', 'C#:sus4(b7,9)', 'C#:7',\n",
       "       'F#:min7', 'B:sus4(b7)', 'E:maj', 'D:maj6', 'C#:min7', 'D:maj13',\n",
       "       '&pause', 'D:min/5', 'D:7', 'G:maj/b7', 'B:maj', 'B:sus4',\n",
       "       'B:maj/5', 'F#:sus4(b7)', 'F#:maj/3', 'D#:dim/b5', 'E:min/b3',\n",
       "       'F#:7', 'E:7(#9)', 'C:sus4', '*', 'F#:hdim7', 'D:maj/5', 'C#:min',\n",
       "       'B:min7/5', 'B:min7', 'G:min', 'F:min/5', 'G:sus4', 'C:7(#9)',\n",
       "       'Eb:5', 'F:5', 'G:5', 'Bb:5', 'F#:5', 'F:7', 'Bb:7', 'D:5', 'Ab:5',\n",
       "       'Db:5', 'A:5', 'B:5', 'C:1', 'F#:1', 'F#:min/11', 'D:sus2(b7)',\n",
       "       'Eb:maj/3', 'B:maj7', 'Ab:min7', 'Db:maj/9', 'Bb:sus4(b7)',\n",
       "       'A:min7', 'D:1', 'D:sus4', 'G:sus4(b7,9)', 'E:sus4(b7,9)',\n",
       "       'A:maj9', 'E:sus4(b7)', 'G#:hdim7', 'C#:sus4(b7)', 'F#:minmaj7',\n",
       "       'E:maj7', 'C:aug(b7)', 'E:maj/5', 'G:dim', 'B:9', 'B:min7/b7',\n",
       "       'A:maj6/3', 'A:maj7/5', 'A:9', 'B:hdim7', 'A:11', 'A:13',\n",
       "       'C:sus2/9', 'F:maj/13', 'C:maj/9', 'F:5/13', 'Eb:maj(9)',\n",
       "       'C:sus4(b7,9)', 'D:sus4(b7,9)', 'Eb:9', 'Bb:sus4(b7,9)', 'Bb:maj6',\n",
       "       'A:1', 'E:min9', 'Bb:1', 'D:hdim7', 'B:dim', 'F:sus4(b7)', 'C:9',\n",
       "       'G:13', 'G:maj/b3', 'G:sus4(b7)', 'G:9(b13)', 'C:min9', 'F:9',\n",
       "       'Eb:min9', 'Bb:maj7', 'Bb:aug', 'A:1(b5,b7,3)/b5', 'D:maj/9',\n",
       "       'E:5', 'A:sus4/5', 'G:min9', 'Ab:maj(9)', 'F:min7(11)',\n",
       "       'G:sus4/11', 'E:7/3', 'D:min/13', 'D:7(#9)', 'Bb:maj/3', 'C#:maj',\n",
       "       'Eb:maj/5', 'F:maj/11', 'C:maj/11', 'G:maj/9', 'Ab:1', 'G:1',\n",
       "       'Ab:min9', 'Db:9', 'F#:min9', 'A:9/5', 'C:9(13,#11)', 'Bb:9',\n",
       "       'G:maj9', 'A:maj/9', 'E:min9/9', 'B:1', 'E:1', 'A:1(11,9)',\n",
       "       'A#:dim', 'A:sus4', 'E:1(b5,b7,3)/b5', 'G:maj7/9', 'B:5(b7)',\n",
       "       'G:9', 'D:maj6(b7,11)', 'Ab:maj/5', 'Ab:sus4/5', 'C:5(b7)',\n",
       "       'C:5(13)', 'F:maj9', 'Bb:maj(9)', 'Eb:maj9', 'G:min7/11',\n",
       "       'Eb:maj7', 'Bb:11', 'Db:11', 'Gb:maj7', 'B:11', 'Gb:min7',\n",
       "       'Fb:maj7', 'Ab:11', 'F:maj/7', 'A:min/b7', 'F:maj7', 'C:sus2',\n",
       "       'Bb:maj6(9)', 'G:min11/b3', 'G:min6', 'G:7/3', 'Ab:5/5', 'C:maj9',\n",
       "       'F:maj6(9)', 'G:maj/7', 'A:min/5', 'A:min7(11)', 'A:7(b9)',\n",
       "       'C#:dim7/b3', 'A:7/3', 'C:sus4(b7)', 'Ab:maj/3', 'G:min7/b7',\n",
       "       'Ab:maj/9', 'D:sus2', 'E:1(b3,b7,11,9)', 'F#:min7/b7', 'D:sus2/9',\n",
       "       'G#:min', 'D#:min', 'G#:min7', 'B:maj(9)', 'D#:min7', 'B:maj/3',\n",
       "       'F#:sus4', 'G#:sus4', 'Ab:sus4(b7,9)', 'Bb:sus4(b7,9,13)',\n",
       "       'Ab:7(b9)', 'Eb:maj6', 'Ab:maj9', 'Ab:maj6', 'Ab:min(9)', 'Ab:min',\n",
       "       'F:sus4(b7,9)', 'Bb:7(b9)', 'A:maj(9)', 'D:min6/5', 'A:1(#5)',\n",
       "       'G:min/5', 'G:5(b7)', 'D:min6', 'E:maj/11', 'A:sus2(b7)',\n",
       "       'D:maj6(9)/5', 'D:min9/5', 'F#:min/7', 'F#:min/b7', 'C#:hdim7',\n",
       "       'C:min/5', 'Bb:maj/b7', 'Eb:min/b3', 'G#:7', 'A#:dim7', 'D:7/5',\n",
       "       'F#:min/b1', 'F#:maj6/13', 'B:sus2(b7)', 'E:sus4', 'D:maj/13',\n",
       "       'G:maj(9)/3', 'Eb:sus4', 'Db:maj6', 'D:maj/11', 'C:aug(b7,9)',\n",
       "       'E:7/5', 'Bb:1(b5,b7,3)', 'E:dim', 'C#:min/b7', 'A:maj7',\n",
       "       'B:maj/11', 'B:7/3', 'E:min/b7', 'F:1', 'Db:min', 'A:1(b7)/b7',\n",
       "       'A:1(13)/13', 'F:1(3)', 'A:min(9)', 'A:maj/3', 'F#:maj/9',\n",
       "       'G#:maj', 'B:maj/9', 'B:maj/b7', 'Ab:9', 'Db:maj/3', 'Bb:maj/9',\n",
       "       'D:sus4(b7)', 'Gb:min', 'Gb:min/3', 'Ab:7(#9)', 'Ab:maj6(b7)',\n",
       "       'Db:maj13', 'C#:5', 'A:min/13', 'D:min(9)', 'C:min(9)',\n",
       "       'B:7(b9,b13)', 'G:7/b3', 'Ab:sus4', 'Ab:sus2', 'Gb:1', 'Eb:1',\n",
       "       'Bb:sus4', 'C#:1', 'F#:min/5', 'C#:min(9)', 'G:maj6', 'C#:min/3',\n",
       "       'A:maj/7', 'D:maj/7', 'Db:maj7/7', 'B:aug', 'Eb:dim',\n",
       "       'D:sus4(b7)/9', 'D:hdim7/b3', 'D:7/3', 'C:min6', 'D:9', 'D:maj(9)',\n",
       "       'G#:maj/5', 'Bb:min/5', 'A:5(b7)', 'B:min/11', 'G:maj/13',\n",
       "       'G:sus4(b7,9,13)', 'A:7/11', 'B:dim/b3', 'G:sus4/5', 'C#:dim',\n",
       "       'A:7/5', 'D:maj7/3', 'Eb:aug', 'F:maj6', 'D:maj9', 'D:maj(b9)',\n",
       "       'D:maj/b3', 'E:sus4(9)', 'F#:9', 'A:sus4(b7,9)', 'G:maj6(7)',\n",
       "       'G:minmaj7', 'Eb:7/3', 'A:dim7', 'Eb:7/5', 'F:min7/5', 'C:7/b7',\n",
       "       'F:13', 'A:7(#11)', 'Db:7(#11)', 'Bb:maj7/7', 'E:maj/b7',\n",
       "       'Bb:maj/7', 'C:11', 'D:min/b7', 'G:min7(11)', 'C:maj(11)',\n",
       "       'G:maj/#11', 'B:min/b7', 'B:min(9)', 'E:sus2', 'A:1(11)',\n",
       "       'Bb:1(3)', 'Bb:maj(9)/3', 'D:1(#5)', 'G:sus4(b7)/11', 'A:min7/b3',\n",
       "       'F#:dim', 'E:hdim7/b7', 'D:7/b7', 'C#:min7/b3', 'C:dim',\n",
       "       'A:maj(9)/5', 'B:min7/11', 'G#:maj/b9', 'D#:dim/b9', 'B:min7/b3',\n",
       "       'D:maj6(7)', 'E:7(b9)', 'D:min6(7)', 'Ab:7/11', 'Eb:min7',\n",
       "       'A:maj/11', 'B:min/b3', 'A:7/9', 'A:7/b7', 'A:7/13',\n",
       "       'G:maj(11)/11', 'G:min/11', 'D:min7/11', 'Db:1', 'F:hdim7',\n",
       "       'Eb:min7/b7', 'C:9(#11)', 'Cb:maj7', 'Gb:maj9', 'Cb:7(#11)',\n",
       "       'Bb:7(#9)', 'C:hdim7', 'Eb:maj/11', 'Db:maj(9)/5', 'D:maj(#9)',\n",
       "       'A:maj(#9)', 'A:sus4(b7,9,13)', 'C:7/3', 'Gb:maj6(9)', 'F:min/b7',\n",
       "       'Eb:sus4(b7)', 'Eb:sus4(b7,9)', 'G:maj6/3', 'F#:min11', 'B:maj/7',\n",
       "       'B:7/b7', 'D:min/b3', 'B:min(11)', 'D:dim', 'Db:dim', 'E:7/b7',\n",
       "       'A:5(b7)/b7', 'A:5(b7)/9', 'A:5(b7)/3', 'F:maj6(9)/3', 'G:min11',\n",
       "       'E:9/3', 'E:9', 'D:maj6/3', 'B:min9', 'B:13', 'B:7(b9)/b9',\n",
       "       'E:aug(7)', 'A:min6', 'E:aug', 'C#:7(b9)', 'E:aug(b7)', 'F:aug',\n",
       "       'D:7(b9)', 'F:7/b7', 'Bb:min6', 'F:dim/#11', 'D#:maj/b13',\n",
       "       'B:maj6', 'C:dim/7', 'F#:1(b5,b7,3)', 'C:1(b5,b7,3)',\n",
       "       'Eb:1(b5,b7,3)', 'G:1(b5,b7,3)', 'A:1(b5,b7,3)', 'C#:min9',\n",
       "       'G#:sus4(b7)', 'G#:7(#9)', 'G#:7(b9)', 'F:maj/b7', 'Db:min7',\n",
       "       'C#:5(b13)', 'C#:min(b13)', 'C#:min(11)', 'Eb:maj/b7', 'Eb:min/b7',\n",
       "       'Eb:hdim7/b7', 'F:hdim7/b7', 'E:min(9)', 'D:11', 'A:min9',\n",
       "       'C:sus4(9)', 'F:sus4(9)', 'F:min(9)', 'Eb:7/b7', 'F:7(b9)',\n",
       "       'Db:maj9', 'Bb:min9', 'A:7(#9)', 'Gb:maj/3', 'B:min/5', 'F#:maj/5',\n",
       "       'D#:7', 'D#:sus4(b7)', 'F#:dim7', 'D:min9', 'F:sus4', 'D:min11',\n",
       "       'E:min11', 'C:maj(9)/3', 'Eb:min/5', 'Ab:sus2(b7)', 'F:maj7/11',\n",
       "       'G:aug', 'G:aug(b7)', 'C:aug', 'E:min/9', 'E:min9/b3', 'E:min9/11',\n",
       "       'D:min/9', 'D:min7/b3', 'E:maj/7', 'Cb:7', 'Cb:maj', 'D:min6/9',\n",
       "       'G#:min/7', 'G#:min/bb7', 'C#:9', 'F#:sus4(b7,9)', 'B:maj/13',\n",
       "       'E:min6/9', 'A:min7/5', 'C:maj/13', 'E:min/11', 'Ab:sus4(b7)',\n",
       "       'Cb:maj(9)', 'D:min7/5', 'C:sus4/11', 'F:maj6/9', 'Bb:sus4(9)/7',\n",
       "       'Bb:sus4(9)', 'Eb:sus4(b7,9,#11)', 'Eb:maj(#11)', 'F:7/3',\n",
       "       'A:min(9)/b7', 'A:min(9)/13', 'A:min/b13', 'C#:5(b7)', 'F#:min6',\n",
       "       'C#:7(#9)', 'F:maj7/3', 'E:7(b9)/11', 'Eb:min6(#11)',\n",
       "       'Eb:maj9(13,#11)', 'Eb:maj6(9)', 'Ab:maj6(9)', 'Ab:maj(9)/3',\n",
       "       'Ab:maj(9)/13', 'Ab:13', 'Db:maj6(9)', 'E:maj6(9)', 'F#:11',\n",
       "       'C#:maj/b11', 'B:sus4/b7', 'C#:min/5', 'Fb:5(b7)', 'Fb:maj',\n",
       "       'B:min11/5', 'C#:min7/11', 'C#:hdim7/11', 'Gb:7/5', 'Eb:min6/5',\n",
       "       'Ab:maj6/9', 'Eb:maj/9', 'C:minmaj7', 'Ab:7(b13)', 'Eb:min7(b13)',\n",
       "       'B:min(11)/7', 'D#:maj', 'Bb:maj9', 'D:maj7(#11)', 'Db:sus4(b7,9)',\n",
       "       'E:sus4(b7,9,13)', 'D:maj(9)/3', 'A:sus2', 'G:min/b3', 'D:min13',\n",
       "       'Eb:maj/7', 'F:maj13', 'Eb:min11', 'Ab:min11', 'Eb:min13',\n",
       "       'Ab:min/5', 'A:dim', 'G:7/5', 'C:maj/b7', 'Bb:maj7/3',\n",
       "       'D:min(b13)', 'Cb:maj/5', 'Ab:7/5', 'Ab:7/b7', 'F:min7/b3',\n",
       "       'Bb:7/5', 'Db:maj(9)', 'Ab:maj/11', 'Ab:maj6/11', 'Db:maj/11',\n",
       "       'Gb:maj(9)/9', 'Eb:min7(11)', 'Db:sus4(9)', 'Bb:aug(b7)', 'F:9/3',\n",
       "       'G:9/3', 'G:9/5', 'D:minmaj7', 'F#:hdim7/b3', 'A:minmaj7',\n",
       "       'D:7(#11)', 'Eb:minmaj7', 'B:maj/b11', 'Ab:dim7/9', 'Bb:minmaj7',\n",
       "       'Db:sus4', 'Db:maj/7', 'Eb:min7/11', 'Cb:maj/9', 'E:min7/b3',\n",
       "       'Ab:7(b9,b13)', 'Bb:dim', 'Db:aug', 'Cb:9', 'F:7/5', 'B:7(b9)/3',\n",
       "       'F#:7/5', 'C:7(b9)/3', 'E:dim7', 'G:dim7', 'A:aug', 'E:5(b7)',\n",
       "       'D:maj7/9', 'G:sus4(9)', 'E:min7(11)', 'B:7(b13)', 'C:maj9/3',\n",
       "       'F#:min/b3', 'G:maj7/3', 'E:min7/5', 'E:maj/9', 'F#:min(b13)',\n",
       "       'E:maj6/13', 'C:maj6(9)', 'E:hdim7', 'D:min9/b7', 'Cb:maj9',\n",
       "       'Eb:min9/b7', 'G#:dim', 'Cb:maj7(#11)', 'Eb:min(b13)', 'Eb:min6',\n",
       "       'Db:maj/b7', 'Gb:maj(11)', 'F:1(b5,11)', 'Bb:5(b7)/5',\n",
       "       'F#:maj(11)', 'G:maj(11)', 'F#:sus4/b7', 'C#:dim7', 'C:7(11)',\n",
       "       'Ab:dim', 'A:maj(9)/3', 'F:maj(9)/5', 'Bb:7(#11)',\n",
       "       'Bb:sus4(b7)/11', 'A:7(b9)/5', 'A:7(b9)/b7', 'Eb:maj7(#11)/3',\n",
       "       'C:min7(11)', 'Db:sus4(b7)', 'Gb:sus2', 'G#:1', 'F#:maj/b3',\n",
       "       'E:min6', 'B:dim/b7', 'Gb:5', 'A#:maj', 'C#:7/11', 'F:min/11',\n",
       "       'E:maj/b5', 'G:7(#9)', 'Bb:7(b9,b13)', 'A#:1', 'B:min/13',\n",
       "       'E:7(b13)/3', 'E:hdim7/b3', 'A:7(b9,b13)', 'B:dim(b13)',\n",
       "       'D:7(b9,#11)', 'G:7(b13)', 'Ab:min7/11', 'F#:7/3', 'D:maj7/5',\n",
       "       'Bb:maj6(7,#11)', 'C:sus4(b7,9,13)', 'C#:1(b3,b7,11,9)', 'C:13',\n",
       "       'F#:aug(b7)', 'D:1(11)', 'C:1(11)', 'Bb:5/9', 'G:7/b5', 'F:min6',\n",
       "       'F:min(b13)', 'Bb:min/9', 'Ab:min/b3', 'Db:sus2', 'Fb:1(3,7)',\n",
       "       'Ab:5/b7', 'Gb:maj/b7', 'B:7(11)', 'G:7(b9)', 'Ab:maj/b7',\n",
       "       'Ab:maj/13', 'E:minmaj7/5', 'Ab:maj7/3', 'F:min9/11', 'G:maj(9)/5',\n",
       "       'A:min11', 'C:min(9)/5', 'F:sus2(b7)', 'C:min6/b3', 'C:min6/9',\n",
       "       'F:1(b3)', 'Ab:min6', 'Ab:min(b13)', 'Db:min9', 'Eb:7(b13)',\n",
       "       'C:maj/#11', 'Db:maj6/5', 'Gb:maj7/9', 'Bb:hdim7', 'Eb:7(b13,#9)',\n",
       "       'Db:hdim7', 'A:9(13)', 'F:5(b7)', 'E:maj(11)', 'E:maj(#9)',\n",
       "       'B:sus4(b7)/11', 'E:maj6', 'C#:7(b9)/3', 'G:maj13', 'Eb:maj13',\n",
       "       'Bb:maj13', 'F:maj9/11', 'Eb:maj(b9)', 'Eb:maj7(#11)', 'C:maj13',\n",
       "       'Ab:maj/7', 'A:7(b9)/3', 'Ab:hdim7', 'Gb:dim', 'C:7(b9)',\n",
       "       'F#:7/b9', 'F#:min7(11)', 'G#:min7(11)', 'B:7(b9)', 'E:maj9',\n",
       "       'A:maj7/7', 'F:7(#9)', 'B:maj9', 'G#:sus4(b7,9)', 'C:maj(#11)',\n",
       "       'Bb:maj6/5', 'Db:maj6(9)/5', 'B:maj6/5', 'B:aug/5', 'A:maj6(9)',\n",
       "       'C:maj6/5', 'F:min6/b3', 'F:maj6/3', 'F:maj(#11)', 'B:maj7(b7)/3',\n",
       "       'C:sus4/7', 'G:sus4/9', 'C:5/5', 'A:min7/11', 'D:min/11',\n",
       "       'F:7(#11)', 'A:min9(b13)', 'A:min/11', 'C:min7/b3', 'A:maj9/3',\n",
       "       'B:7/5', 'F:11', 'B:min(11)/b7', 'B:min(11)/11', 'E:11',\n",
       "       'C:min/b3', 'Db:maj(11)', 'Gb:maj9(#11)', 'Eb:13', 'Bb:sus2',\n",
       "       'A:5/13', 'B:5/5', 'E:maj(9)/3', 'A:min7/b7', 'A:min7/13',\n",
       "       'Db:7/5', 'Eb:7(b9)/3', 'G:maj6/b5', 'D:7/b11', 'D:sus4(b7)/5',\n",
       "       'Bb:7/3', 'Db:min/5', 'F:sus4(b7,9)/9', 'Ab:maj7/7',\n",
       "       'Bb:minmaj7/7', 'Bb:min7/b7', 'Gb:13', 'E:min(b13)', 'C:min11',\n",
       "       'G:maj7/5', 'F#:maj(9)', 'C#:min11', 'G:5/11', 'F:dim',\n",
       "       'D:maj9(13)', 'A:maj6/5', 'G#:min(11)', 'F#:maj6', 'F:maj7/7',\n",
       "       'C:maj6/3', 'C:sus4/5', 'E:7/b3', 'Ab:maj13', 'C:7(b9)/b9',\n",
       "       'Cb:min6', 'Gb:maj6/5', 'Ab:maj6(7)', 'Cb:1', 'Db:7/11', 'Db:7/3',\n",
       "       'B:maj6(b7)', 'Ab:7/3', 'Bb:maj/13', 'B:maj/b13', 'F:min6/5',\n",
       "       'E:7(#11)', 'B:min7/b9', 'B:aug(b7)/3', 'F:min6(9)/5', 'B:7(#9)',\n",
       "       'B:min11', 'G:min7/9', 'C:7/13', 'C#:min11/b3', 'F#:maj/13',\n",
       "       'D:maj6/9', 'F#:sus4(b13,b7)', 'F#:7(b13)', 'F#:hdim7/b5',\n",
       "       'B:min(11,9)', 'E:min(11,9)', 'G:hdim7/b5', 'C:maj6(7)',\n",
       "       'Eb:maj6(7)', 'E:1(3)/3', 'B:7(#11)', 'Bb:min7(11)', 'F:aug(9)',\n",
       "       'Ab:min7/5', 'Ab:maj6/5', 'B:maj/bb13', 'Db:dim/b3', 'E:sus4/9',\n",
       "       'G:5/5', 'C:1(3)/9', 'D:5/5', 'A:maj7(#11)', 'C#:min9/b7',\n",
       "       'G#:min9', 'B:maj6(b9)', 'G:7/13', 'G:7/b7', 'F:maj6/5',\n",
       "       'C:sus2/5', 'D:maj6(9)', 'F#:maj(9)/3', 'A:sus4(9)', 'E:maj7/5',\n",
       "       'F:9(#11)', 'A:hdim7', 'Bb:maj6/b7', 'F:min11', 'F:sus4(b7)/b7',\n",
       "       'Eb:maj7/5', 'Eb:maj7(#5)', 'C#:sus2(b7)', 'C:min/13', 'F:7/9',\n",
       "       'G:sus2', 'Bb:min11', 'Gb:maj13', 'Bb:min11/b7', 'B:min11/b7',\n",
       "       'G:maj6(9)', 'C:min/b7', 'D:5(b7)', 'Eb:maj6/5', 'Eb:sus2',\n",
       "       'Eb:min(9)', 'F#:7/b7', 'F#:7/13', 'B:7/13', 'E:sus2(b7)',\n",
       "       'E:1(b3,b7)/b7', 'A:5/11', 'D:min11/5', 'F:min7/11', 'F:min7/9',\n",
       "       'F:minmaj7', 'Db:minmaj7/5', 'A:dim/b5', 'A:dim/b3', 'A:9/3',\n",
       "       'C:maj9(#11)', 'Bb:9/3', 'Db:maj9(#11)', 'Bb:sus4(b7)/b7', 'Bb:13',\n",
       "       'G:maj7(#9)', 'E:min(9)/7', 'A:maj7/9', 'Bb:hdim7/b5',\n",
       "       'Eb:sus4(b7,9)/5', 'B:maj6/3', 'C:sus2(#11)', 'D:sus4/b7',\n",
       "       'E:dim/b5', 'F:sus4/5', 'Bb:maj7/9', 'Eb:maj/13', 'G:7/11',\n",
       "       'F:9/5', 'A:maj9(#11)', 'Db:7/b7', 'D:min(11)', 'Eb:maj(9,#11)',\n",
       "       'D:min7/b7', 'Ab:1(b7)', 'Db:1(b7)', 'Gb:1(b7)', 'Ab:min(11)',\n",
       "       'Db:5(b7)', 'Ab:maj7/9'], dtype=object)"
      ]
     },
     "execution_count": 148,
     "metadata": {},
     "output_type": "execute_result"
    }
   ],
   "source": [
    "collection_df.chord.unique()"
   ]
  },
  {
   "cell_type": "markdown",
   "metadata": {},
   "source": [
    "### Root distribution in the chords"
   ]
  },
  {
   "cell_type": "markdown",
   "metadata": {},
   "source": [
    "We can also look at the root of the chords used. Thanks to the notation used in this dataset, these are easily identifiable."
   ]
  },
  {
   "cell_type": "code",
   "execution_count": 42,
   "metadata": {},
   "outputs": [],
   "source": [
    "def GetRoot(chord):\n",
    "    try:\n",
    "        root = chord.split(':')[0]\n",
    "        return root\n",
    "    except:\n",
    "        return np.nan"
   ]
  },
  {
   "cell_type": "code",
   "execution_count": 48,
   "metadata": {},
   "outputs": [],
   "source": [
    "collection_df['root'] = collection_df['chord'].map(lambda x: GetRoot(x))"
   ]
  },
  {
   "cell_type": "code",
   "execution_count": 114,
   "metadata": {},
   "outputs": [
    {
     "data": {
      "image/png": "[encoded data removed]",
      "text/plain": [
       "<Figure size 1152x504 with 1 Axes>"
      ]
     },
     "metadata": {
      "needs_background": "light"
     },
     "output_type": "display_data"
    }
   ],
   "source": [
    "root_dist = collection_df.root.value_counts()\n",
    "#We remove the non-roots notation elements\n",
    "root_dist.drop(['*','&pause','N'], inplace = True)\n",
    "root_dist.plot(kind = 'bar')\n",
    "plt.title('Root distribution of the chords in the whole songs', fontsize = 20)\n",
    "plt.xlabel('Root', fontsize = 18)\n",
    "plt.xticks(rotation = 'horizontal')\n",
    "plt.ylabel('Count', fontsize = 18)\n",
    "plt.show()"
   ]
  },
  {
   "cell_type": "code",
   "execution_count": 123,
   "metadata": {},
   "outputs": [],
   "source": [
    "def root_distribution_section(section = 'verse', index = 1):\n",
    "    root_dist = collection_df[collection_df.section_type == section].root.value_counts()\n",
    "    #We remove the non-roots notation elements\n",
    "    extra_notations = ['*','&pause','N']\n",
    "    for notation in extra_notations:\n",
    "        if notation in root_dist.index:\n",
    "            root_dist.drop(notation, inplace = True) \n",
    "    \n",
    "    #Plot\n",
    "    plt.subplot(2, 1, index)\n",
    "    root_dist.map(lambda x: 100 * x / root_dist.sum()).plot(kind = 'bar')\n",
    "    title = 'Root distribution of the chords in the ' + section\n",
    "    plt.title(title, fontsize = 20)\n",
    "    plt.xlabel('Root', fontsize = 18)\n",
    "    plt.xticks(rotation = 'horizontal')\n",
    "    plt.ylabel('Proportion [%]', fontsize = 18)\n",
    "    plt.show()"
   ]
  },
  {
   "cell_type": "code",
   "execution_count": 128,
   "metadata": {},
   "outputs": [
    {
     "data": {
      "image/png": "[encoded data removed]",
      "text/plain": [
       "<Figure size 1152x504 with 1 Axes>"
      ]
     },
     "metadata": {
      "needs_background": "light"
     },
     "output_type": "display_data"
    },
    {
     "data": {
      "image/png": "[encoded data removed]",
      "text/plain": [
       "<Figure size 1152x504 with 1 Axes>"
      ]
     },
     "metadata": {
      "needs_background": "light"
     },
     "output_type": "display_data"
    }
   ],
   "source": [
    "root_distribution_section('verse', 1)\n",
    "root_distribution_section('chorus', 2)"
   ]
  },
  {
   "cell_type": "code",
   "execution_count": null,
   "metadata": {},
   "outputs": [],
   "source": []
  }
 ],
 "metadata": {
  "kernelspec": {
   "display_name": "Python 3",
   "language": "python",
   "name": "python3"
  },
  "language_info": {
   "codemirror_mode": {
    "name": "ipython",
    "version": 3
   },
   "file_extension": ".py",
   "mimetype": "text/x-python",
   "name": "python",
   "nbconvert_exporter": "python",
   "pygments_lexer": "ipython3",
   "version": "3.7.4"
  }
 },
 "nbformat": 4,
 "nbformat_minor": 4
}
